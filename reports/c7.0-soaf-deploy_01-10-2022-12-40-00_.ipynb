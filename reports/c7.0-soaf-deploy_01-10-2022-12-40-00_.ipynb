{
 "cells": [
  {
   "cell_type": "markdown",
   "id": "931523ab",
   "metadata": {
    "papermill": {
     "duration": 0.046997,
     "end_time": "2022-10-01T15:48:07.570589",
     "exception": false,
     "start_time": "2022-10-01T15:48:07.523592",
     "status": "completed"
    },
    "tags": []
   },
   "source": [
    "# High Value Customer Identification"
   ]
  },
  {
   "cell_type": "markdown",
   "id": "2d71cea6",
   "metadata": {
    "heading_collapsed": true,
    "papermill": {
     "duration": 0.019014,
     "end_time": "2022-10-01T15:48:07.620596",
     "exception": false,
     "start_time": "2022-10-01T15:48:07.601582",
     "status": "completed"
    },
    "tags": []
   },
   "source": [
    "# 0.0 Imports"
   ]
  },
  {
   "cell_type": "code",
   "execution_count": 1,
   "id": "30cd2ec5",
   "metadata": {
    "ExecuteTime": {
     "end_time": "2022-08-07T17:19:52.538335Z",
     "start_time": "2022-08-07T17:19:52.524353Z"
    },
    "execution": {
     "iopub.execute_input": "2022-10-01T15:48:07.642594Z",
     "iopub.status.busy": "2022-10-01T15:48:07.641593Z",
     "iopub.status.idle": "2022-10-01T15:48:11.242596Z",
     "shell.execute_reply": "2022-10-01T15:48:11.242596Z"
    },
    "hidden": true,
    "papermill": {
     "duration": 3.613991,
     "end_time": "2022-10-01T15:48:11.244584",
     "exception": false,
     "start_time": "2022-10-01T15:48:07.630593",
     "status": "completed"
    },
    "scrolled": true,
    "tags": []
   },
   "outputs": [],
   "source": [
    "import os\n",
    "import s3fs\n",
    "import pickle\n",
    "import sqlite3\n",
    "import psycopg2 as pg\n",
    "import regex    as re\n",
    "import numpy    as np\n",
    "import pandas   as pd\n",
    "\n",
    "from sqlalchemy          import create_engine\n",
    "from umap                import umap_         as umap\n",
    "from sklearn             import ensemble      as en\n",
    "from sklearn             import metrics       as m\n",
    "from sklearn             import preprocessing as pp\n",
    "from scipy.cluster       import hierarchy     as hc"
   ]
  },
  {
   "cell_type": "markdown",
   "id": "80ead6f6",
   "metadata": {
    "hidden": true,
    "papermill": {
     "duration": 0.01,
     "end_time": "2022-10-01T15:48:11.264582",
     "exception": false,
     "start_time": "2022-10-01T15:48:11.254582",
     "status": "completed"
    },
    "tags": []
   },
   "source": [
    "## 0.2 Load Data"
   ]
  },
  {
   "cell_type": "code",
   "execution_count": 2,
   "id": "2038ea45",
   "metadata": {
    "execution": {
     "iopub.execute_input": "2022-10-01T15:48:11.286584Z",
     "iopub.status.busy": "2022-10-01T15:48:11.286584Z",
     "iopub.status.idle": "2022-10-01T15:48:15.355979Z",
     "shell.execute_reply": "2022-10-01T15:48:15.355979Z"
    },
    "papermill": {
     "duration": 4.083394,
     "end_time": "2022-10-01T15:48:15.357978",
     "exception": false,
     "start_time": "2022-10-01T15:48:11.274584",
     "status": "completed"
    },
    "tags": []
   },
   "outputs": [],
   "source": [
    "#path_local = 'F:/SamuelOliveiraAlvesd/Desktop/Data_Science/Projetos/insiders_clustering'\n",
    "\n",
    "# Get credentials from acess in AWS\n",
    "aws =  open('/.aws/credentials', 'r')\n",
    "os.environ[\"AWS_ACCESS_KEY_ID\"] = aws.readlines()[0][:-1]\n",
    "\n",
    "aws =  open('/.aws/credentials', 'r')\n",
    "os.environ[\"AWS_SECRET_ACCESS_KEY\"] = aws.readlines()[1]\n",
    "\n",
    "path_s3 = 's3://insiders-ds/Ecommerce.csv'\n",
    "\n",
    "# Read files\n",
    "data_raw = pd.read_csv(path_s3, low_memory=False, encoding='cp1252')"
   ]
  },
  {
   "cell_type": "markdown",
   "id": "981d6e99",
   "metadata": {
    "papermill": {
     "duration": 0.010008,
     "end_time": "2022-10-01T15:48:15.378985",
     "exception": false,
     "start_time": "2022-10-01T15:48:15.368977",
     "status": "completed"
    },
    "tags": []
   },
   "source": [
    "# 1.0 Descrição dos dados"
   ]
  },
  {
   "cell_type": "code",
   "execution_count": 3,
   "id": "d559ef06",
   "metadata": {
    "execution": {
     "iopub.execute_input": "2022-10-01T15:48:15.401978Z",
     "iopub.status.busy": "2022-10-01T15:48:15.400967Z",
     "iopub.status.idle": "2022-10-01T15:48:15.451995Z",
     "shell.execute_reply": "2022-10-01T15:48:15.451995Z"
    },
    "papermill": {
     "duration": 0.064016,
     "end_time": "2022-10-01T15:48:15.453984",
     "exception": false,
     "start_time": "2022-10-01T15:48:15.389968",
     "status": "completed"
    },
    "tags": []
   },
   "outputs": [
    {
     "data": {
      "text/html": [
       "<div>\n",
       "<style scoped>\n",
       "    .dataframe tbody tr th:only-of-type {\n",
       "        vertical-align: middle;\n",
       "    }\n",
       "\n",
       "    .dataframe tbody tr th {\n",
       "        vertical-align: top;\n",
       "    }\n",
       "\n",
       "    .dataframe thead th {\n",
       "        text-align: right;\n",
       "    }\n",
       "</style>\n",
       "<table border=\"1\" class=\"dataframe\">\n",
       "  <thead>\n",
       "    <tr style=\"text-align: right;\">\n",
       "      <th></th>\n",
       "      <th>InvoiceNo</th>\n",
       "      <th>StockCode</th>\n",
       "      <th>Description</th>\n",
       "      <th>Quantity</th>\n",
       "      <th>InvoiceDate</th>\n",
       "      <th>UnitPrice</th>\n",
       "      <th>CustomerID</th>\n",
       "      <th>Country</th>\n",
       "      <th>Unnamed: 8</th>\n",
       "    </tr>\n",
       "  </thead>\n",
       "  <tbody>\n",
       "    <tr>\n",
       "      <th>0</th>\n",
       "      <td>536365</td>\n",
       "      <td>85123A</td>\n",
       "      <td>WHITE HANGING HEART T-LIGHT HOLDER</td>\n",
       "      <td>6</td>\n",
       "      <td>29-Nov-16</td>\n",
       "      <td>2.55</td>\n",
       "      <td>17850.0</td>\n",
       "      <td>United Kingdom</td>\n",
       "      <td>NaN</td>\n",
       "    </tr>\n",
       "    <tr>\n",
       "      <th>1</th>\n",
       "      <td>536365</td>\n",
       "      <td>71053</td>\n",
       "      <td>WHITE METAL LANTERN</td>\n",
       "      <td>6</td>\n",
       "      <td>29-Nov-16</td>\n",
       "      <td>3.39</td>\n",
       "      <td>17850.0</td>\n",
       "      <td>United Kingdom</td>\n",
       "      <td>NaN</td>\n",
       "    </tr>\n",
       "    <tr>\n",
       "      <th>2</th>\n",
       "      <td>536365</td>\n",
       "      <td>84406B</td>\n",
       "      <td>CREAM CUPID HEARTS COAT HANGER</td>\n",
       "      <td>8</td>\n",
       "      <td>29-Nov-16</td>\n",
       "      <td>2.75</td>\n",
       "      <td>17850.0</td>\n",
       "      <td>United Kingdom</td>\n",
       "      <td>NaN</td>\n",
       "    </tr>\n",
       "    <tr>\n",
       "      <th>3</th>\n",
       "      <td>536365</td>\n",
       "      <td>84029G</td>\n",
       "      <td>KNITTED UNION FLAG HOT WATER BOTTLE</td>\n",
       "      <td>6</td>\n",
       "      <td>29-Nov-16</td>\n",
       "      <td>3.39</td>\n",
       "      <td>17850.0</td>\n",
       "      <td>United Kingdom</td>\n",
       "      <td>NaN</td>\n",
       "    </tr>\n",
       "    <tr>\n",
       "      <th>4</th>\n",
       "      <td>536365</td>\n",
       "      <td>84029E</td>\n",
       "      <td>RED WOOLLY HOTTIE WHITE HEART.</td>\n",
       "      <td>6</td>\n",
       "      <td>29-Nov-16</td>\n",
       "      <td>3.39</td>\n",
       "      <td>17850.0</td>\n",
       "      <td>United Kingdom</td>\n",
       "      <td>NaN</td>\n",
       "    </tr>\n",
       "  </tbody>\n",
       "</table>\n",
       "</div>"
      ],
      "text/plain": [
       "  InvoiceNo StockCode                          Description  Quantity  \\\n",
       "0    536365    85123A   WHITE HANGING HEART T-LIGHT HOLDER         6   \n",
       "1    536365     71053                  WHITE METAL LANTERN         6   \n",
       "2    536365    84406B       CREAM CUPID HEARTS COAT HANGER         8   \n",
       "3    536365    84029G  KNITTED UNION FLAG HOT WATER BOTTLE         6   \n",
       "4    536365    84029E       RED WOOLLY HOTTIE WHITE HEART.         6   \n",
       "\n",
       "  InvoiceDate  UnitPrice  CustomerID         Country  Unnamed: 8  \n",
       "0   29-Nov-16       2.55     17850.0  United Kingdom         NaN  \n",
       "1   29-Nov-16       3.39     17850.0  United Kingdom         NaN  \n",
       "2   29-Nov-16       2.75     17850.0  United Kingdom         NaN  \n",
       "3   29-Nov-16       3.39     17850.0  United Kingdom         NaN  \n",
       "4   29-Nov-16       3.39     17850.0  United Kingdom         NaN  "
      ]
     },
     "execution_count": 3,
     "metadata": {},
     "output_type": "execute_result"
    }
   ],
   "source": [
    "df1 = data_raw.copy()\n",
    "\n",
    "df1.head()"
   ]
  },
  {
   "cell_type": "markdown",
   "id": "448c31e3",
   "metadata": {
    "papermill": {
     "duration": 0.009999,
     "end_time": "2022-10-01T15:48:15.474982",
     "exception": false,
     "start_time": "2022-10-01T15:48:15.464983",
     "status": "completed"
    },
    "tags": []
   },
   "source": [
    "## 1.1 Rename Columns"
   ]
  },
  {
   "cell_type": "code",
   "execution_count": 4,
   "id": "dc61061d",
   "metadata": {
    "execution": {
     "iopub.execute_input": "2022-10-01T15:48:15.496985Z",
     "iopub.status.busy": "2022-10-01T15:48:15.495968Z",
     "iopub.status.idle": "2022-10-01T15:48:15.531997Z",
     "shell.execute_reply": "2022-10-01T15:48:15.531997Z"
    },
    "papermill": {
     "duration": 0.049007,
     "end_time": "2022-10-01T15:48:15.533985",
     "exception": false,
     "start_time": "2022-10-01T15:48:15.484978",
     "status": "completed"
    },
    "tags": []
   },
   "outputs": [],
   "source": [
    "# Drop error column\n",
    "df1 = df1.drop(columns=['Unnamed: 8'], axis=1)\n",
    "\n",
    "cols_news = ['invoice_no', 'stock_code', 'description', 'quantity', 'invoice_date',\n",
    "              'unit_price', 'customer_id', 'country']\n",
    "\n",
    "df1.columns = cols_news"
   ]
  },
  {
   "cell_type": "markdown",
   "id": "e41af19b",
   "metadata": {
    "papermill": {
     "duration": 0.008992,
     "end_time": "2022-10-01T15:48:15.553976",
     "exception": false,
     "start_time": "2022-10-01T15:48:15.544984",
     "status": "completed"
    },
    "tags": []
   },
   "source": [
    "## 1.2 Data Dimension"
   ]
  },
  {
   "cell_type": "code",
   "execution_count": 5,
   "id": "8d3b53f3",
   "metadata": {
    "execution": {
     "iopub.execute_input": "2022-10-01T15:48:15.576003Z",
     "iopub.status.busy": "2022-10-01T15:48:15.574984Z",
     "iopub.status.idle": "2022-10-01T15:48:15.596994Z",
     "shell.execute_reply": "2022-10-01T15:48:15.595976Z"
    },
    "papermill": {
     "duration": 0.03401,
     "end_time": "2022-10-01T15:48:15.597986",
     "exception": false,
     "start_time": "2022-10-01T15:48:15.563976",
     "status": "completed"
    },
    "tags": []
   },
   "outputs": [
    {
     "name": "stdout",
     "output_type": "stream",
     "text": [
      "number of rows: 541909\n",
      "number of cols: 8\n"
     ]
    }
   ],
   "source": [
    "print(f'number of rows: {df1.shape[0]}')\n",
    "print(f'number of cols: {df1.shape[1]}')"
   ]
  },
  {
   "cell_type": "markdown",
   "id": "dcf4658f",
   "metadata": {
    "papermill": {
     "duration": 0.010995,
     "end_time": "2022-10-01T15:48:15.619977",
     "exception": false,
     "start_time": "2022-10-01T15:48:15.608982",
     "status": "completed"
    },
    "tags": []
   },
   "source": [
    "## 1.3 Data Types"
   ]
  },
  {
   "cell_type": "code",
   "execution_count": 6,
   "id": "94582212",
   "metadata": {
    "execution": {
     "iopub.execute_input": "2022-10-01T15:48:15.643001Z",
     "iopub.status.busy": "2022-10-01T15:48:15.641984Z",
     "iopub.status.idle": "2022-10-01T15:48:15.659995Z",
     "shell.execute_reply": "2022-10-01T15:48:15.659995Z"
    },
    "papermill": {
     "duration": 0.030999,
     "end_time": "2022-10-01T15:48:15.661984",
     "exception": false,
     "start_time": "2022-10-01T15:48:15.630985",
     "status": "completed"
    },
    "tags": []
   },
   "outputs": [
    {
     "data": {
      "text/plain": [
       "invoice_no       object\n",
       "stock_code       object\n",
       "description      object\n",
       "quantity          int64\n",
       "invoice_date     object\n",
       "unit_price      float64\n",
       "customer_id     float64\n",
       "country          object\n",
       "dtype: object"
      ]
     },
     "execution_count": 6,
     "metadata": {},
     "output_type": "execute_result"
    }
   ],
   "source": [
    "df1.dtypes"
   ]
  },
  {
   "cell_type": "markdown",
   "id": "ade944bf",
   "metadata": {
    "papermill": {
     "duration": 0.010996,
     "end_time": "2022-10-01T15:48:15.682978",
     "exception": false,
     "start_time": "2022-10-01T15:48:15.671982",
     "status": "completed"
    },
    "tags": []
   },
   "source": [
    "## 1.4 Check NA"
   ]
  },
  {
   "cell_type": "code",
   "execution_count": 7,
   "id": "62358954",
   "metadata": {
    "execution": {
     "iopub.execute_input": "2022-10-01T15:48:15.703979Z",
     "iopub.status.busy": "2022-10-01T15:48:15.703979Z",
     "iopub.status.idle": "2022-10-01T15:48:16.007995Z",
     "shell.execute_reply": "2022-10-01T15:48:16.007995Z"
    },
    "papermill": {
     "duration": 0.316991,
     "end_time": "2022-10-01T15:48:16.009968",
     "exception": false,
     "start_time": "2022-10-01T15:48:15.692977",
     "status": "completed"
    },
    "tags": []
   },
   "outputs": [
    {
     "data": {
      "text/plain": [
       "invoice_no           0\n",
       "stock_code           0\n",
       "description       1454\n",
       "quantity             0\n",
       "invoice_date         0\n",
       "unit_price           0\n",
       "customer_id     135080\n",
       "country              0\n",
       "dtype: int64"
      ]
     },
     "execution_count": 7,
     "metadata": {},
     "output_type": "execute_result"
    }
   ],
   "source": [
    "df1.isna().sum()"
   ]
  },
  {
   "cell_type": "markdown",
   "id": "8c58285a",
   "metadata": {
    "papermill": {
     "duration": 0.011015,
     "end_time": "2022-10-01T15:48:16.031982",
     "exception": false,
     "start_time": "2022-10-01T15:48:16.020967",
     "status": "completed"
    },
    "tags": []
   },
   "source": [
    "## 1.5 Fillout NA"
   ]
  },
  {
   "cell_type": "code",
   "execution_count": 8,
   "id": "42b727b1",
   "metadata": {
    "execution": {
     "iopub.execute_input": "2022-10-01T15:48:16.054985Z",
     "iopub.status.busy": "2022-10-01T15:48:16.053966Z",
     "iopub.status.idle": "2022-10-01T15:48:16.448173Z",
     "shell.execute_reply": "2022-10-01T15:48:16.447167Z"
    },
    "papermill": {
     "duration": 0.407192,
     "end_time": "2022-10-01T15:48:16.450174",
     "exception": false,
     "start_time": "2022-10-01T15:48:16.042982",
     "status": "completed"
    },
    "tags": []
   },
   "outputs": [],
   "source": [
    "# Separate df into NA and not NA\n",
    "df_missing = df1.loc[df1['customer_id'].isna(), :]\n",
    "df_not_missing = df1.loc[~df1['customer_id'].isna(), :]\n",
    "\n",
    "# create df for reference\n",
    "df_backup = pd.DataFrame(df_missing['invoice_no'].drop_duplicates())\n",
    "\n",
    "# create sintetics customers id\n",
    "df_backup['customer_id'] = np.arange(19000, 19000+len(df_backup), 1)\n",
    "\n",
    "# merge results of recerence into original df\n",
    "df1 = pd.merge(df1, df_backup, on='invoice_no', how='left')\n",
    "\n",
    "# coalesce\n",
    "df1['customer_id'] = df1['customer_id_x'].combine_first(df1['customer_id_y'])\n",
    "\n",
    "# drop extra columns\n",
    "df1.drop(columns=['customer_id_x', 'customer_id_y'], axis=1, inplace=True)"
   ]
  },
  {
   "cell_type": "code",
   "execution_count": 9,
   "id": "3886961e",
   "metadata": {
    "execution": {
     "iopub.execute_input": "2022-10-01T15:48:16.474189Z",
     "iopub.status.busy": "2022-10-01T15:48:16.473184Z",
     "iopub.status.idle": "2022-10-01T15:48:16.782199Z",
     "shell.execute_reply": "2022-10-01T15:48:16.782199Z"
    },
    "papermill": {
     "duration": 0.323011,
     "end_time": "2022-10-01T15:48:16.784182",
     "exception": false,
     "start_time": "2022-10-01T15:48:16.461171",
     "status": "completed"
    },
    "tags": []
   },
   "outputs": [
    {
     "data": {
      "text/plain": [
       "invoice_no         0\n",
       "stock_code         0\n",
       "description     1454\n",
       "quantity           0\n",
       "invoice_date       0\n",
       "unit_price         0\n",
       "country            0\n",
       "customer_id        0\n",
       "dtype: int64"
      ]
     },
     "execution_count": 9,
     "metadata": {},
     "output_type": "execute_result"
    }
   ],
   "source": [
    "# Description column is gonna be droped\n",
    "df1.isna().sum()"
   ]
  },
  {
   "cell_type": "markdown",
   "id": "a9ab69b9",
   "metadata": {
    "papermill": {
     "duration": 0.012016,
     "end_time": "2022-10-01T15:48:16.807187",
     "exception": false,
     "start_time": "2022-10-01T15:48:16.795171",
     "status": "completed"
    },
    "tags": []
   },
   "source": [
    "## 1.6 Change Types"
   ]
  },
  {
   "cell_type": "code",
   "execution_count": 10,
   "id": "8b10a901",
   "metadata": {
    "execution": {
     "iopub.execute_input": "2022-10-01T15:48:16.830189Z",
     "iopub.status.busy": "2022-10-01T15:48:16.830189Z",
     "iopub.status.idle": "2022-10-01T15:48:16.908200Z",
     "shell.execute_reply": "2022-10-01T15:48:16.908200Z"
    },
    "papermill": {
     "duration": 0.091995,
     "end_time": "2022-10-01T15:48:16.910182",
     "exception": false,
     "start_time": "2022-10-01T15:48:16.818187",
     "status": "completed"
    },
    "tags": []
   },
   "outputs": [],
   "source": [
    "# change invoice_date into date\n",
    "df1['invoice_date'] = pd.to_datetime(df1['invoice_date'], format='%d-%b-%y')\n",
    "\n",
    "# change customer_id into int \n",
    "df1['customer_id'] = df1['customer_id'].astype('int64')"
   ]
  },
  {
   "cell_type": "code",
   "execution_count": 11,
   "id": "8f277d89",
   "metadata": {
    "execution": {
     "iopub.execute_input": "2022-10-01T15:48:16.933183Z",
     "iopub.status.busy": "2022-10-01T15:48:16.933183Z",
     "iopub.status.idle": "2022-10-01T15:48:16.940200Z",
     "shell.execute_reply": "2022-10-01T15:48:16.940200Z"
    },
    "papermill": {
     "duration": 0.021007,
     "end_time": "2022-10-01T15:48:16.942189",
     "exception": false,
     "start_time": "2022-10-01T15:48:16.921182",
     "status": "completed"
    },
    "tags": []
   },
   "outputs": [
    {
     "data": {
      "text/plain": [
       "invoice_no              object\n",
       "stock_code              object\n",
       "description             object\n",
       "quantity                 int64\n",
       "invoice_date    datetime64[ns]\n",
       "unit_price             float64\n",
       "country                 object\n",
       "customer_id              int64\n",
       "dtype: object"
      ]
     },
     "execution_count": 11,
     "metadata": {},
     "output_type": "execute_result"
    }
   ],
   "source": [
    "df1.dtypes"
   ]
  },
  {
   "cell_type": "markdown",
   "id": "3e16a2f1",
   "metadata": {
    "papermill": {
     "duration": 0.010999,
     "end_time": "2022-10-01T15:48:16.964187",
     "exception": false,
     "start_time": "2022-10-01T15:48:16.953188",
     "status": "completed"
    },
    "tags": []
   },
   "source": [
    "## 1.7 Descriptive Statistical"
   ]
  },
  {
   "cell_type": "code",
   "execution_count": 12,
   "id": "bc8aa0e4",
   "metadata": {
    "execution": {
     "iopub.execute_input": "2022-10-01T15:48:16.986183Z",
     "iopub.status.busy": "2022-10-01T15:48:16.986183Z",
     "iopub.status.idle": "2022-10-01T15:48:17.004106Z",
     "shell.execute_reply": "2022-10-01T15:48:17.004106Z"
    },
    "papermill": {
     "duration": 0.031935,
     "end_time": "2022-10-01T15:48:17.006122",
     "exception": false,
     "start_time": "2022-10-01T15:48:16.974187",
     "status": "completed"
    },
    "tags": []
   },
   "outputs": [],
   "source": [
    "num_attributes = df1.select_dtypes(include=['int64', 'float64'])\n",
    "cat_attributes = df1.select_dtypes(exclude=['int64', 'float64', 'datetime64[ns]'])"
   ]
  },
  {
   "cell_type": "markdown",
   "id": "b10f4885",
   "metadata": {
    "papermill": {
     "duration": 0.010011,
     "end_time": "2022-10-01T15:48:17.027121",
     "exception": false,
     "start_time": "2022-10-01T15:48:17.017110",
     "status": "completed"
    },
    "tags": []
   },
   "source": [
    "### 1.7.1 Numerical Attributes"
   ]
  },
  {
   "cell_type": "code",
   "execution_count": 13,
   "id": "bbfeecf0",
   "metadata": {
    "execution": {
     "iopub.execute_input": "2022-10-01T15:48:17.051113Z",
     "iopub.status.busy": "2022-10-01T15:48:17.050123Z",
     "iopub.status.idle": "2022-10-01T15:48:17.176139Z",
     "shell.execute_reply": "2022-10-01T15:48:17.176139Z"
    },
    "papermill": {
     "duration": 0.140006,
     "end_time": "2022-10-01T15:48:17.178128",
     "exception": false,
     "start_time": "2022-10-01T15:48:17.038122",
     "status": "completed"
    },
    "tags": []
   },
   "outputs": [
    {
     "data": {
      "text/html": [
       "<div>\n",
       "<style scoped>\n",
       "    .dataframe tbody tr th:only-of-type {\n",
       "        vertical-align: middle;\n",
       "    }\n",
       "\n",
       "    .dataframe tbody tr th {\n",
       "        vertical-align: top;\n",
       "    }\n",
       "\n",
       "    .dataframe thead th {\n",
       "        text-align: right;\n",
       "    }\n",
       "</style>\n",
       "<table border=\"1\" class=\"dataframe\">\n",
       "  <thead>\n",
       "    <tr style=\"text-align: right;\">\n",
       "      <th></th>\n",
       "      <th>min</th>\n",
       "      <th>max</th>\n",
       "      <th>range</th>\n",
       "      <th>mean</th>\n",
       "      <th>median</th>\n",
       "      <th>std</th>\n",
       "      <th>skew</th>\n",
       "      <th>kurtosis</th>\n",
       "    </tr>\n",
       "  </thead>\n",
       "  <tbody>\n",
       "    <tr>\n",
       "      <th>quantity</th>\n",
       "      <td>-80995.00</td>\n",
       "      <td>80995.0</td>\n",
       "      <td>161990.00</td>\n",
       "      <td>9.552250</td>\n",
       "      <td>3.00</td>\n",
       "      <td>218.081158</td>\n",
       "      <td>-0.264076</td>\n",
       "      <td>119769.160031</td>\n",
       "    </tr>\n",
       "    <tr>\n",
       "      <th>unit_price</th>\n",
       "      <td>-11062.06</td>\n",
       "      <td>38970.0</td>\n",
       "      <td>50032.06</td>\n",
       "      <td>4.611114</td>\n",
       "      <td>2.08</td>\n",
       "      <td>96.759853</td>\n",
       "      <td>186.506972</td>\n",
       "      <td>59005.719097</td>\n",
       "    </tr>\n",
       "    <tr>\n",
       "      <th>customer_id</th>\n",
       "      <td>12346.00</td>\n",
       "      <td>22709.0</td>\n",
       "      <td>10363.00</td>\n",
       "      <td>16688.840453</td>\n",
       "      <td>16249.00</td>\n",
       "      <td>2911.411352</td>\n",
       "      <td>0.487449</td>\n",
       "      <td>-0.804287</td>\n",
       "    </tr>\n",
       "  </tbody>\n",
       "</table>\n",
       "</div>"
      ],
      "text/plain": [
       "                  min      max      range          mean    median  \\\n",
       "quantity    -80995.00  80995.0  161990.00      9.552250      3.00   \n",
       "unit_price  -11062.06  38970.0   50032.06      4.611114      2.08   \n",
       "customer_id  12346.00  22709.0   10363.00  16688.840453  16249.00   \n",
       "\n",
       "                     std        skew       kurtosis  \n",
       "quantity      218.081158   -0.264076  119769.160031  \n",
       "unit_price     96.759853  186.506972   59005.719097  \n",
       "customer_id  2911.411352    0.487449      -0.804287  "
      ]
     },
     "execution_count": 13,
     "metadata": {},
     "output_type": "execute_result"
    }
   ],
   "source": [
    "# Create metrics of central tendency and dispersion\n",
    "d1 = pd.DataFrame(num_attributes.apply(lambda x: x.max() - x.min())).rename(columns={0: 'range'}).T\n",
    "d2 = num_attributes.agg(['min', 'max', 'mean', 'median', 'std', 'skew', 'kurtosis'])\n",
    "\n",
    "# concat all metrics\n",
    "met = pd.concat([d1, d2]).T\n",
    "met = met[['min', 'max', 'range', 'mean', 'median', 'std', 'skew', 'kurtosis']]\n",
    "met"
   ]
  },
  {
   "cell_type": "markdown",
   "id": "19b80923",
   "metadata": {
    "papermill": {
     "duration": 0.010994,
     "end_time": "2022-10-01T15:48:17.200121",
     "exception": false,
     "start_time": "2022-10-01T15:48:17.189127",
     "status": "completed"
    },
    "tags": []
   },
   "source": [
    "- Valores grandes e negativos em quantity (devoluções?)\n",
    "- Valores negativos em preço unitário (devolução/promoção?)"
   ]
  },
  {
   "cell_type": "markdown",
   "id": "bb84e62f",
   "metadata": {
    "papermill": {
     "duration": 0.011001,
     "end_time": "2022-10-01T15:48:17.222112",
     "exception": false,
     "start_time": "2022-10-01T15:48:17.211111",
     "status": "completed"
    },
    "tags": []
   },
   "source": [
    "### 1.7.2 Categorical Attributes"
   ]
  },
  {
   "cell_type": "code",
   "execution_count": 14,
   "id": "24ad155a",
   "metadata": {
    "execution": {
     "iopub.execute_input": "2022-10-01T15:48:17.246111Z",
     "iopub.status.busy": "2022-10-01T15:48:17.246111Z",
     "iopub.status.idle": "2022-10-01T15:48:17.368125Z",
     "shell.execute_reply": "2022-10-01T15:48:17.368125Z"
    },
    "papermill": {
     "duration": 0.13699,
     "end_time": "2022-10-01T15:48:17.370111",
     "exception": false,
     "start_time": "2022-10-01T15:48:17.233121",
     "status": "completed"
    },
    "tags": []
   },
   "outputs": [
    {
     "data": {
      "text/html": [
       "<div>\n",
       "<style scoped>\n",
       "    .dataframe tbody tr th:only-of-type {\n",
       "        vertical-align: middle;\n",
       "    }\n",
       "\n",
       "    .dataframe tbody tr th {\n",
       "        vertical-align: top;\n",
       "    }\n",
       "\n",
       "    .dataframe thead th {\n",
       "        text-align: right;\n",
       "    }\n",
       "</style>\n",
       "<table border=\"1\" class=\"dataframe\">\n",
       "  <thead>\n",
       "    <tr style=\"text-align: right;\">\n",
       "      <th></th>\n",
       "      <th>count</th>\n",
       "    </tr>\n",
       "  </thead>\n",
       "  <tbody>\n",
       "    <tr>\n",
       "      <th>invoice_no</th>\n",
       "      <td>25900</td>\n",
       "    </tr>\n",
       "    <tr>\n",
       "      <th>stock_code</th>\n",
       "      <td>4070</td>\n",
       "    </tr>\n",
       "    <tr>\n",
       "      <th>description</th>\n",
       "      <td>4224</td>\n",
       "    </tr>\n",
       "    <tr>\n",
       "      <th>country</th>\n",
       "      <td>38</td>\n",
       "    </tr>\n",
       "  </tbody>\n",
       "</table>\n",
       "</div>"
      ],
      "text/plain": [
       "             count\n",
       "invoice_no   25900\n",
       "stock_code    4070\n",
       "description   4224\n",
       "country         38"
      ]
     },
     "execution_count": 14,
     "metadata": {},
     "output_type": "execute_result"
    }
   ],
   "source": [
    "# Count unique itens per columns\n",
    "count_ = cat_attributes.apply(lambda x: x.unique().shape).T.rename(columns={0:'count'})\n",
    "count_"
   ]
  },
  {
   "cell_type": "code",
   "execution_count": 15,
   "id": "c309e84d",
   "metadata": {
    "execution": {
     "iopub.execute_input": "2022-10-01T15:48:17.394112Z",
     "iopub.status.busy": "2022-10-01T15:48:17.394112Z",
     "iopub.status.idle": "2022-10-01T15:48:20.604114Z",
     "shell.execute_reply": "2022-10-01T15:48:20.603111Z"
    },
    "papermill": {
     "duration": 3.22299,
     "end_time": "2022-10-01T15:48:20.605112",
     "exception": false,
     "start_time": "2022-10-01T15:48:17.382122",
     "status": "completed"
    },
    "tags": []
   },
   "outputs": [
    {
     "name": "stdout",
     "output_type": "stream",
     "text": [
      "Total numbers of invoices: 541909\n",
      "Total numbers of negative invoices: 9291\n",
      "Total number of negative quantity: 9288\n"
     ]
    },
    {
     "data": {
      "text/html": [
       "<div>\n",
       "<style scoped>\n",
       "    .dataframe tbody tr th:only-of-type {\n",
       "        vertical-align: middle;\n",
       "    }\n",
       "\n",
       "    .dataframe tbody tr th {\n",
       "        vertical-align: top;\n",
       "    }\n",
       "\n",
       "    .dataframe thead th {\n",
       "        text-align: right;\n",
       "    }\n",
       "</style>\n",
       "<table border=\"1\" class=\"dataframe\">\n",
       "  <thead>\n",
       "    <tr style=\"text-align: right;\">\n",
       "      <th></th>\n",
       "      <th>invoice_no</th>\n",
       "      <th>stock_code</th>\n",
       "      <th>description</th>\n",
       "      <th>quantity</th>\n",
       "      <th>invoice_date</th>\n",
       "      <th>unit_price</th>\n",
       "      <th>country</th>\n",
       "      <th>customer_id</th>\n",
       "    </tr>\n",
       "  </thead>\n",
       "  <tbody>\n",
       "    <tr>\n",
       "      <th>299982</th>\n",
       "      <td>A563185</td>\n",
       "      <td>B</td>\n",
       "      <td>Adjust bad debt</td>\n",
       "      <td>1</td>\n",
       "      <td>2017-08-10</td>\n",
       "      <td>11062.06</td>\n",
       "      <td>United Kingdom</td>\n",
       "      <td>21497</td>\n",
       "    </tr>\n",
       "    <tr>\n",
       "      <th>299983</th>\n",
       "      <td>A563186</td>\n",
       "      <td>B</td>\n",
       "      <td>Adjust bad debt</td>\n",
       "      <td>1</td>\n",
       "      <td>2017-08-10</td>\n",
       "      <td>-11062.06</td>\n",
       "      <td>United Kingdom</td>\n",
       "      <td>21498</td>\n",
       "    </tr>\n",
       "    <tr>\n",
       "      <th>299984</th>\n",
       "      <td>A563187</td>\n",
       "      <td>B</td>\n",
       "      <td>Adjust bad debt</td>\n",
       "      <td>1</td>\n",
       "      <td>2017-08-10</td>\n",
       "      <td>-11062.06</td>\n",
       "      <td>United Kingdom</td>\n",
       "      <td>21499</td>\n",
       "    </tr>\n",
       "  </tbody>\n",
       "</table>\n",
       "</div>"
      ],
      "text/plain": [
       "       invoice_no stock_code      description  quantity invoice_date  \\\n",
       "299982    A563185          B  Adjust bad debt         1   2017-08-10   \n",
       "299983    A563186          B  Adjust bad debt         1   2017-08-10   \n",
       "299984    A563187          B  Adjust bad debt         1   2017-08-10   \n",
       "\n",
       "        unit_price         country  customer_id  \n",
       "299982    11062.06  United Kingdom        21497  \n",
       "299983   -11062.06  United Kingdom        21498  \n",
       "299984   -11062.06  United Kingdom        21499  "
      ]
     },
     "execution_count": 15,
     "metadata": {},
     "output_type": "execute_result"
    }
   ],
   "source": [
    "# Verify 'invoice no' with caracters\n",
    "df_invoice = df1.loc[df1['invoice_no'].apply(lambda x: bool(re.search('[a-zA-Z]', x))), :]\n",
    "\n",
    "print(f'Total numbers of invoices: {len(df1[\"invoice_no\"])}')\n",
    "print(f'Total numbers of negative invoices: {len(df_invoice)}')\n",
    "print(f'Total number of negative quantity: {len(df_invoice[df_invoice[\"quantity\"] < 0])}')\n",
    "\n",
    "# Invoices with positives values\n",
    "df_invoice[df_invoice['quantity'] >= 0]"
   ]
  },
  {
   "cell_type": "code",
   "execution_count": 16,
   "id": "c7561f18",
   "metadata": {
    "execution": {
     "iopub.execute_input": "2022-10-01T15:48:20.631112Z",
     "iopub.status.busy": "2022-10-01T15:48:20.630112Z",
     "iopub.status.idle": "2022-10-01T15:48:27.025125Z",
     "shell.execute_reply": "2022-10-01T15:48:27.025125Z"
    },
    "papermill": {
     "duration": 6.409999,
     "end_time": "2022-10-01T15:48:27.027111",
     "exception": false,
     "start_time": "2022-10-01T15:48:20.617112",
     "status": "completed"
    },
    "tags": []
   },
   "outputs": [
    {
     "name": "stdout",
     "output_type": "stream",
     "text": [
      "Total numbers of stock code: 541909\n",
      "Total numbers of stock code with any categorical: 54873\n",
      "Total numbers of stock code with only categorical: 2759\n"
     ]
    }
   ],
   "source": [
    "# Verify stock code with caracters\n",
    "df_stock = df1.loc[df1['stock_code'].apply(lambda x: bool(re.search('[a-zA-Z]', x))), :]\n",
    "df_stock_cat = df1.loc[df1['stock_code'].apply(lambda x: bool(re.search('^[a-zA-Z]+$', x))), :]\n",
    "\n",
    "print(f'Total numbers of stock code: {len(df1[\"stock_code\"])}')\n",
    "print(f'Total numbers of stock code with any categorical: {len(df_stock)}')\n",
    "print(f'Total numbers of stock code with only categorical: {len(df_stock_cat)}')"
   ]
  },
  {
   "cell_type": "code",
   "execution_count": 17,
   "id": "60efaa70",
   "metadata": {
    "execution": {
     "iopub.execute_input": "2022-10-01T15:48:27.052120Z",
     "iopub.status.busy": "2022-10-01T15:48:27.051110Z",
     "iopub.status.idle": "2022-10-01T15:48:27.072629Z",
     "shell.execute_reply": "2022-10-01T15:48:27.072126Z"
    },
    "papermill": {
     "duration": 0.035529,
     "end_time": "2022-10-01T15:48:27.074639",
     "exception": false,
     "start_time": "2022-10-01T15:48:27.039110",
     "status": "completed"
    },
    "tags": []
   },
   "outputs": [
    {
     "data": {
      "text/plain": [
       "array(['POST', 'D', 'DOT', 'M', 'S', 'AMAZONFEE', 'm', 'DCGSSBOY',\n",
       "       'DCGSSGIRL', 'PADS', 'B', 'CRUK'], dtype=object)"
      ]
     },
     "execution_count": 17,
     "metadata": {},
     "output_type": "execute_result"
    }
   ],
   "source": [
    "# Analysis only codes\n",
    "df_stock_cat['stock_code'].unique()"
   ]
  },
  {
   "cell_type": "code",
   "execution_count": 18,
   "id": "20dfefc1",
   "metadata": {
    "execution": {
     "iopub.execute_input": "2022-10-01T15:48:27.098652Z",
     "iopub.status.busy": "2022-10-01T15:48:27.098652Z",
     "iopub.status.idle": "2022-10-01T15:48:27.134860Z",
     "shell.execute_reply": "2022-10-01T15:48:27.134860Z"
    },
    "papermill": {
     "duration": 0.051239,
     "end_time": "2022-10-01T15:48:27.136876",
     "exception": false,
     "start_time": "2022-10-01T15:48:27.085637",
     "status": "completed"
    },
    "tags": []
   },
   "outputs": [
    {
     "data": {
      "text/plain": [
       "United Kingdom    91.431956\n",
       "Germany            1.752139\n",
       "France             1.579047\n",
       "EIRE               1.512431\n",
       "Spain              0.467422\n",
       "Netherlands        0.437527\n",
       "Belgium            0.381798\n",
       "Switzerland        0.369435\n",
       "Portugal           0.280305\n",
       "Australia          0.232327\n",
       "Name: country, dtype: float64"
      ]
     },
     "execution_count": 18,
     "metadata": {},
     "output_type": "execute_result"
    }
   ],
   "source": [
    "# Distribuiton for each country\n",
    "total = cat_attributes['country'].shape[0]\n",
    "cat_attributes['country'].value_counts().apply(lambda x: 100*(x/total)).head(10)"
   ]
  },
  {
   "cell_type": "markdown",
   "id": "ec78c4ac",
   "metadata": {
    "heading_collapsed": true,
    "papermill": {
     "duration": 0.01099,
     "end_time": "2022-10-01T15:48:27.159865",
     "exception": false,
     "start_time": "2022-10-01T15:48:27.148875",
     "status": "completed"
    },
    "tags": []
   },
   "source": [
    "# 2.0 Filtragem de variáveis"
   ]
  },
  {
   "cell_type": "code",
   "execution_count": 19,
   "id": "64e8b1b4",
   "metadata": {
    "execution": {
     "iopub.execute_input": "2022-10-01T15:48:27.184876Z",
     "iopub.status.busy": "2022-10-01T15:48:27.184876Z",
     "iopub.status.idle": "2022-10-01T15:48:27.214056Z",
     "shell.execute_reply": "2022-10-01T15:48:27.213047Z"
    },
    "papermill": {
     "duration": 0.044196,
     "end_time": "2022-10-01T15:48:27.216073",
     "exception": false,
     "start_time": "2022-10-01T15:48:27.171877",
     "status": "completed"
    },
    "tags": []
   },
   "outputs": [],
   "source": [
    "df2 = df1.copy()"
   ]
  },
  {
   "cell_type": "markdown",
   "id": "f9a11fe4",
   "metadata": {
    "hidden": true,
    "papermill": {
     "duration": 0.010997,
     "end_time": "2022-10-01T15:48:27.239063",
     "exception": false,
     "start_time": "2022-10-01T15:48:27.228066",
     "status": "completed"
    },
    "tags": []
   },
   "source": [
    "## 2.1 Seleção das colunas"
   ]
  },
  {
   "cell_type": "code",
   "execution_count": 20,
   "id": "72851f9e",
   "metadata": {
    "execution": {
     "iopub.execute_input": "2022-10-01T15:48:27.264054Z",
     "iopub.status.busy": "2022-10-01T15:48:27.264054Z",
     "iopub.status.idle": "2022-10-01T15:48:27.309056Z",
     "shell.execute_reply": "2022-10-01T15:48:27.308055Z"
    },
    "papermill": {
     "duration": 0.060988,
     "end_time": "2022-10-01T15:48:27.311054",
     "exception": false,
     "start_time": "2022-10-01T15:48:27.250066",
     "status": "completed"
    },
    "tags": []
   },
   "outputs": [],
   "source": [
    "df2.drop(columns='description', axis=1, inplace=True)"
   ]
  },
  {
   "cell_type": "markdown",
   "id": "0b53506a",
   "metadata": {
    "hidden": true,
    "papermill": {
     "duration": 0.011998,
     "end_time": "2022-10-01T15:48:27.335052",
     "exception": false,
     "start_time": "2022-10-01T15:48:27.323054",
     "status": "completed"
    },
    "tags": []
   },
   "source": [
    "## 2.2 Filtragem das linhas"
   ]
  },
  {
   "cell_type": "code",
   "execution_count": 21,
   "id": "a3ed0ce0",
   "metadata": {
    "execution": {
     "iopub.execute_input": "2022-10-01T15:48:27.360054Z",
     "iopub.status.busy": "2022-10-01T15:48:27.360054Z",
     "iopub.status.idle": "2022-10-01T15:48:27.627055Z",
     "shell.execute_reply": "2022-10-01T15:48:27.626064Z"
    },
    "papermill": {
     "duration": 0.282017,
     "end_time": "2022-10-01T15:48:27.629071",
     "exception": false,
     "start_time": "2022-10-01T15:48:27.347054",
     "status": "completed"
    },
    "tags": []
   },
   "outputs": [],
   "source": [
    "# remove unit_price bellow 0.030 (bellow this consider promo or return)\n",
    "df2 = df2[df2['unit_price'] > 0.030]\n",
    "\n",
    "# remove stock code with only categoricals variables (expect DCGSSBOY and DCGSSGIRL)\n",
    "df2 = df2[~df2['stock_code'].isin(['POST', 'D', 'DOT', 'M', 'S', 'AMAZONFEE', \n",
    "                                    'm', 'PADS', 'B', 'CRUK', 'BANK CHARGES'])]\n",
    "\n",
    "# removes information from unidentified countries\n",
    "df2 = df2[~df2['country'].isin(['European Community', 'Unspecified'])]\n",
    "\n",
    "# bad users\n",
    "df2 = df2[~df2['customer_id'].isin([16446, 12346])]\n",
    "df2 = df2[~df2['invoice_no'].isin(['540815', '540818', 'C550456'])] # Customer 15749: duplicates orders"
   ]
  },
  {
   "cell_type": "markdown",
   "id": "055dd8b4",
   "metadata": {
    "heading_collapsed": true,
    "papermill": {
     "duration": 0.011993,
     "end_time": "2022-10-01T15:48:27.653064",
     "exception": false,
     "start_time": "2022-10-01T15:48:27.641071",
     "status": "completed"
    },
    "tags": []
   },
   "source": [
    "# 3.0 Feature Engineering"
   ]
  },
  {
   "cell_type": "code",
   "execution_count": 22,
   "id": "86d0b5d0",
   "metadata": {
    "execution": {
     "iopub.execute_input": "2022-10-01T15:48:27.679053Z",
     "iopub.status.busy": "2022-10-01T15:48:27.678052Z",
     "iopub.status.idle": "2022-10-01T15:48:27.707054Z",
     "shell.execute_reply": "2022-10-01T15:48:27.706082Z"
    },
    "papermill": {
     "duration": 0.044003,
     "end_time": "2022-10-01T15:48:27.709069",
     "exception": false,
     "start_time": "2022-10-01T15:48:27.665066",
     "status": "completed"
    },
    "tags": []
   },
   "outputs": [],
   "source": [
    "df3 = df2.copy()"
   ]
  },
  {
   "cell_type": "markdown",
   "id": "cb69af25",
   "metadata": {
    "ExecuteTime": {
     "end_time": "2022-06-28T22:48:30.723509Z",
     "start_time": "2022-06-28T22:48:30.719497Z"
    },
    "hidden": true,
    "papermill": {
     "duration": 0.011995,
     "end_time": "2022-10-01T15:48:27.732064",
     "exception": false,
     "start_time": "2022-10-01T15:48:27.720069",
     "status": "completed"
    },
    "tags": []
   },
   "source": [
    "## 3.1 Feature Engineering"
   ]
  },
  {
   "cell_type": "code",
   "execution_count": 23,
   "id": "8e6b2da9",
   "metadata": {
    "execution": {
     "iopub.execute_input": "2022-10-01T15:48:27.758054Z",
     "iopub.status.busy": "2022-10-01T15:48:27.758054Z",
     "iopub.status.idle": "2022-10-01T15:48:28.134067Z",
     "shell.execute_reply": "2022-10-01T15:48:28.134067Z"
    },
    "papermill": {
     "duration": 0.391991,
     "end_time": "2022-10-01T15:48:28.136054",
     "exception": false,
     "start_time": "2022-10-01T15:48:27.744063",
     "status": "completed"
    },
    "tags": []
   },
   "outputs": [
    {
     "name": "stderr",
     "output_type": "stream",
     "text": [
      "C:\\Users\\SamuelOliveiraAlvesd\\AppData\\Local\\Temp\\ipykernel_6592\\1101900786.py:8: FutureWarning: Series.dt.weekofyear and Series.dt.week have been deprecated. Please use Series.dt.isocalendar().week instead.\n",
      "  df3['week_of_year'] = df3['invoice_date'].dt.weekofyear\n"
     ]
    }
   ],
   "source": [
    "# Time series variables\n",
    "df3['day'] = df3['invoice_date'].dt.day\n",
    "\n",
    "df3['month'] = df3['invoice_date'].dt.month\n",
    "\n",
    "df3['year'] = df3['invoice_date'].dt.year\n",
    "\n",
    "df3['week_of_year'] = df3['invoice_date'].dt.weekofyear\n",
    "\n",
    "# separate dataframes for purchases and refunds\n",
    "df3_purchases = df3[df3['quantity'] >= 0]\n",
    "df3_returns = df3[df3['quantity'] < 0]"
   ]
  },
  {
   "cell_type": "code",
   "execution_count": 24,
   "id": "2312239f",
   "metadata": {
    "execution": {
     "iopub.execute_input": "2022-10-01T15:48:28.161054Z",
     "iopub.status.busy": "2022-10-01T15:48:28.161054Z",
     "iopub.status.idle": "2022-10-01T15:48:28.244053Z",
     "shell.execute_reply": "2022-10-01T15:48:28.244053Z"
    },
    "papermill": {
     "duration": 0.098023,
     "end_time": "2022-10-01T15:48:28.246075",
     "exception": false,
     "start_time": "2022-10-01T15:48:28.148052",
     "status": "completed"
    },
    "tags": []
   },
   "outputs": [
    {
     "name": "stderr",
     "output_type": "stream",
     "text": [
      "C:\\Users\\SamuelOliveiraAlvesd\\AppData\\Local\\Temp\\ipykernel_6592\\1621994048.py:7: SettingWithCopyWarning: \n",
      "A value is trying to be set on a copy of a slice from a DataFrame.\n",
      "Try using .loc[row_indexer,col_indexer] = value instead\n",
      "\n",
      "See the caveats in the documentation: https://pandas.pydata.org/pandas-docs/stable/user_guide/indexing.html#returning-a-view-versus-a-copy\n",
      "  df3_purchases['gross_revenue'] = df3_purchases['quantity'] * df3_purchases['unit_price']\n"
     ]
    },
    {
     "data": {
      "text/plain": [
       "customer_id       0\n",
       "gross_revenue    67\n",
       "dtype: int64"
      ]
     },
     "execution_count": 24,
     "metadata": {},
     "output_type": "execute_result"
    }
   ],
   "source": [
    "# -------------------- Features based on RFM Model ---------------\n",
    "# make data frame for reference\n",
    "df_ref = df3[['customer_id']].drop_duplicates(ignore_index=True)\n",
    "\n",
    "\n",
    "# Gross Revenue (Faturamento) | quantity * price\n",
    "df3_purchases['gross_revenue'] = df3_purchases['quantity'] * df3_purchases['unit_price']\n",
    "\n",
    "\n",
    "# Monetary - Total buys from each customer\n",
    "df_monetary = df3_purchases[['customer_id', 'gross_revenue']].groupby('customer_id').sum().reset_index()\n",
    "df_ref = pd.merge(df_ref, df_monetary, on='customer_id', how='left')\n",
    "\n",
    "df_ref.isna().sum()"
   ]
  },
  {
   "cell_type": "code",
   "execution_count": 25,
   "id": "1737e0aa",
   "metadata": {
    "execution": {
     "iopub.execute_input": "2022-10-01T15:48:28.273067Z",
     "iopub.status.busy": "2022-10-01T15:48:28.273067Z",
     "iopub.status.idle": "2022-10-01T15:48:28.322083Z",
     "shell.execute_reply": "2022-10-01T15:48:28.322083Z"
    },
    "papermill": {
     "duration": 0.064998,
     "end_time": "2022-10-01T15:48:28.324054",
     "exception": false,
     "start_time": "2022-10-01T15:48:28.259056",
     "status": "completed"
    },
    "tags": []
   },
   "outputs": [
    {
     "data": {
      "text/plain": [
       "customer_id       0\n",
       "gross_revenue    67\n",
       "recency_days     67\n",
       "dtype: int64"
      ]
     },
     "execution_count": 25,
     "metadata": {},
     "output_type": "execute_result"
    }
   ],
   "source": [
    "# Recency - Last day purchase for each customer\n",
    "df_recency = df3_purchases[['customer_id', 'invoice_date']].groupby('customer_id').max().reset_index()\n",
    "df_recency['recency_days'] = (df3['invoice_date'].max() - df_recency['invoice_date']).dt.days\n",
    "df_recency.drop(columns=['invoice_date'], inplace=True)\n",
    "df_ref = pd.merge(df_ref, df_recency, on='customer_id', how='left')\n",
    "\n",
    "df_ref.isna().sum()"
   ]
  },
  {
   "cell_type": "code",
   "execution_count": 26,
   "id": "99a05555",
   "metadata": {
    "execution": {
     "iopub.execute_input": "2022-10-01T15:48:28.350054Z",
     "iopub.status.busy": "2022-10-01T15:48:28.349054Z",
     "iopub.status.idle": "2022-10-01T15:48:28.448159Z",
     "shell.execute_reply": "2022-10-01T15:48:28.447550Z"
    },
    "papermill": {
     "duration": 0.112125,
     "end_time": "2022-10-01T15:48:28.449179",
     "exception": false,
     "start_time": "2022-10-01T15:48:28.337054",
     "status": "completed"
    },
    "tags": []
   },
   "outputs": [
    {
     "data": {
      "text/plain": [
       "customer_id       0\n",
       "gross_revenue    67\n",
       "recency_days     67\n",
       "qty_invoices     67\n",
       "dtype: int64"
      ]
     },
     "execution_count": 26,
     "metadata": {},
     "output_type": "execute_result"
    }
   ],
   "source": [
    "# Quantity of purchased\n",
    "df_qnt = (df3_purchases[['customer_id', 'invoice_no']].drop_duplicates().groupby('customer_id')\n",
    "                                             .count().reset_index()\n",
    "                                             .rename(columns={'invoice_no': 'qty_invoices'}))\n",
    "\n",
    "df_ref = pd.merge(df_ref, df_qnt, on='customer_id', how='left')\n",
    "\n",
    "df_ref.isna().sum()"
   ]
  },
  {
   "cell_type": "code",
   "execution_count": 27,
   "id": "a2c6ef31",
   "metadata": {
    "execution": {
     "iopub.execute_input": "2022-10-01T15:48:28.475169Z",
     "iopub.status.busy": "2022-10-01T15:48:28.475169Z",
     "iopub.status.idle": "2022-10-01T15:48:28.525310Z",
     "shell.execute_reply": "2022-10-01T15:48:28.525310Z"
    },
    "papermill": {
     "duration": 0.065133,
     "end_time": "2022-10-01T15:48:28.527310",
     "exception": false,
     "start_time": "2022-10-01T15:48:28.462177",
     "status": "completed"
    },
    "tags": []
   },
   "outputs": [
    {
     "data": {
      "text/plain": [
       "customer_id       0\n",
       "gross_revenue    67\n",
       "recency_days     67\n",
       "qty_invoices     67\n",
       "qty_items        67\n",
       "dtype: int64"
      ]
     },
     "execution_count": 27,
     "metadata": {},
     "output_type": "execute_result"
    }
   ],
   "source": [
    "# Quantity of items purchased\n",
    "df_qnt_items = (df3_purchases[['customer_id', 'quantity']].groupby('customer_id')\n",
    "                                             .sum().reset_index()\n",
    "                                             .rename(columns={'quantity': 'qty_items'}))\n",
    "\n",
    "df_ref = pd.merge(df_ref, df_qnt_items, on='customer_id', how='left')\n",
    "\n",
    "df_ref.isna().sum()                                             "
   ]
  },
  {
   "cell_type": "code",
   "execution_count": 28,
   "id": "b1e15f37",
   "metadata": {
    "execution": {
     "iopub.execute_input": "2022-10-01T15:48:28.552298Z",
     "iopub.status.busy": "2022-10-01T15:48:28.552298Z",
     "iopub.status.idle": "2022-10-01T15:48:28.651329Z",
     "shell.execute_reply": "2022-10-01T15:48:28.651329Z"
    },
    "papermill": {
     "duration": 0.113991,
     "end_time": "2022-10-01T15:48:28.653299",
     "exception": false,
     "start_time": "2022-10-01T15:48:28.539308",
     "status": "completed"
    },
    "tags": []
   },
   "outputs": [
    {
     "data": {
      "text/plain": [
       "customer_id       0\n",
       "gross_revenue    67\n",
       "recency_days     67\n",
       "qty_invoices     67\n",
       "qty_items        67\n",
       "qty_products     67\n",
       "dtype: int64"
      ]
     },
     "execution_count": 28,
     "metadata": {},
     "output_type": "execute_result"
    }
   ],
   "source": [
    "# Quantity of products purchased\n",
    "df_qnt_products = (df3_purchases[['customer_id', 'stock_code']].groupby('customer_id')\n",
    "                                             .count().reset_index()\n",
    "                                             .rename(columns={'stock_code': 'qty_products'}))\n",
    "\n",
    "df_ref = pd.merge(df_ref, df_qnt_products, on='customer_id', how='left')\n",
    "\n",
    "df_ref.isna().sum()   "
   ]
  },
  {
   "cell_type": "code",
   "execution_count": 29,
   "id": "a1d96d4a",
   "metadata": {
    "execution": {
     "iopub.execute_input": "2022-10-01T15:48:28.681298Z",
     "iopub.status.busy": "2022-10-01T15:48:28.680304Z",
     "iopub.status.idle": "2022-10-01T15:48:28.730327Z",
     "shell.execute_reply": "2022-10-01T15:48:28.730327Z"
    },
    "papermill": {
     "duration": 0.066014,
     "end_time": "2022-10-01T15:48:28.732315",
     "exception": false,
     "start_time": "2022-10-01T15:48:28.666301",
     "status": "completed"
    },
    "tags": []
   },
   "outputs": [
    {
     "data": {
      "text/plain": [
       "customer_id       0\n",
       "gross_revenue    67\n",
       "recency_days     67\n",
       "qty_invoices     67\n",
       "qty_items        67\n",
       "qty_products     67\n",
       "avg_ticket       67\n",
       "dtype: int64"
      ]
     },
     "execution_count": 29,
     "metadata": {},
     "output_type": "execute_result"
    }
   ],
   "source": [
    "# Avg ticket - average purchases per customer\n",
    "df_avg_ticket = df3_purchases[['customer_id', 'gross_revenue']].groupby('customer_id').mean().reset_index()\n",
    "df_avg_ticket.columns = ['customer_id', 'avg_ticket']\n",
    "df_ref = pd.merge(df_ref, df_avg_ticket, how='left', on='customer_id')\n",
    "\n",
    "df_ref.isna().sum()"
   ]
  },
  {
   "cell_type": "code",
   "execution_count": 30,
   "id": "be6e8ce7",
   "metadata": {
    "execution": {
     "iopub.execute_input": "2022-10-01T15:48:28.759299Z",
     "iopub.status.busy": "2022-10-01T15:48:28.758316Z",
     "iopub.status.idle": "2022-10-01T15:48:28.965498Z",
     "shell.execute_reply": "2022-10-01T15:48:28.965498Z"
    },
    "papermill": {
     "duration": 0.22219,
     "end_time": "2022-10-01T15:48:28.967504",
     "exception": false,
     "start_time": "2022-10-01T15:48:28.745314",
     "status": "completed"
    },
    "tags": []
   },
   "outputs": [
    {
     "data": {
      "text/plain": [
       "customer_id       0\n",
       "gross_revenue    67\n",
       "recency_days     67\n",
       "qty_invoices     67\n",
       "qty_items        67\n",
       "qty_products     67\n",
       "avg_ticket       67\n",
       "frequency        67\n",
       "dtype: int64"
      ]
     },
     "execution_count": 30,
     "metadata": {},
     "output_type": "execute_result"
    }
   ],
   "source": [
    "# Frequency - Frequency of purchases in aprox one year\n",
    "df_aux = (df3_purchases[['customer_id', 'invoice_no', 'invoice_date']].drop_duplicates().groupby('customer_id')\n",
    "                                                            .agg(buy_ = ('invoice_no', 'count') ).reset_index())\n",
    "\n",
    "days = (df3_purchases['invoice_date'].max() - df3_purchases['invoice_date'].min()).days\n",
    "\n",
    "df_aux['days_'] = days\n",
    "\n",
    "# Calculate frequency\n",
    "df_aux['frequency'] = df_aux[['buy_', 'days_']].apply(lambda x: x['buy_'] / x['days_'] if x['days_'] != 0 else 0, axis=1)\n",
    "\n",
    "# Merge\n",
    "df_ref = pd.merge(df_ref, df_aux[['customer_id', 'frequency']], how='left', on='customer_id')\n",
    "\n",
    "df_ref.isna().sum()"
   ]
  },
  {
   "cell_type": "code",
   "execution_count": 31,
   "id": "e1f5b42e",
   "metadata": {
    "execution": {
     "iopub.execute_input": "2022-10-01T15:48:28.994504Z",
     "iopub.status.busy": "2022-10-01T15:48:28.994504Z",
     "iopub.status.idle": "2022-10-01T15:48:29.012568Z",
     "shell.execute_reply": "2022-10-01T15:48:29.012568Z"
    },
    "papermill": {
     "duration": 0.034064,
     "end_time": "2022-10-01T15:48:29.014567",
     "exception": false,
     "start_time": "2022-10-01T15:48:28.980503",
     "status": "completed"
    },
    "tags": []
   },
   "outputs": [
    {
     "data": {
      "text/plain": [
       "customer_id       0\n",
       "gross_revenue    67\n",
       "recency_days     67\n",
       "qty_invoices     67\n",
       "qty_items        67\n",
       "qty_products     67\n",
       "avg_ticket       67\n",
       "frequency        67\n",
       "qty_returns       0\n",
       "dtype: int64"
      ]
     },
     "execution_count": 31,
     "metadata": {},
     "output_type": "execute_result"
    }
   ],
   "source": [
    "# Number of returns\n",
    "df_returns = df3_returns[['customer_id', 'quantity']].groupby('customer_id').sum().reset_index().rename(columns={'quantity': 'qty_returns'})\n",
    "df_returns['qty_returns'] = df_returns['qty_returns'] * -1\n",
    "\n",
    "# Merge\n",
    "df_ref = pd.merge(df_ref, df_returns, how='left', on='customer_id')\n",
    "df_ref.loc[df_ref['qty_returns'].isna(), 'qty_returns'] = 0\n",
    "\n",
    "df_ref.isna().sum()"
   ]
  },
  {
   "cell_type": "code",
   "execution_count": 32,
   "id": "4be40d62",
   "metadata": {
    "execution": {
     "iopub.execute_input": "2022-10-01T15:48:29.041558Z",
     "iopub.status.busy": "2022-10-01T15:48:29.040583Z",
     "iopub.status.idle": "2022-10-01T15:48:29.124584Z",
     "shell.execute_reply": "2022-10-01T15:48:29.124584Z"
    },
    "papermill": {
     "duration": 0.099003,
     "end_time": "2022-10-01T15:48:29.126574",
     "exception": false,
     "start_time": "2022-10-01T15:48:29.027571",
     "status": "completed"
    },
    "tags": []
   },
   "outputs": [
    {
     "data": {
      "text/plain": [
       "customer_id       0\n",
       "gross_revenue    67\n",
       "recency_days     67\n",
       "qty_invoices     67\n",
       "qty_items        67\n",
       "qty_products     67\n",
       "avg_ticket       67\n",
       "frequency        67\n",
       "qty_returns       0\n",
       "returns_ratio     0\n",
       "dtype: int64"
      ]
     },
     "execution_count": 32,
     "metadata": {},
     "output_type": "execute_result"
    }
   ],
   "source": [
    "# Ratio of number of returns\n",
    "df_aux = df_ref[['customer_id', 'qty_items', 'qty_returns']].groupby('customer_id').sum().reset_index()\n",
    "df_aux['returns_ratio'] = df_aux[['qty_items', 'qty_returns']].apply(lambda x: 0 if x['qty_returns'] <= 0 else 0 if x['qty_items'] <= 0 else x['qty_returns'] / x['qty_items'], axis=1)\n",
    "\n",
    "# Merge\n",
    "df_ref = pd.merge(df_ref, df_aux[['customer_id', 'returns_ratio']], how='left', on='customer_id')\n",
    "\n",
    "df_ref = df_ref[df_ref['returns_ratio'] < 1.0] # cleaning customers with ratio above 1.0\n",
    "\n",
    "df_ref.isna().sum()"
   ]
  },
  {
   "cell_type": "code",
   "execution_count": 33,
   "id": "e283c4d7",
   "metadata": {
    "execution": {
     "iopub.execute_input": "2022-10-01T15:48:29.154568Z",
     "iopub.status.busy": "2022-10-01T15:48:29.154568Z",
     "iopub.status.idle": "2022-10-01T15:48:29.282072Z",
     "shell.execute_reply": "2022-10-01T15:48:29.281570Z"
    },
    "papermill": {
     "duration": 0.143523,
     "end_time": "2022-10-01T15:48:29.283094",
     "exception": false,
     "start_time": "2022-10-01T15:48:29.139571",
     "status": "completed"
    },
    "tags": []
   },
   "outputs": [
    {
     "data": {
      "text/plain": [
       "customer_id         0\n",
       "gross_revenue      67\n",
       "recency_days       67\n",
       "qty_invoices       67\n",
       "qty_items          67\n",
       "qty_products       67\n",
       "avg_ticket         67\n",
       "frequency          67\n",
       "qty_returns         0\n",
       "returns_ratio       0\n",
       "avg_basket_size    67\n",
       "dtype: int64"
      ]
     },
     "execution_count": 33,
     "metadata": {},
     "output_type": "execute_result"
    }
   ],
   "source": [
    "# Basket Size (Quantity)\n",
    "df_aux = (df3_purchases[['customer_id', 'invoice_no', 'quantity']].groupby('customer_id')\n",
    "                                                         .agg(n_purchase=('invoice_no', 'nunique'), \n",
    "                                                         n_products=('quantity', 'sum')).reset_index())\n",
    "\n",
    "# calculate basket size\n",
    "df_aux['avg_basket_size'] = df_aux['n_products'] / df_aux['n_purchase']\n",
    "\n",
    "# Merge\n",
    "df_ref = pd.merge(df_ref, df_aux[['customer_id', 'avg_basket_size']], how='left', on='customer_id')\n",
    "\n",
    "df_ref.isna().sum()"
   ]
  },
  {
   "cell_type": "code",
   "execution_count": 34,
   "id": "569c67cb",
   "metadata": {
    "execution": {
     "iopub.execute_input": "2022-10-01T15:48:29.312099Z",
     "iopub.status.busy": "2022-10-01T15:48:29.311083Z",
     "iopub.status.idle": "2022-10-01T15:48:29.629110Z",
     "shell.execute_reply": "2022-10-01T15:48:29.629110Z"
    },
    "papermill": {
     "duration": 0.33399,
     "end_time": "2022-10-01T15:48:29.631082",
     "exception": false,
     "start_time": "2022-10-01T15:48:29.297092",
     "status": "completed"
    },
    "tags": []
   },
   "outputs": [
    {
     "data": {
      "text/plain": [
       "customer_id                0\n",
       "gross_revenue             67\n",
       "recency_days              67\n",
       "qty_invoices              67\n",
       "qty_items                 67\n",
       "qty_products              67\n",
       "avg_ticket                67\n",
       "frequency                 67\n",
       "qty_returns                0\n",
       "returns_ratio              0\n",
       "avg_basket_size           67\n",
       "avg_unique_basket_size    67\n",
       "dtype: int64"
      ]
     },
     "execution_count": 34,
     "metadata": {},
     "output_type": "execute_result"
    }
   ],
   "source": [
    "# Unique Basket Size\n",
    "df_aux = (df3_purchases[['customer_id', 'invoice_no', 'stock_code']].groupby('customer_id')\n",
    "                                                         .agg(n_purchase=('invoice_no', 'nunique'), \n",
    "                                                         n_products=('stock_code', 'nunique')).reset_index())\n",
    "\n",
    "# calculate basket size\n",
    "df_aux['avg_unique_basket_size'] = df_aux['n_products'] / df_aux['n_purchase']\n",
    "\n",
    "# Merge\n",
    "df_ref = pd.merge(df_ref, df_aux[['customer_id', 'avg_unique_basket_size']], how='left', on='customer_id')\n",
    "\n",
    "df_ref.isna().sum()"
   ]
  },
  {
   "cell_type": "code",
   "execution_count": 35,
   "id": "8cc71f74",
   "metadata": {
    "execution": {
     "iopub.execute_input": "2022-10-01T15:48:29.659082Z",
     "iopub.status.busy": "2022-10-01T15:48:29.659082Z",
     "iopub.status.idle": "2022-10-01T15:48:29.931110Z",
     "shell.execute_reply": "2022-10-01T15:48:29.931110Z"
    },
    "papermill": {
     "duration": 0.287994,
     "end_time": "2022-10-01T15:48:29.933082",
     "exception": false,
     "start_time": "2022-10-01T15:48:29.645088",
     "status": "completed"
    },
    "tags": []
   },
   "outputs": [
    {
     "data": {
      "text/plain": [
       "customer_id                0\n",
       "gross_revenue             67\n",
       "recency_days              67\n",
       "qty_invoices              67\n",
       "qty_items                 67\n",
       "qty_products              67\n",
       "avg_ticket                67\n",
       "frequency                 67\n",
       "qty_returns                0\n",
       "returns_ratio              0\n",
       "avg_basket_size           67\n",
       "avg_unique_basket_size    67\n",
       "period_of_buy_day         67\n",
       "dtype: int64"
      ]
     },
     "execution_count": 35,
     "metadata": {},
     "output_type": "execute_result"
    }
   ],
   "source": [
    "# Period of buy in each day\n",
    "\n",
    "df_aux = df3_purchases[['customer_id', 'day', 'invoice_no']].drop_duplicates(subset='invoice_no')\n",
    "df_aux['period_of_buy_day'] = df_aux.apply(lambda x: 'before_11' if x['day'] <= 10 else 'between_11_20' if x['day'] <= 20 else 'after_20', axis=1)\n",
    "df_aux = df_aux[['customer_id', 'period_of_buy_day', 'day']].groupby(['customer_id', 'period_of_buy_day']).count().sort_values('day', ascending=False).reset_index().drop_duplicates(subset='customer_id')\n",
    "\n",
    "# Merge\n",
    "df_ref = pd.merge(df_ref, df_aux[['customer_id', 'period_of_buy_day']], how='left', on='customer_id')\n",
    "\n",
    "df_ref.isna().sum()"
   ]
  },
  {
   "cell_type": "code",
   "execution_count": 36,
   "id": "f64b3595",
   "metadata": {
    "execution": {
     "iopub.execute_input": "2022-10-01T15:48:29.962081Z",
     "iopub.status.busy": "2022-10-01T15:48:29.961082Z",
     "iopub.status.idle": "2022-10-01T15:48:30.281111Z",
     "shell.execute_reply": "2022-10-01T15:48:30.281111Z"
    },
    "papermill": {
     "duration": 0.336,
     "end_time": "2022-10-01T15:48:30.283082",
     "exception": false,
     "start_time": "2022-10-01T15:48:29.947082",
     "status": "completed"
    },
    "tags": []
   },
   "outputs": [
    {
     "data": {
      "text/plain": [
       "customer_id                0\n",
       "gross_revenue             67\n",
       "recency_days              67\n",
       "qty_invoices              67\n",
       "qty_items                 67\n",
       "qty_products              67\n",
       "avg_ticket                67\n",
       "frequency                 67\n",
       "qty_returns                0\n",
       "returns_ratio              0\n",
       "avg_basket_size           67\n",
       "avg_unique_basket_size    67\n",
       "period_of_buy_day         67\n",
       "period_of_buy_quarter     67\n",
       "dtype: int64"
      ]
     },
     "execution_count": 36,
     "metadata": {},
     "output_type": "execute_result"
    }
   ],
   "source": [
    "# Period of buy in each quarter\n",
    "\n",
    "df_aux = df3_purchases[['customer_id', 'month', 'invoice_no']].drop_duplicates(subset='invoice_no')\n",
    "df_aux['period_of_buy_quarter'] = df_aux.apply(lambda x: 1 if x['month'] <= 3 else 2 if x['month'] <= 6 else 3 if x['month'] <= 9 else 4, axis=1)\n",
    "df_aux = df_aux[['customer_id', 'period_of_buy_quarter', 'month']].groupby(['customer_id', 'period_of_buy_quarter']).count().sort_values('month', ascending=False).reset_index().drop_duplicates(subset='customer_id')\n",
    "\n",
    "# Merge\n",
    "df_ref = pd.merge(df_ref, df_aux[['customer_id', 'period_of_buy_quarter']], how='left', on='customer_id')\n",
    "\n",
    "df_ref.isna().sum()"
   ]
  },
  {
   "cell_type": "code",
   "execution_count": 37,
   "id": "11032fa0",
   "metadata": {
    "execution": {
     "iopub.execute_input": "2022-10-01T15:48:30.312483Z",
     "iopub.status.busy": "2022-10-01T15:48:30.311490Z",
     "iopub.status.idle": "2022-10-01T15:48:30.359621Z",
     "shell.execute_reply": "2022-10-01T15:48:30.359621Z"
    },
    "papermill": {
     "duration": 0.064155,
     "end_time": "2022-10-01T15:48:30.361618",
     "exception": false,
     "start_time": "2022-10-01T15:48:30.297463",
     "status": "completed"
    },
    "tags": []
   },
   "outputs": [
    {
     "data": {
      "text/plain": [
       "customer_id                0\n",
       "gross_revenue             67\n",
       "recency_days              67\n",
       "qty_invoices              67\n",
       "qty_items                 67\n",
       "qty_products              67\n",
       "avg_ticket                67\n",
       "frequency                 67\n",
       "qty_returns                0\n",
       "returns_ratio              0\n",
       "avg_basket_size           67\n",
       "avg_unique_basket_size    67\n",
       "period_of_buy_day         67\n",
       "period_of_buy_quarter     67\n",
       "country                    0\n",
       "dtype: int64"
      ]
     },
     "execution_count": 37,
     "metadata": {},
     "output_type": "execute_result"
    }
   ],
   "source": [
    "# Country\n",
    "df_aux = df3[['customer_id', 'country']].drop_duplicates(subset='customer_id')\n",
    "\n",
    "# Merge\n",
    "df_ref = pd.merge(df_ref, df_aux, how='left', on='customer_id')\n",
    "\n",
    "df_ref.isna().sum()"
   ]
  },
  {
   "cell_type": "code",
   "execution_count": 38,
   "id": "c888042e",
   "metadata": {
    "execution": {
     "iopub.execute_input": "2022-10-01T15:48:30.389628Z",
     "iopub.status.busy": "2022-10-01T15:48:30.389628Z",
     "iopub.status.idle": "2022-10-01T15:48:30.406099Z",
     "shell.execute_reply": "2022-10-01T15:48:30.406099Z"
    },
    "papermill": {
     "duration": 0.033487,
     "end_time": "2022-10-01T15:48:30.408114",
     "exception": false,
     "start_time": "2022-10-01T15:48:30.374627",
     "status": "completed"
    },
    "tags": []
   },
   "outputs": [
    {
     "data": {
      "text/plain": [
       "customer_id               0\n",
       "gross_revenue             0\n",
       "recency_days              0\n",
       "qty_invoices              0\n",
       "qty_items                 0\n",
       "qty_products              0\n",
       "avg_ticket                0\n",
       "frequency                 0\n",
       "qty_returns               0\n",
       "returns_ratio             0\n",
       "avg_basket_size           0\n",
       "avg_unique_basket_size    0\n",
       "period_of_buy_day         0\n",
       "period_of_buy_quarter     0\n",
       "country                   0\n",
       "dtype: int64"
      ]
     },
     "execution_count": 38,
     "metadata": {},
     "output_type": "execute_result"
    }
   ],
   "source": [
    "df_ref = df_ref.dropna()\n",
    "\n",
    "df_ref['period_of_buy_quarter'] = df_ref['period_of_buy_quarter'].astype('int64')\n",
    "\n",
    "df_ref.isna().sum()"
   ]
  },
  {
   "cell_type": "markdown",
   "id": "704534ab",
   "metadata": {
    "heading_collapsed": true,
    "papermill": {
     "duration": 0.014,
     "end_time": "2022-10-01T15:48:30.436113",
     "exception": false,
     "start_time": "2022-10-01T15:48:30.422113",
     "status": "completed"
    },
    "tags": []
   },
   "source": [
    "# 4.0 Análise exploratória dos dados"
   ]
  },
  {
   "cell_type": "code",
   "execution_count": 39,
   "id": "c53f1f71",
   "metadata": {
    "execution": {
     "iopub.execute_input": "2022-10-01T15:48:30.465104Z",
     "iopub.status.busy": "2022-10-01T15:48:30.464103Z",
     "iopub.status.idle": "2022-10-01T15:48:30.470102Z",
     "shell.execute_reply": "2022-10-01T15:48:30.469131Z"
    },
    "papermill": {
     "duration": 0.022008,
     "end_time": "2022-10-01T15:48:30.471121",
     "exception": false,
     "start_time": "2022-10-01T15:48:30.449113",
     "status": "completed"
    },
    "tags": []
   },
   "outputs": [],
   "source": [
    "df4 = df_ref.copy()"
   ]
  },
  {
   "cell_type": "markdown",
   "id": "d66d7aaf",
   "metadata": {
    "papermill": {
     "duration": 0.012998,
     "end_time": "2022-10-01T15:48:30.498113",
     "exception": false,
     "start_time": "2022-10-01T15:48:30.485115",
     "status": "completed"
    },
    "tags": []
   },
   "source": [
    "# 5.0 Preparação dos dados"
   ]
  },
  {
   "cell_type": "code",
   "execution_count": 40,
   "id": "7f996cf2",
   "metadata": {
    "execution": {
     "iopub.execute_input": "2022-10-01T15:48:30.527121Z",
     "iopub.status.busy": "2022-10-01T15:48:30.526120Z",
     "iopub.status.idle": "2022-10-01T15:48:30.532132Z",
     "shell.execute_reply": "2022-10-01T15:48:30.532132Z"
    },
    "papermill": {
     "duration": 0.022006,
     "end_time": "2022-10-01T15:48:30.534120",
     "exception": false,
     "start_time": "2022-10-01T15:48:30.512114",
     "status": "completed"
    },
    "tags": []
   },
   "outputs": [],
   "source": [
    "df5 = df4.drop(columns=['customer_id'], axis=1).copy()"
   ]
  },
  {
   "cell_type": "code",
   "execution_count": 41,
   "id": "2d91112c",
   "metadata": {
    "execution": {
     "iopub.execute_input": "2022-10-01T15:48:30.564122Z",
     "iopub.status.busy": "2022-10-01T15:48:30.563104Z",
     "iopub.status.idle": "2022-10-01T15:48:32.755644Z",
     "shell.execute_reply": "2022-10-01T15:48:32.754655Z"
    },
    "papermill": {
     "duration": 2.20954,
     "end_time": "2022-10-01T15:48:32.757659",
     "exception": false,
     "start_time": "2022-10-01T15:48:30.548119",
     "status": "completed"
    },
    "tags": []
   },
   "outputs": [],
   "source": [
    "# Make rescaling for data organization analysis\n",
    "mms = pp.MinMaxScaler()\n",
    "fs = s3fs.S3FileSystem(anon=False)\n",
    "\n",
    "\n",
    "gross_revenue_scaler = pickle.load(fs.open( 's3://insiders-ds/gross_revenue_scaler.pkl', 'rb' ))\n",
    "df5['gross_revenue'] = gross_revenue_scaler.transform(df5[['gross_revenue']].values)\n",
    "\n",
    "\n",
    "recency_days_scaler = pickle.load(fs.open( 's3://insiders-ds/recency_days_scaler.pkl', 'rb' ))\n",
    "df5['recency_days'] = recency_days_scaler.transform(df5[['recency_days']].values)\n",
    "\n",
    "\n",
    "qty_invoices_scaler = pickle.load(fs.open( 's3://insiders-ds/qty_invoices_scaler.pkl', 'rb' ))\n",
    "df5['qty_invoices'] = qty_invoices_scaler.transform(df5[['qty_invoices']].values)\n",
    "\n",
    "\n",
    "qty_items_scaler = pickle.load(fs.open( 's3://insiders-ds/qty_items_scaler.pkl', 'rb' ))\n",
    "df5['qty_items'] = qty_items_scaler.transform(df5[['qty_items']].values)\n",
    "\n",
    "\n",
    "qty_products_scaler = pickle.load(fs.open( 's3://insiders-ds/qty_products_scaler.pkl', 'rb' ))\n",
    "df5['qty_products'] = qty_products_scaler.transform(df5[['qty_products']].values)\n",
    "\n",
    "\n",
    "avg_ticket_scaler = pickle.load(fs.open( 's3://insiders-ds/avg_ticket_scaler.pkl', 'rb' ))\n",
    "df5['avg_ticket'] = avg_ticket_scaler.transform(df5[['avg_ticket']].values)\n",
    "\n",
    "\n",
    "frequency_scaler = pickle.load(fs.open( 's3://insiders-ds/frequency_scaler.pkl', 'rb' ))\n",
    "df5['frequency'] = frequency_scaler.transform(df5[['frequency']].values)\n",
    "\n",
    "\n",
    "qty_returns_scaler = pickle.load(fs.open( 's3://insiders-ds/qty_returns_scaler.pkl', 'rb' ))\n",
    "df5['qty_returns'] = qty_returns_scaler.transform(df5[['qty_returns']].values)\n",
    "\n",
    "\n",
    "returns_ratio_scaler = pickle.load(fs.open( 's3://insiders-ds/returns_ratio_scaler.pkl', 'rb' ))\n",
    "df5['returns_ratio'] = returns_ratio_scaler.transform(df5[['returns_ratio']].values)\n",
    "\n",
    "\n",
    "avg_basket_size_scaler = pickle.load(fs.open( 's3://insiders-ds/avg_basket_size_scaler.pkl', 'rb' ))\n",
    "df5['avg_basket_size'] = avg_basket_size_scaler.transform(df5[['avg_basket_size']].values)\n",
    "\n",
    "\n",
    "avg_unique_basket_size_scaler = pickle.load(fs.open( 's3://insiders-ds/avg_unique_basket_size_scaler.pkl', 'rb' ))\n",
    "df5['avg_unique_basket_size'] = avg_unique_basket_size_scaler.transform(df5[['avg_unique_basket_size']].values)\n",
    "\n",
    "\n",
    "period_of_buy_quarter_scaler = pickle.load(fs.open( 's3://insiders-ds/period_of_buy_quarter_scaler.pkl', 'rb' ))\n",
    "df5['period_of_buy_quarter'] = period_of_buy_quarter_scaler.transform(df5[['period_of_buy_quarter']].values)\n",
    "\n",
    "# Frequency Encoder\n",
    "fe_period_of_buy_day = pickle.load(fs.open( 's3://insiders-ds/fe_period_of_buy_day_enc.pkl', 'rb' ))\n",
    "df5.loc[:, 'period_of_buy_day'] = df5['period_of_buy_day'].map(fe_period_of_buy_day)\n",
    "\n",
    "fe_country = pickle.load(fs.open( 's3://insiders-ds/fe_country_enc.pkl', 'rb' ))\n",
    "df5.loc[:, 'country'] = df5['country'].map(fe_country)"
   ]
  },
  {
   "cell_type": "markdown",
   "id": "eccf18e3",
   "metadata": {
    "papermill": {
     "duration": 0.023995,
     "end_time": "2022-10-01T15:48:32.820653",
     "exception": false,
     "start_time": "2022-10-01T15:48:32.796658",
     "status": "completed"
    },
    "tags": []
   },
   "source": [
    "# 6.0 Estudo do espaço"
   ]
  },
  {
   "cell_type": "code",
   "execution_count": 42,
   "id": "efafc277",
   "metadata": {
    "execution": {
     "iopub.execute_input": "2022-10-01T15:48:32.850644Z",
     "iopub.status.busy": "2022-10-01T15:48:32.849660Z",
     "iopub.status.idle": "2022-10-01T15:48:32.867645Z",
     "shell.execute_reply": "2022-10-01T15:48:32.866671Z"
    },
    "papermill": {
     "duration": 0.034001,
     "end_time": "2022-10-01T15:48:32.868653",
     "exception": false,
     "start_time": "2022-10-01T15:48:32.834652",
     "status": "completed"
    },
    "tags": []
   },
   "outputs": [],
   "source": [
    "X = df5.copy()"
   ]
  },
  {
   "cell_type": "markdown",
   "id": "2c1a057d",
   "metadata": {
    "papermill": {
     "duration": 0.012983,
     "end_time": "2022-10-01T15:48:32.896643",
     "exception": false,
     "start_time": "2022-10-01T15:48:32.883660",
     "status": "completed"
    },
    "tags": []
   },
   "source": [
    "## 6.4 Tree-based Embedding"
   ]
  },
  {
   "cell_type": "markdown",
   "id": "0f18bcfb",
   "metadata": {
    "papermill": {
     "duration": 0.014,
     "end_time": "2022-10-01T15:48:32.924643",
     "exception": false,
     "start_time": "2022-10-01T15:48:32.910643",
     "status": "completed"
    },
    "tags": []
   },
   "source": [
    "### 6.4.2 Tree Embedding"
   ]
  },
  {
   "cell_type": "code",
   "execution_count": 43,
   "id": "effc22a5",
   "metadata": {
    "execution": {
     "iopub.execute_input": "2022-10-01T15:48:32.953643Z",
     "iopub.status.busy": "2022-10-01T15:48:32.952645Z",
     "iopub.status.idle": "2022-10-01T15:48:38.819123Z",
     "shell.execute_reply": "2022-10-01T15:48:38.819123Z"
    },
    "papermill": {
     "duration": 5.883468,
     "end_time": "2022-10-01T15:48:38.821111",
     "exception": false,
     "start_time": "2022-10-01T15:48:32.937643",
     "status": "completed"
    },
    "tags": []
   },
   "outputs": [],
   "source": [
    "# training dataset\n",
    "X = df5.drop(columns=['gross_revenue'], axis=1).copy()\n",
    "y = df4['gross_revenue']\n",
    "\n",
    "rf_model = pickle.load(fs.open( 's3://insiders-ds/rf_model.pkl', 'rb' ))\n",
    "\n",
    "# make dataframe for leaf\n",
    "df_leaf = pd.DataFrame(rf_model.apply(X))\n",
    "\n",
    "# reducer dimensionality\n",
    "reducer = pickle.load(fs.open( 's3://insiders-ds/umap_reducer.pkl', 'rb' ))\n",
    "\n",
    "embedding = reducer.transform(df_leaf)\n",
    "\n",
    "# Embedding\n",
    "df_tree = pd.DataFrame()\n",
    "df_tree['embedding_x'] = embedding[:,0]\n",
    "df_tree['embedding_y'] = embedding[:,1]"
   ]
  },
  {
   "cell_type": "markdown",
   "id": "6b4a5ec5",
   "metadata": {
    "heading_collapsed": true,
    "papermill": {
     "duration": 0.014016,
     "end_time": "2022-10-01T15:48:38.849109",
     "exception": false,
     "start_time": "2022-10-01T15:48:38.835093",
     "status": "completed"
    },
    "tags": []
   },
   "source": [
    "# 9.0 Machine Learning Modeling"
   ]
  },
  {
   "cell_type": "markdown",
   "id": "8c133d1a",
   "metadata": {
    "papermill": {
     "duration": 0.013993,
     "end_time": "2022-10-01T15:48:38.877104",
     "exception": false,
     "start_time": "2022-10-01T15:48:38.863111",
     "status": "completed"
    },
    "tags": []
   },
   "source": [
    "## 9.1 HC"
   ]
  },
  {
   "cell_type": "code",
   "execution_count": 44,
   "id": "5020f511",
   "metadata": {
    "execution": {
     "iopub.execute_input": "2022-10-01T15:48:38.907095Z",
     "iopub.status.busy": "2022-10-01T15:48:38.906111Z",
     "iopub.status.idle": "2022-10-01T15:48:38.916096Z",
     "shell.execute_reply": "2022-10-01T15:48:38.915105Z"
    },
    "papermill": {
     "duration": 0.02599,
     "end_time": "2022-10-01T15:48:38.917094",
     "exception": false,
     "start_time": "2022-10-01T15:48:38.891104",
     "status": "completed"
    },
    "tags": []
   },
   "outputs": [],
   "source": [
    "X = df_tree.copy()"
   ]
  },
  {
   "cell_type": "code",
   "execution_count": 45,
   "id": "1ed40f87",
   "metadata": {
    "execution": {
     "iopub.execute_input": "2022-10-01T15:48:38.946106Z",
     "iopub.status.busy": "2022-10-01T15:48:38.945107Z",
     "iopub.status.idle": "2022-10-01T15:48:40.562537Z",
     "shell.execute_reply": "2022-10-01T15:48:40.562537Z"
    },
    "papermill": {
     "duration": 1.633444,
     "end_time": "2022-10-01T15:48:40.564538",
     "exception": false,
     "start_time": "2022-10-01T15:48:38.931094",
     "status": "completed"
    },
    "tags": []
   },
   "outputs": [],
   "source": [
    "# model definition and training\n",
    "hc_model = hc.linkage(X, 'ward')\n",
    "\n",
    "# Model predict\n",
    "labels = hc.fcluster(hc_model, 8, criterion='maxclust')\n",
    "\n",
    "# Metrics\n",
    "sil = m.silhouette_score(X, labels)"
   ]
  },
  {
   "cell_type": "markdown",
   "id": "63c26545",
   "metadata": {
    "papermill": {
     "duration": 0.014002,
     "end_time": "2022-10-01T15:48:40.595539",
     "exception": false,
     "start_time": "2022-10-01T15:48:40.581537",
     "status": "completed"
    },
    "tags": []
   },
   "source": [
    "## 9.2 Cluster Validation"
   ]
  },
  {
   "cell_type": "code",
   "execution_count": 46,
   "id": "23cb40a7",
   "metadata": {
    "execution": {
     "iopub.execute_input": "2022-10-01T15:48:40.626540Z",
     "iopub.status.busy": "2022-10-01T15:48:40.625555Z",
     "iopub.status.idle": "2022-10-01T15:48:41.274537Z",
     "shell.execute_reply": "2022-10-01T15:48:41.274537Z"
    },
    "papermill": {
     "duration": 0.666002,
     "end_time": "2022-10-01T15:48:41.276540",
     "exception": false,
     "start_time": "2022-10-01T15:48:40.610538",
     "status": "completed"
    },
    "tags": []
   },
   "outputs": [
    {
     "name": "stdout",
     "output_type": "stream",
     "text": [
      "Silhouette Score: 0.5387789607048035\n",
      "Number of clusters: [1 2 3 4 5 6 7 8]\n"
     ]
    }
   ],
   "source": [
    "sil = m.silhouette_score(X, labels)\n",
    "print(f'Silhouette Score: {sil}')\n",
    "print(f'Number of clusters: {np.unique(labels)}')"
   ]
  },
  {
   "cell_type": "markdown",
   "id": "cb72c978",
   "metadata": {
    "heading_collapsed": true,
    "papermill": {
     "duration": 0.014,
     "end_time": "2022-10-01T15:48:41.304540",
     "exception": false,
     "start_time": "2022-10-01T15:48:41.290540",
     "status": "completed"
    },
    "tags": []
   },
   "source": [
    "# 10.0 Cluster Analysis"
   ]
  },
  {
   "cell_type": "code",
   "execution_count": 47,
   "id": "2499d92a",
   "metadata": {
    "execution": {
     "iopub.execute_input": "2022-10-01T15:48:41.334540Z",
     "iopub.status.busy": "2022-10-01T15:48:41.334540Z",
     "iopub.status.idle": "2022-10-01T15:48:41.352554Z",
     "shell.execute_reply": "2022-10-01T15:48:41.352554Z"
    },
    "papermill": {
     "duration": 0.036002,
     "end_time": "2022-10-01T15:48:41.354539",
     "exception": false,
     "start_time": "2022-10-01T15:48:41.318537",
     "status": "completed"
    },
    "tags": []
   },
   "outputs": [
    {
     "data": {
      "text/html": [
       "<div>\n",
       "<style scoped>\n",
       "    .dataframe tbody tr th:only-of-type {\n",
       "        vertical-align: middle;\n",
       "    }\n",
       "\n",
       "    .dataframe tbody tr th {\n",
       "        vertical-align: top;\n",
       "    }\n",
       "\n",
       "    .dataframe thead th {\n",
       "        text-align: right;\n",
       "    }\n",
       "</style>\n",
       "<table border=\"1\" class=\"dataframe\">\n",
       "  <thead>\n",
       "    <tr style=\"text-align: right;\">\n",
       "      <th></th>\n",
       "      <th>embedding_x</th>\n",
       "      <th>embedding_y</th>\n",
       "      <th>cluster</th>\n",
       "    </tr>\n",
       "  </thead>\n",
       "  <tbody>\n",
       "    <tr>\n",
       "      <th>0</th>\n",
       "      <td>-7.710938</td>\n",
       "      <td>7.817896</td>\n",
       "      <td>1</td>\n",
       "    </tr>\n",
       "    <tr>\n",
       "      <th>1</th>\n",
       "      <td>-7.098626</td>\n",
       "      <td>9.921972</td>\n",
       "      <td>1</td>\n",
       "    </tr>\n",
       "    <tr>\n",
       "      <th>2</th>\n",
       "      <td>0.227572</td>\n",
       "      <td>17.649805</td>\n",
       "      <td>5</td>\n",
       "    </tr>\n",
       "    <tr>\n",
       "      <th>3</th>\n",
       "      <td>2.463838</td>\n",
       "      <td>-6.946425</td>\n",
       "      <td>3</td>\n",
       "    </tr>\n",
       "    <tr>\n",
       "      <th>4</th>\n",
       "      <td>20.882982</td>\n",
       "      <td>7.314658</td>\n",
       "      <td>7</td>\n",
       "    </tr>\n",
       "  </tbody>\n",
       "</table>\n",
       "</div>"
      ],
      "text/plain": [
       "   embedding_x  embedding_y  cluster\n",
       "0    -7.710938     7.817896        1\n",
       "1    -7.098626     9.921972        1\n",
       "2     0.227572    17.649805        5\n",
       "3     2.463838    -6.946425        3\n",
       "4    20.882982     7.314658        7"
      ]
     },
     "execution_count": 47,
     "metadata": {},
     "output_type": "execute_result"
    }
   ],
   "source": [
    "df10 = X.copy()\n",
    "df10['cluster'] = labels\n",
    "df10.head()"
   ]
  },
  {
   "cell_type": "markdown",
   "id": "e5586cd1",
   "metadata": {
    "papermill": {
     "duration": 0.012999,
     "end_time": "2022-10-01T15:48:41.381537",
     "exception": false,
     "start_time": "2022-10-01T15:48:41.368538",
     "status": "completed"
    },
    "tags": []
   },
   "source": [
    "## 10.4 Cluster Profile"
   ]
  },
  {
   "cell_type": "code",
   "execution_count": 48,
   "id": "72584429",
   "metadata": {
    "execution": {
     "iopub.execute_input": "2022-10-01T15:48:41.411540Z",
     "iopub.status.busy": "2022-10-01T15:48:41.410538Z",
     "iopub.status.idle": "2022-10-01T15:48:41.463543Z",
     "shell.execute_reply": "2022-10-01T15:48:41.462538Z"
    },
    "papermill": {
     "duration": 0.07,
     "end_time": "2022-10-01T15:48:41.465539",
     "exception": false,
     "start_time": "2022-10-01T15:48:41.395539",
     "status": "completed"
    },
    "tags": []
   },
   "outputs": [
    {
     "data": {
      "text/html": [
       "<div>\n",
       "<style scoped>\n",
       "    .dataframe tbody tr th:only-of-type {\n",
       "        vertical-align: middle;\n",
       "    }\n",
       "\n",
       "    .dataframe tbody tr th {\n",
       "        vertical-align: top;\n",
       "    }\n",
       "\n",
       "    .dataframe thead th {\n",
       "        text-align: right;\n",
       "    }\n",
       "</style>\n",
       "<table border=\"1\" class=\"dataframe\">\n",
       "  <thead>\n",
       "    <tr style=\"text-align: right;\">\n",
       "      <th></th>\n",
       "      <th>cluster</th>\n",
       "      <th>cluster_name</th>\n",
       "      <th>customer_id</th>\n",
       "      <th>perc_customer</th>\n",
       "      <th>gross_revenue</th>\n",
       "      <th>recency_days</th>\n",
       "      <th>qty_products</th>\n",
       "      <th>frequency</th>\n",
       "      <th>returns_ratio</th>\n",
       "    </tr>\n",
       "  </thead>\n",
       "  <tbody>\n",
       "    <tr>\n",
       "      <th>0</th>\n",
       "      <td>1</td>\n",
       "      <td>Insiders</td>\n",
       "      <td>416</td>\n",
       "      <td>7.323944</td>\n",
       "      <td>8299.488822</td>\n",
       "      <td>38.004808</td>\n",
       "      <td>244.173077</td>\n",
       "      <td>0.027744</td>\n",
       "      <td>0.014972</td>\n",
       "    </tr>\n",
       "    <tr>\n",
       "      <th>4</th>\n",
       "      <td>5</td>\n",
       "      <td>Loyal Customers</td>\n",
       "      <td>480</td>\n",
       "      <td>8.450704</td>\n",
       "      <td>5976.284792</td>\n",
       "      <td>40.052083</td>\n",
       "      <td>276.172917</td>\n",
       "      <td>0.030870</td>\n",
       "      <td>0.014057</td>\n",
       "    </tr>\n",
       "    <tr>\n",
       "      <th>1</th>\n",
       "      <td>2</td>\n",
       "      <td>Potential Loyalists</td>\n",
       "      <td>1045</td>\n",
       "      <td>18.397887</td>\n",
       "      <td>1864.093828</td>\n",
       "      <td>87.016268</td>\n",
       "      <td>144.840191</td>\n",
       "      <td>0.009118</td>\n",
       "      <td>0.011055</td>\n",
       "    </tr>\n",
       "    <tr>\n",
       "      <th>3</th>\n",
       "      <td>4</td>\n",
       "      <td>Promissing</td>\n",
       "      <td>413</td>\n",
       "      <td>7.271127</td>\n",
       "      <td>1006.376731</td>\n",
       "      <td>106.910412</td>\n",
       "      <td>82.353511</td>\n",
       "      <td>0.006745</td>\n",
       "      <td>0.010866</td>\n",
       "    </tr>\n",
       "    <tr>\n",
       "      <th>2</th>\n",
       "      <td>3</td>\n",
       "      <td>Need Attention</td>\n",
       "      <td>647</td>\n",
       "      <td>11.390845</td>\n",
       "      <td>722.784590</td>\n",
       "      <td>97.290572</td>\n",
       "      <td>55.729521</td>\n",
       "      <td>0.006588</td>\n",
       "      <td>0.008663</td>\n",
       "    </tr>\n",
       "    <tr>\n",
       "      <th>7</th>\n",
       "      <td>8</td>\n",
       "      <td>Hibernating</td>\n",
       "      <td>1400</td>\n",
       "      <td>24.647887</td>\n",
       "      <td>467.971243</td>\n",
       "      <td>135.263571</td>\n",
       "      <td>38.179286</td>\n",
       "      <td>0.004370</td>\n",
       "      <td>0.011303</td>\n",
       "    </tr>\n",
       "    <tr>\n",
       "      <th>6</th>\n",
       "      <td>7</td>\n",
       "      <td>Price Sensitive</td>\n",
       "      <td>660</td>\n",
       "      <td>11.619718</td>\n",
       "      <td>232.572364</td>\n",
       "      <td>181.074242</td>\n",
       "      <td>21.440909</td>\n",
       "      <td>0.003246</td>\n",
       "      <td>0.008394</td>\n",
       "    </tr>\n",
       "    <tr>\n",
       "      <th>5</th>\n",
       "      <td>6</td>\n",
       "      <td>Churn</td>\n",
       "      <td>619</td>\n",
       "      <td>10.897887</td>\n",
       "      <td>57.489305</td>\n",
       "      <td>196.901454</td>\n",
       "      <td>6.521809</td>\n",
       "      <td>0.002789</td>\n",
       "      <td>0.002412</td>\n",
       "    </tr>\n",
       "  </tbody>\n",
       "</table>\n",
       "</div>"
      ],
      "text/plain": [
       "   cluster         cluster_name  customer_id  perc_customer  gross_revenue  \\\n",
       "0        1             Insiders          416       7.323944    8299.488822   \n",
       "4        5      Loyal Customers          480       8.450704    5976.284792   \n",
       "1        2  Potential Loyalists         1045      18.397887    1864.093828   \n",
       "3        4          Promissing           413       7.271127    1006.376731   \n",
       "2        3       Need Attention          647      11.390845     722.784590   \n",
       "7        8          Hibernating         1400      24.647887     467.971243   \n",
       "6        7      Price Sensitive          660      11.619718     232.572364   \n",
       "5        6                Churn          619      10.897887      57.489305   \n",
       "\n",
       "   recency_days  qty_products  frequency  returns_ratio  \n",
       "0     38.004808    244.173077   0.027744       0.014972  \n",
       "4     40.052083    276.172917   0.030870       0.014057  \n",
       "1     87.016268    144.840191   0.009118       0.011055  \n",
       "3    106.910412     82.353511   0.006745       0.010866  \n",
       "2     97.290572     55.729521   0.006588       0.008663  \n",
       "7    135.263571     38.179286   0.004370       0.011303  \n",
       "6    181.074242     21.440909   0.003246       0.008394  \n",
       "5    196.901454      6.521809   0.002789       0.002412  "
      ]
     },
     "execution_count": 48,
     "metadata": {},
     "output_type": "execute_result"
    }
   ],
   "source": [
    "df10 = df4.reset_index( drop=True).copy()\n",
    "df10['cluster'] = labels\n",
    "\n",
    "# Number of customers\n",
    "df_cluster = df10[['customer_id', 'cluster']].groupby('cluster').count().reset_index()\n",
    "df_cluster['perc_customer'] = 100 * (df_cluster['customer_id'] / df_cluster['customer_id'].sum())\n",
    "\n",
    "# Avg Gross revenue\n",
    "df_avg_gross_revenue = df10[['gross_revenue', 'cluster']].groupby('cluster').mean().reset_index()\n",
    "df_cluster = pd.merge(df_cluster, df_avg_gross_revenue, how='inner', on='cluster')\n",
    "\n",
    "# Avg recency days\n",
    "df_avg_recency_days = df10[['recency_days', 'cluster']].groupby('cluster').mean().reset_index()\n",
    "df_cluster = pd.merge(df_cluster, df_avg_recency_days, how='inner', on='cluster')\n",
    "\n",
    "# Avg qty products\n",
    "df_avg_recency_days = df10[['qty_products', 'cluster']].groupby('cluster').mean().reset_index()\n",
    "df_cluster = pd.merge(df_cluster, df_avg_recency_days, how='inner', on='cluster')\n",
    "\n",
    "# Frequency\n",
    "df_invoice_no = df10[['frequency', 'cluster']].groupby('cluster').mean().reset_index()\n",
    "df_cluster = pd.merge(df_cluster, df_invoice_no, how='inner', on='cluster')\n",
    "\n",
    "# Returns ratio\n",
    "df_ticket = df10[['returns_ratio', 'cluster']].groupby('cluster').mean().reset_index()\n",
    "df_cluster = pd.merge(df_cluster, df_ticket, how='inner', on='cluster')\n",
    "\n",
    "# Cluster names from RFM Model\n",
    "names = {1 : \"Insiders\",\n",
    "         5 : \"Loyal Customers\",\n",
    "         2 : \"Potential Loyalists\",\n",
    "         4 : \"Promissing \",\n",
    "         3 : \"Need Attention\",\n",
    "         8 : \"Hibernating\",\n",
    "         7 : \"Price Sensitive\",\n",
    "         6 : \"Churn\"}\n",
    "df_cluster['cluster_name'] = df_cluster['cluster'].map(names)\n",
    "\n",
    "df_cluster[['cluster', 'cluster_name', 'customer_id', 'perc_customer', 'gross_revenue', 'recency_days', 'qty_products',\t'frequency', 'returns_ratio']].sort_values('gross_revenue', ascending=False)"
   ]
  },
  {
   "cell_type": "markdown",
   "id": "82038048",
   "metadata": {
    "papermill": {
     "duration": 0.013994,
     "end_time": "2022-10-01T15:48:41.494549",
     "exception": false,
     "start_time": "2022-10-01T15:48:41.480555",
     "status": "completed"
    },
    "tags": []
   },
   "source": [
    "### Cluster Name\n",
    "\n",
    "- 1 Cluster Insiders\n",
    "- 5 Cluster More frequency          \n",
    "- 2 Cluster Less days               \n",
    "- 4 Cluster More Products           \n",
    "- 3 Cluster Even More Products       \n",
    "- 8 Cluster Even Less days\n",
    "- 7 Cluster Spend Money \n",
    "- 6 Cluster More Buy"
   ]
  },
  {
   "cell_type": "markdown",
   "id": "15e0e6ae",
   "metadata": {
    "papermill": {
     "duration": 0.014999,
     "end_time": "2022-10-01T15:48:41.523549",
     "exception": false,
     "start_time": "2022-10-01T15:48:41.508550",
     "status": "completed"
    },
    "tags": []
   },
   "source": [
    "# 12.0 Deploy model to production"
   ]
  },
  {
   "cell_type": "code",
   "execution_count": 49,
   "id": "c3da8de7",
   "metadata": {
    "execution": {
     "iopub.execute_input": "2022-10-01T15:48:41.553545Z",
     "iopub.status.busy": "2022-10-01T15:48:41.552539Z",
     "iopub.status.idle": "2022-10-01T15:48:41.573651Z",
     "shell.execute_reply": "2022-10-01T15:48:41.573651Z"
    },
    "papermill": {
     "duration": 0.039112,
     "end_time": "2022-10-01T15:48:41.575650",
     "exception": false,
     "start_time": "2022-10-01T15:48:41.536538",
     "status": "completed"
    },
    "tags": []
   },
   "outputs": [
    {
     "data": {
      "text/plain": [
       "customer_id                 int64\n",
       "gross_revenue             float64\n",
       "recency_days              float64\n",
       "qty_invoices              float64\n",
       "qty_items                 float64\n",
       "qty_products              float64\n",
       "avg_ticket                float64\n",
       "frequency                 float64\n",
       "qty_returns               float64\n",
       "returns_ratio             float64\n",
       "avg_basket_size           float64\n",
       "avg_unique_basket_size    float64\n",
       "period_of_buy_day          object\n",
       "period_of_buy_quarter       int64\n",
       "country                    object\n",
       "cluster                     int32\n",
       "dtype: object"
      ]
     },
     "execution_count": 49,
     "metadata": {},
     "output_type": "execute_result"
    }
   ],
   "source": [
    "df10.dtypes"
   ]
  },
  {
   "cell_type": "code",
   "execution_count": 50,
   "id": "0729df21",
   "metadata": {
    "execution": {
     "iopub.execute_input": "2022-10-01T15:48:41.605652Z",
     "iopub.status.busy": "2022-10-01T15:48:41.605652Z",
     "iopub.status.idle": "2022-10-01T15:48:41.620870Z",
     "shell.execute_reply": "2022-10-01T15:48:41.619844Z"
    },
    "papermill": {
     "duration": 0.031211,
     "end_time": "2022-10-01T15:48:41.621860",
     "exception": false,
     "start_time": "2022-10-01T15:48:41.590649",
     "status": "completed"
    },
    "tags": []
   },
   "outputs": [],
   "source": [
    "df10['recency_days'] = df10['recency_days'].astype('int64')\n",
    "df10['qty_invoices'] = df10['qty_invoices'].astype('int64')\n",
    "df10['qty_items'] = df10['qty_items'].astype('int64')\n",
    "df10['qty_products'] = df10['qty_products'].astype('int64')\n",
    "df10['qty_returns'] = df10['qty_returns'].astype('int64')\n",
    "df10['cluster'] = df10['cluster'].astype('int64')"
   ]
  },
  {
   "cell_type": "code",
   "execution_count": 51,
   "id": "dcc69439",
   "metadata": {
    "execution": {
     "iopub.execute_input": "2022-10-01T15:48:41.652858Z",
     "iopub.status.busy": "2022-10-01T15:48:41.651850Z",
     "iopub.status.idle": "2022-10-01T15:48:41.666860Z",
     "shell.execute_reply": "2022-10-01T15:48:41.666860Z"
    },
    "papermill": {
     "duration": 0.032001,
     "end_time": "2022-10-01T15:48:41.668860",
     "exception": false,
     "start_time": "2022-10-01T15:48:41.636859",
     "status": "completed"
    },
    "tags": []
   },
   "outputs": [
    {
     "data": {
      "text/html": [
       "<div>\n",
       "<style scoped>\n",
       "    .dataframe tbody tr th:only-of-type {\n",
       "        vertical-align: middle;\n",
       "    }\n",
       "\n",
       "    .dataframe tbody tr th {\n",
       "        vertical-align: top;\n",
       "    }\n",
       "\n",
       "    .dataframe thead th {\n",
       "        text-align: right;\n",
       "    }\n",
       "</style>\n",
       "<table border=\"1\" class=\"dataframe\">\n",
       "  <thead>\n",
       "    <tr style=\"text-align: right;\">\n",
       "      <th></th>\n",
       "      <th>customer_id</th>\n",
       "      <th>gross_revenue</th>\n",
       "      <th>recency_days</th>\n",
       "      <th>qty_invoices</th>\n",
       "      <th>qty_items</th>\n",
       "      <th>qty_products</th>\n",
       "      <th>avg_ticket</th>\n",
       "      <th>frequency</th>\n",
       "      <th>qty_returns</th>\n",
       "      <th>returns_ratio</th>\n",
       "      <th>avg_basket_size</th>\n",
       "      <th>avg_unique_basket_size</th>\n",
       "      <th>period_of_buy_day</th>\n",
       "      <th>period_of_buy_quarter</th>\n",
       "      <th>country</th>\n",
       "      <th>cluster</th>\n",
       "    </tr>\n",
       "  </thead>\n",
       "  <tbody>\n",
       "    <tr>\n",
       "      <th>0</th>\n",
       "      <td>17850</td>\n",
       "      <td>5391.21</td>\n",
       "      <td>372</td>\n",
       "      <td>34</td>\n",
       "      <td>1733</td>\n",
       "      <td>297</td>\n",
       "      <td>18.152222</td>\n",
       "      <td>0.091153</td>\n",
       "      <td>40</td>\n",
       "      <td>0.023081</td>\n",
       "      <td>50.970588</td>\n",
       "      <td>0.617647</td>\n",
       "      <td>after_20</td>\n",
       "      <td>4</td>\n",
       "      <td>United Kingdom</td>\n",
       "      <td>1</td>\n",
       "    </tr>\n",
       "    <tr>\n",
       "      <th>1</th>\n",
       "      <td>13047</td>\n",
       "      <td>3232.59</td>\n",
       "      <td>56</td>\n",
       "      <td>9</td>\n",
       "      <td>1390</td>\n",
       "      <td>171</td>\n",
       "      <td>18.904035</td>\n",
       "      <td>0.024129</td>\n",
       "      <td>35</td>\n",
       "      <td>0.025180</td>\n",
       "      <td>154.444444</td>\n",
       "      <td>11.666667</td>\n",
       "      <td>after_20</td>\n",
       "      <td>4</td>\n",
       "      <td>United Kingdom</td>\n",
       "      <td>1</td>\n",
       "    </tr>\n",
       "    <tr>\n",
       "      <th>2</th>\n",
       "      <td>12583</td>\n",
       "      <td>6705.38</td>\n",
       "      <td>2</td>\n",
       "      <td>15</td>\n",
       "      <td>5028</td>\n",
       "      <td>232</td>\n",
       "      <td>28.902500</td>\n",
       "      <td>0.040214</td>\n",
       "      <td>50</td>\n",
       "      <td>0.009944</td>\n",
       "      <td>335.200000</td>\n",
       "      <td>7.600000</td>\n",
       "      <td>before_11</td>\n",
       "      <td>4</td>\n",
       "      <td>France</td>\n",
       "      <td>5</td>\n",
       "    </tr>\n",
       "    <tr>\n",
       "      <th>3</th>\n",
       "      <td>13748</td>\n",
       "      <td>948.25</td>\n",
       "      <td>95</td>\n",
       "      <td>5</td>\n",
       "      <td>439</td>\n",
       "      <td>28</td>\n",
       "      <td>33.866071</td>\n",
       "      <td>0.013405</td>\n",
       "      <td>0</td>\n",
       "      <td>0.000000</td>\n",
       "      <td>87.800000</td>\n",
       "      <td>4.800000</td>\n",
       "      <td>before_11</td>\n",
       "      <td>3</td>\n",
       "      <td>United Kingdom</td>\n",
       "      <td>3</td>\n",
       "    </tr>\n",
       "    <tr>\n",
       "      <th>4</th>\n",
       "      <td>15100</td>\n",
       "      <td>876.00</td>\n",
       "      <td>333</td>\n",
       "      <td>3</td>\n",
       "      <td>80</td>\n",
       "      <td>3</td>\n",
       "      <td>292.000000</td>\n",
       "      <td>0.008043</td>\n",
       "      <td>22</td>\n",
       "      <td>0.275000</td>\n",
       "      <td>26.666667</td>\n",
       "      <td>0.333333</td>\n",
       "      <td>before_11</td>\n",
       "      <td>4</td>\n",
       "      <td>United Kingdom</td>\n",
       "      <td>7</td>\n",
       "    </tr>\n",
       "  </tbody>\n",
       "</table>\n",
       "</div>"
      ],
      "text/plain": [
       "   customer_id  gross_revenue  recency_days  qty_invoices  qty_items  \\\n",
       "0        17850        5391.21           372            34       1733   \n",
       "1        13047        3232.59            56             9       1390   \n",
       "2        12583        6705.38             2            15       5028   \n",
       "3        13748         948.25            95             5        439   \n",
       "4        15100         876.00           333             3         80   \n",
       "\n",
       "   qty_products  avg_ticket  frequency  qty_returns  returns_ratio  \\\n",
       "0           297   18.152222   0.091153           40       0.023081   \n",
       "1           171   18.904035   0.024129           35       0.025180   \n",
       "2           232   28.902500   0.040214           50       0.009944   \n",
       "3            28   33.866071   0.013405            0       0.000000   \n",
       "4             3  292.000000   0.008043           22       0.275000   \n",
       "\n",
       "   avg_basket_size  avg_unique_basket_size period_of_buy_day  \\\n",
       "0        50.970588                0.617647          after_20   \n",
       "1       154.444444               11.666667          after_20   \n",
       "2       335.200000                7.600000         before_11   \n",
       "3        87.800000                4.800000         before_11   \n",
       "4        26.666667                0.333333         before_11   \n",
       "\n",
       "   period_of_buy_quarter         country  cluster  \n",
       "0                      4  United Kingdom        1  \n",
       "1                      4  United Kingdom        1  \n",
       "2                      4          France        5  \n",
       "3                      3  United Kingdom        3  \n",
       "4                      4  United Kingdom        7  "
      ]
     },
     "execution_count": 51,
     "metadata": {},
     "output_type": "execute_result"
    }
   ],
   "source": [
    "df10.head()"
   ]
  },
  {
   "cell_type": "code",
   "execution_count": 52,
   "id": "31c202dc",
   "metadata": {
    "execution": {
     "iopub.execute_input": "2022-10-01T15:48:41.699875Z",
     "iopub.status.busy": "2022-10-01T15:48:41.698848Z",
     "iopub.status.idle": "2022-10-01T15:48:46.771916Z",
     "shell.execute_reply": "2022-10-01T15:48:46.768891Z"
    },
    "papermill": {
     "duration": 5.094067,
     "end_time": "2022-10-01T15:48:46.777927",
     "exception": false,
     "start_time": "2022-10-01T15:48:41.683860",
     "status": "completed"
    },
    "tags": []
   },
   "outputs": [
    {
     "data": {
      "text/plain": [
       "[('pg_toast',), ('pg_catalog',), ('information_schema',), ('public',)]"
      ]
     },
     "execution_count": 52,
     "metadata": {},
     "output_type": "execute_result"
    }
   ],
   "source": [
    "# Credentials\n",
    "db_acess =  open('/.aws/dbacess', 'r')\n",
    "host = db_acess.readlines()[0][:-1]\n",
    "\n",
    "db_acess =  open('/.aws/dbacess', 'r')\n",
    "port = db_acess.readlines()[1][:-1]\n",
    "\n",
    "db_acess =  open('/.aws/dbacess', 'r')\n",
    "database = db_acess.readlines()[2][:-1]\n",
    "\n",
    "db_acess =  open('/.aws/dbacess', 'r')\n",
    "username = db_acess.readlines()[3][:-1]\n",
    "\n",
    "db_acess =  open('/.aws/dbacess', 'r')\n",
    "password = db_acess.readlines()[4]\n",
    "\n",
    "\n",
    "# Acess database\n",
    "conn = pg.connect(user=username,\n",
    "                  password=password,\n",
    "                  host=host,\n",
    "                  port=port,\n",
    "                  database=database)\n",
    "\n",
    "# Make a cursor into database\n",
    "cursor = conn.cursor()\n",
    "\n",
    "# Verify all schemas\n",
    "query_schema = \"\"\"\n",
    "    SELECT nspname\n",
    "    FROM pg_catalog.pg_namespace\n",
    "    \"\"\"\n",
    "\n",
    "cursor.execute(query_schema)\n",
    "record = cursor.fetchall()\n",
    "record"
   ]
  },
  {
   "cell_type": "code",
   "execution_count": 53,
   "id": "d71422d6",
   "metadata": {
    "execution": {
     "iopub.execute_input": "2022-10-01T15:48:46.846909Z",
     "iopub.status.busy": "2022-10-01T15:48:46.846909Z",
     "iopub.status.idle": "2022-10-01T15:48:46.913920Z",
     "shell.execute_reply": "2022-10-01T15:48:46.911918Z"
    },
    "papermill": {
     "duration": 0.091009,
     "end_time": "2022-10-01T15:48:46.918917",
     "exception": false,
     "start_time": "2022-10-01T15:48:46.827908",
     "status": "completed"
    },
    "tags": []
   },
   "outputs": [
    {
     "data": {
      "text/plain": [
       "[('insiders',)]"
      ]
     },
     "execution_count": 53,
     "metadata": {},
     "output_type": "execute_result"
    }
   ],
   "source": [
    "# Verify tables from the schema\n",
    "query_tables = \"\"\"\n",
    "    SELECT tablename\n",
    "    FROM pg_tables\n",
    "    WHERE schemaname='public'\n",
    "    \"\"\"\n",
    "\n",
    "cursor.execute(query_tables)\n",
    "record = cursor.fetchall()\n",
    "record"
   ]
  },
  {
   "cell_type": "code",
   "execution_count": 54,
   "id": "f7df5d45",
   "metadata": {
    "execution": {
     "iopub.execute_input": "2022-10-01T15:48:46.981916Z",
     "iopub.status.busy": "2022-10-01T15:48:46.981916Z",
     "iopub.status.idle": "2022-10-01T15:48:47.224424Z",
     "shell.execute_reply": "2022-10-01T15:48:47.224424Z"
    },
    "papermill": {
     "duration": 0.267503,
     "end_time": "2022-10-01T15:48:47.226413",
     "exception": false,
     "start_time": "2022-10-01T15:48:46.958910",
     "status": "completed"
    },
    "tags": []
   },
   "outputs": [
    {
     "name": "stderr",
     "output_type": "stream",
     "text": [
      "F:\\SamuelOliveiraAlvesd\\Anaconda3\\envs\\clustering_insiders\\lib\\site-packages\\pandas\\io\\sql.py:761: UserWarning: pandas only support SQLAlchemy connectable(engine/connection) ordatabase string URI or sqlite3 DBAPI2 connectionother DBAPI2 objects are not tested, please consider using SQLAlchemy\n",
      "  warnings.warn(\n"
     ]
    },
    {
     "data": {
      "text/html": [
       "<div>\n",
       "<style scoped>\n",
       "    .dataframe tbody tr th:only-of-type {\n",
       "        vertical-align: middle;\n",
       "    }\n",
       "\n",
       "    .dataframe tbody tr th {\n",
       "        vertical-align: top;\n",
       "    }\n",
       "\n",
       "    .dataframe thead th {\n",
       "        text-align: right;\n",
       "    }\n",
       "</style>\n",
       "<table border=\"1\" class=\"dataframe\">\n",
       "  <thead>\n",
       "    <tr style=\"text-align: right;\">\n",
       "      <th></th>\n",
       "      <th>customer_id</th>\n",
       "      <th>gross_revenue</th>\n",
       "      <th>recency_days</th>\n",
       "      <th>qty_invoices</th>\n",
       "      <th>qty_items</th>\n",
       "      <th>qty_products</th>\n",
       "      <th>avg_ticket</th>\n",
       "      <th>frequency</th>\n",
       "      <th>qty_returns</th>\n",
       "      <th>returns_ratio</th>\n",
       "      <th>avg_basket_size</th>\n",
       "      <th>avg_unique_basket_size</th>\n",
       "      <th>period_of_buy_day</th>\n",
       "      <th>period_of_buy_quarter</th>\n",
       "      <th>country</th>\n",
       "      <th>cluster</th>\n",
       "    </tr>\n",
       "  </thead>\n",
       "  <tbody>\n",
       "    <tr>\n",
       "      <th>0</th>\n",
       "      <td>17850</td>\n",
       "      <td>5391.21</td>\n",
       "      <td>372</td>\n",
       "      <td>34</td>\n",
       "      <td>1733</td>\n",
       "      <td>297</td>\n",
       "      <td>18.152222</td>\n",
       "      <td>0.091153</td>\n",
       "      <td>40</td>\n",
       "      <td>0.023081</td>\n",
       "      <td>50.970590</td>\n",
       "      <td>0.617647</td>\n",
       "      <td>after_20</td>\n",
       "      <td>4</td>\n",
       "      <td>United Kingdom</td>\n",
       "      <td>1</td>\n",
       "    </tr>\n",
       "    <tr>\n",
       "      <th>1</th>\n",
       "      <td>13047</td>\n",
       "      <td>3232.59</td>\n",
       "      <td>56</td>\n",
       "      <td>9</td>\n",
       "      <td>1390</td>\n",
       "      <td>171</td>\n",
       "      <td>18.904036</td>\n",
       "      <td>0.024129</td>\n",
       "      <td>35</td>\n",
       "      <td>0.025180</td>\n",
       "      <td>154.444440</td>\n",
       "      <td>11.666667</td>\n",
       "      <td>after_20</td>\n",
       "      <td>4</td>\n",
       "      <td>United Kingdom</td>\n",
       "      <td>1</td>\n",
       "    </tr>\n",
       "    <tr>\n",
       "      <th>2</th>\n",
       "      <td>12583</td>\n",
       "      <td>6705.38</td>\n",
       "      <td>2</td>\n",
       "      <td>15</td>\n",
       "      <td>5028</td>\n",
       "      <td>232</td>\n",
       "      <td>28.902500</td>\n",
       "      <td>0.040214</td>\n",
       "      <td>50</td>\n",
       "      <td>0.009944</td>\n",
       "      <td>335.200000</td>\n",
       "      <td>7.600000</td>\n",
       "      <td>before_11</td>\n",
       "      <td>4</td>\n",
       "      <td>France</td>\n",
       "      <td>5</td>\n",
       "    </tr>\n",
       "    <tr>\n",
       "      <th>3</th>\n",
       "      <td>13748</td>\n",
       "      <td>948.25</td>\n",
       "      <td>95</td>\n",
       "      <td>5</td>\n",
       "      <td>439</td>\n",
       "      <td>28</td>\n",
       "      <td>33.866070</td>\n",
       "      <td>0.013405</td>\n",
       "      <td>0</td>\n",
       "      <td>0.000000</td>\n",
       "      <td>87.800000</td>\n",
       "      <td>4.800000</td>\n",
       "      <td>before_11</td>\n",
       "      <td>3</td>\n",
       "      <td>United Kingdom</td>\n",
       "      <td>3</td>\n",
       "    </tr>\n",
       "    <tr>\n",
       "      <th>4</th>\n",
       "      <td>15100</td>\n",
       "      <td>876.00</td>\n",
       "      <td>333</td>\n",
       "      <td>3</td>\n",
       "      <td>80</td>\n",
       "      <td>3</td>\n",
       "      <td>292.000000</td>\n",
       "      <td>0.008043</td>\n",
       "      <td>22</td>\n",
       "      <td>0.275000</td>\n",
       "      <td>26.666666</td>\n",
       "      <td>0.333333</td>\n",
       "      <td>before_11</td>\n",
       "      <td>4</td>\n",
       "      <td>United Kingdom</td>\n",
       "      <td>7</td>\n",
       "    </tr>\n",
       "  </tbody>\n",
       "</table>\n",
       "</div>"
      ],
      "text/plain": [
       "   customer_id  gross_revenue  recency_days  qty_invoices  qty_items  \\\n",
       "0        17850        5391.21           372            34       1733   \n",
       "1        13047        3232.59            56             9       1390   \n",
       "2        12583        6705.38             2            15       5028   \n",
       "3        13748         948.25            95             5        439   \n",
       "4        15100         876.00           333             3         80   \n",
       "\n",
       "   qty_products  avg_ticket  frequency  qty_returns  returns_ratio  \\\n",
       "0           297   18.152222   0.091153           40       0.023081   \n",
       "1           171   18.904036   0.024129           35       0.025180   \n",
       "2           232   28.902500   0.040214           50       0.009944   \n",
       "3            28   33.866070   0.013405            0       0.000000   \n",
       "4             3  292.000000   0.008043           22       0.275000   \n",
       "\n",
       "   avg_basket_size  avg_unique_basket_size period_of_buy_day  \\\n",
       "0        50.970590                0.617647          after_20   \n",
       "1       154.444440               11.666667          after_20   \n",
       "2       335.200000                7.600000         before_11   \n",
       "3        87.800000                4.800000         before_11   \n",
       "4        26.666666                0.333333         before_11   \n",
       "\n",
       "   period_of_buy_quarter         country  cluster  \n",
       "0                      4  United Kingdom        1  \n",
       "1                      4  United Kingdom        1  \n",
       "2                      4          France        5  \n",
       "3                      3  United Kingdom        3  \n",
       "4                      4  United Kingdom        7  "
      ]
     },
     "execution_count": 54,
     "metadata": {},
     "output_type": "execute_result"
    }
   ],
   "source": [
    "# Collect tables into datafram\n",
    "query_tables_insurance = \"\"\"\n",
    "    SELECT *\n",
    "    FROM insiders\n",
    "    \"\"\"\n",
    "\n",
    "df_test = pd.read_sql(query_tables_insurance, con=conn)\n",
    "\n",
    "# close connection into database\n",
    "cursor.close()\n",
    "conn.close()\n",
    "\n",
    "df_test.head()"
   ]
  },
  {
   "cell_type": "code",
   "execution_count": 55,
   "id": "2ddd3abd",
   "metadata": {
    "execution": {
     "iopub.execute_input": "2022-10-01T15:48:47.259407Z",
     "iopub.status.busy": "2022-10-01T15:48:47.258395Z",
     "iopub.status.idle": "2022-10-01T15:48:47.271074Z",
     "shell.execute_reply": "2022-10-01T15:48:47.271074Z"
    },
    "papermill": {
     "duration": 0.030678,
     "end_time": "2022-10-01T15:48:47.273090",
     "exception": false,
     "start_time": "2022-10-01T15:48:47.242412",
     "status": "completed"
    },
    "tags": []
   },
   "outputs": [],
   "source": [
    "# ## Create Table\n",
    "# query_create_table = '''\n",
    "#     CREATE TABLE insiders (\n",
    "#     customer_id               INTEGER,\n",
    "#     gross_revenue             REAL,\n",
    "#     recency_days              INTEGER,\n",
    "#     qty_invoices              INTEGER,\n",
    "#     qty_items                 INTEGER,\n",
    "#     qty_products              INTEGER,\n",
    "#     avg_ticket                REAL,\n",
    "#     frequency                 REAL,\n",
    "#     qty_returns               INTEGER,\n",
    "#     returns_ratio             REAL,\n",
    "#     avg_basket_size           REAL,\n",
    "#     avg_unique_basket_size    REAL,\n",
    "#     period_of_buy_day         TEXT,\n",
    "#     period_of_buy_quarter     INTEGER,\n",
    "#     country                   TEXT,\n",
    "#     cluster                   INTEGER\n",
    "#     )\n",
    "# '''\n",
    "\n",
    "#conn = sqlite3.connect(path + 'insiders_db.sqlite')\n",
    "#conn.execute(query_create_table)\n",
    "#conn.commit()\n",
    "#conn.close()"
   ]
  },
  {
   "cell_type": "code",
   "execution_count": 56,
   "id": "54dd46a3",
   "metadata": {
    "execution": {
     "iopub.execute_input": "2022-10-01T15:48:47.305095Z",
     "iopub.status.busy": "2022-10-01T15:48:47.305095Z",
     "iopub.status.idle": "2022-10-01T15:48:47.318106Z",
     "shell.execute_reply": "2022-10-01T15:48:47.318106Z"
    },
    "papermill": {
     "duration": 0.032001,
     "end_time": "2022-10-01T15:48:47.320090",
     "exception": false,
     "start_time": "2022-10-01T15:48:47.288089",
     "status": "completed"
    },
    "tags": []
   },
   "outputs": [],
   "source": [
    "#path = 'F:/SamuelOliveiraAlvesd/Desktop/Data_Science/Projetos/insiders_clustering/data/processed/'\n",
    "\n",
    "#conn = create_engine('sqlite:///' + path + 'insiders_db.sqlite')\n",
    "\n",
    "#df10.to_sql('insiders', con=conn, if_exists='append', index=False)"
   ]
  }
 ],
 "metadata": {
  "kernelspec": {
   "display_name": "Python 3.9.13 ('clustering_insiders')",
   "language": "python",
   "name": "python3"
  },
  "language_info": {
   "codemirror_mode": {
    "name": "ipython",
    "version": 3
   },
   "file_extension": ".py",
   "mimetype": "text/x-python",
   "name": "python",
   "nbconvert_exporter": "python",
   "pygments_lexer": "ipython3",
   "version": "3.9.13"
  },
  "papermill": {
   "default_parameters": {},
   "duration": 44.349112,
   "end_time": "2022-10-01T15:48:48.134749",
   "environment_variables": {},
   "exception": null,
   "input_path": "src/models/c7.0-soaf-deploy.ipynb",
   "output_path": "reports/c7.0-soaf-deploy_01-10-2022-12-40-00_.ipynb",
   "parameters": {},
   "start_time": "2022-10-01T15:48:03.785637",
   "version": "2.3.4"
  },
  "vscode": {
   "interpreter": {
    "hash": "e08a737ba6124f6a5d6ff895849d863413ccabb69f6abd91b4f0ef8929a592df"
   }
  }
 },
 "nbformat": 4,
 "nbformat_minor": 5
}