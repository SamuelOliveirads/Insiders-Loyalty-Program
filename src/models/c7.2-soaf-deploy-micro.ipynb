{
 "cells": [
  {
   "cell_type": "markdown",
   "id": "931523ab",
   "metadata": {},
   "source": [
    "# High Value Customer Identification"
   ]
  },
  {
   "cell_type": "markdown",
   "id": "2d71cea6",
   "metadata": {
    "heading_collapsed": true
   },
   "source": [
    "# 0.0 Imports"
   ]
  },
  {
   "cell_type": "code",
   "execution_count": 1,
   "id": "30cd2ec5",
   "metadata": {
    "ExecuteTime": {
     "end_time": "2022-08-07T17:19:52.538335Z",
     "start_time": "2022-08-07T17:19:52.524353Z"
    },
    "hidden": true,
    "scrolled": true
   },
   "outputs": [],
   "source": [
    "import os\n",
    "import s3fs\n",
    "import pickle\n",
    "import sqlite3\n",
    "import psycopg2 as pg\n",
    "import regex    as re\n",
    "import numpy    as np\n",
    "import pandas   as pd\n",
    "\n",
    "from sqlalchemy          import create_engine\n",
    "from umap                import umap_         as umap\n",
    "from sklearn             import ensemble      as en\n",
    "from sklearn             import metrics       as m\n",
    "from sklearn             import preprocessing as pp\n",
    "from scipy.cluster       import hierarchy     as hc"
   ]
  },
  {
   "cell_type": "markdown",
   "id": "80ead6f6",
   "metadata": {
    "hidden": true
   },
   "source": [
    "## 0.2 Load Data"
   ]
  },
  {
   "cell_type": "code",
   "execution_count": 2,
   "id": "2038ea45",
   "metadata": {},
   "outputs": [],
   "source": [
    "AWS_ACCESS_KEY_ID = os.environ.get( 'AWS_ACCESS_KEY_ID_CDS' )\n",
    "AWS_SECRET_ACCESS_KEY = os.environ.get( 'AWS_SECRET_ACCESS_KEY_CDS' )\n",
    "\n",
    "path_s3 = 's3://insiders-ds/Ecommerce.csv'\n",
    "\n",
    "# Read files\n",
    "df1 = pd.read_csv(path_s3, low_memory=False, encoding='cp1252')"
   ]
  },
  {
   "cell_type": "markdown",
   "id": "981d6e99",
   "metadata": {},
   "source": [
    "# 1.0 Descrição dos dados"
   ]
  },
  {
   "cell_type": "markdown",
   "id": "448c31e3",
   "metadata": {},
   "source": [
    "## 1.1 Rename Columns"
   ]
  },
  {
   "cell_type": "code",
   "execution_count": 4,
   "id": "dc61061d",
   "metadata": {},
   "outputs": [],
   "source": [
    "# Drop error column\n",
    "df1 = df1.drop(columns=['Unnamed: 8'], axis=1)\n",
    "\n",
    "cols_news = ['invoice_no', 'stock_code', 'description', 'quantity', 'invoice_date',\n",
    "              'unit_price', 'customer_id', 'country']\n",
    "\n",
    "df1.columns = cols_news"
   ]
  },
  {
   "cell_type": "markdown",
   "id": "ade944bf",
   "metadata": {},
   "source": [
    "## 1.4 Check NA"
   ]
  },
  {
   "cell_type": "code",
   "execution_count": 7,
   "id": "62358954",
   "metadata": {},
   "outputs": [
    {
     "data": {
      "text/plain": [
       "invoice_no           0\n",
       "stock_code           0\n",
       "description       1454\n",
       "quantity             0\n",
       "invoice_date         0\n",
       "unit_price           0\n",
       "customer_id     135080\n",
       "country              0\n",
       "dtype: int64"
      ]
     },
     "execution_count": 7,
     "metadata": {},
     "output_type": "execute_result"
    }
   ],
   "source": [
    "df1.isna().sum()"
   ]
  },
  {
   "cell_type": "markdown",
   "id": "8c58285a",
   "metadata": {},
   "source": [
    "## 1.5 Fillout NA"
   ]
  },
  {
   "cell_type": "code",
   "execution_count": 8,
   "id": "42b727b1",
   "metadata": {},
   "outputs": [],
   "source": [
    "# Separate df into NA and not NA\n",
    "df_missing = df1.loc[df1['customer_id'].isna(), :]\n",
    "df_not_missing = df1.loc[~df1['customer_id'].isna(), :]\n",
    "\n",
    "# create df for reference\n",
    "df_backup = pd.DataFrame(df_missing['invoice_no'].drop_duplicates())\n",
    "\n",
    "# create sintetics customers id\n",
    "df_backup['customer_id'] = np.arange(19000, 19000+len(df_backup), 1)\n",
    "\n",
    "# merge results of recerence into original df\n",
    "df1 = pd.merge(df1, df_backup, on='invoice_no', how='left')\n",
    "\n",
    "# coalesce\n",
    "df1['customer_id'] = df1['customer_id_x'].combine_first(df1['customer_id_y'])\n",
    "\n",
    "# drop extra columns\n",
    "df1.drop(columns=['customer_id_x', 'customer_id_y'], axis=1, inplace=True)"
   ]
  },
  {
   "cell_type": "code",
   "execution_count": 9,
   "id": "3886961e",
   "metadata": {},
   "outputs": [
    {
     "data": {
      "text/plain": [
       "invoice_no         0\n",
       "stock_code         0\n",
       "description     1454\n",
       "quantity           0\n",
       "invoice_date       0\n",
       "unit_price         0\n",
       "country            0\n",
       "customer_id        0\n",
       "dtype: int64"
      ]
     },
     "execution_count": 9,
     "metadata": {},
     "output_type": "execute_result"
    }
   ],
   "source": [
    "# Description column is gonna be droped\n",
    "df1.isna().sum()"
   ]
  },
  {
   "cell_type": "markdown",
   "id": "a9ab69b9",
   "metadata": {},
   "source": [
    "## 1.6 Change Types"
   ]
  },
  {
   "cell_type": "code",
   "execution_count": 10,
   "id": "8b10a901",
   "metadata": {},
   "outputs": [],
   "source": [
    "# change invoice_date into date\n",
    "df1['invoice_date'] = pd.to_datetime(df1['invoice_date'], format='%d-%b-%y')\n",
    "\n",
    "# change customer_id into int \n",
    "df1['customer_id'] = df1['customer_id'].astype('int64')"
   ]
  },
  {
   "cell_type": "code",
   "execution_count": 11,
   "id": "8f277d89",
   "metadata": {},
   "outputs": [
    {
     "data": {
      "text/plain": [
       "invoice_no              object\n",
       "stock_code              object\n",
       "description             object\n",
       "quantity                 int64\n",
       "invoice_date    datetime64[ns]\n",
       "unit_price             float64\n",
       "country                 object\n",
       "customer_id              int64\n",
       "dtype: object"
      ]
     },
     "execution_count": 11,
     "metadata": {},
     "output_type": "execute_result"
    }
   ],
   "source": [
    "df1.dtypes"
   ]
  },
  {
   "cell_type": "markdown",
   "id": "ec78c4ac",
   "metadata": {
    "heading_collapsed": true
   },
   "source": [
    "# 2.0 Filtragem de variáveis"
   ]
  },
  {
   "cell_type": "markdown",
   "id": "f9a11fe4",
   "metadata": {
    "hidden": true
   },
   "source": [
    "## 2.1 Seleção das colunas"
   ]
  },
  {
   "cell_type": "code",
   "execution_count": 20,
   "id": "72851f9e",
   "metadata": {},
   "outputs": [],
   "source": [
    "df1.drop(columns='description', axis=1, inplace=True)"
   ]
  },
  {
   "cell_type": "markdown",
   "id": "0b53506a",
   "metadata": {
    "hidden": true
   },
   "source": [
    "## 2.2 Filtragem das linhas"
   ]
  },
  {
   "cell_type": "code",
   "execution_count": 21,
   "id": "a3ed0ce0",
   "metadata": {},
   "outputs": [],
   "source": [
    "# remove unit_price bellow 0.030 (bellow this consider promo or return)\n",
    "df1 = df1[df1['unit_price'] > 0.030]\n",
    "\n",
    "# remove stock code with only categoricals variables (expect DCGSSBOY and DCGSSGIRL)\n",
    "df1 = df1[~df1['stock_code'].isin(['POST', 'D', 'DOT', 'M', 'S', 'AMAZONFEE', \n",
    "                                    'm', 'PADS', 'B', 'CRUK', 'BANK CHARGES'])]\n",
    "\n",
    "# removes information from unidentified countries\n",
    "df1 = df1[~df1['country'].isin(['European Community', 'Unspecified'])]\n",
    "\n",
    "# bad users\n",
    "df1 = df1[~df1['customer_id'].isin([16446, 12346])]\n",
    "df1 = df1[~df1['invoice_no'].isin(['540815', '540818', 'C550456'])] # Customer 15749: duplicates orders"
   ]
  },
  {
   "cell_type": "markdown",
   "id": "055dd8b4",
   "metadata": {
    "heading_collapsed": true
   },
   "source": [
    "# 3.0 Feature Engineering"
   ]
  },
  {
   "cell_type": "code",
   "execution_count": 22,
   "id": "86d0b5d0",
   "metadata": {},
   "outputs": [],
   "source": [
    "df3 = df1.copy()"
   ]
  },
  {
   "cell_type": "markdown",
   "id": "cb69af25",
   "metadata": {
    "ExecuteTime": {
     "end_time": "2022-06-28T22:48:30.723509Z",
     "start_time": "2022-06-28T22:48:30.719497Z"
    },
    "hidden": true
   },
   "source": [
    "## 3.1 Feature Engineering"
   ]
  },
  {
   "cell_type": "code",
   "execution_count": 23,
   "id": "8e6b2da9",
   "metadata": {},
   "outputs": [
    {
     "name": "stderr",
     "output_type": "stream",
     "text": [
      "C:\\Users\\SamuelOliveiraAlvesd\\AppData\\Local\\Temp\\ipykernel_10876\\1101900786.py:8: FutureWarning: Series.dt.weekofyear and Series.dt.week have been deprecated. Please use Series.dt.isocalendar().week instead.\n",
      "  df3['week_of_year'] = df3['invoice_date'].dt.weekofyear\n"
     ]
    }
   ],
   "source": [
    "# Time series variables\n",
    "df3['day'] = df3['invoice_date'].dt.day\n",
    "\n",
    "df3['month'] = df3['invoice_date'].dt.month\n",
    "\n",
    "df3['year'] = df3['invoice_date'].dt.year\n",
    "\n",
    "df3['week_of_year'] = df3['invoice_date'].dt.weekofyear\n",
    "\n",
    "# separate dataframes for purchases and refunds\n",
    "df3_purchases = df3[df3['quantity'] >= 0]\n",
    "df3_returns = df3[df3['quantity'] < 0]"
   ]
  },
  {
   "cell_type": "code",
   "execution_count": 24,
   "id": "2312239f",
   "metadata": {},
   "outputs": [
    {
     "name": "stderr",
     "output_type": "stream",
     "text": [
      "C:\\Users\\SamuelOliveiraAlvesd\\AppData\\Local\\Temp\\ipykernel_10876\\1621994048.py:7: SettingWithCopyWarning: \n",
      "A value is trying to be set on a copy of a slice from a DataFrame.\n",
      "Try using .loc[row_indexer,col_indexer] = value instead\n",
      "\n",
      "See the caveats in the documentation: https://pandas.pydata.org/pandas-docs/stable/user_guide/indexing.html#returning-a-view-versus-a-copy\n",
      "  df3_purchases['gross_revenue'] = df3_purchases['quantity'] * df3_purchases['unit_price']\n"
     ]
    },
    {
     "data": {
      "text/plain": [
       "customer_id       0\n",
       "gross_revenue    67\n",
       "dtype: int64"
      ]
     },
     "execution_count": 24,
     "metadata": {},
     "output_type": "execute_result"
    }
   ],
   "source": [
    "# -------------------- Features based on RFM Model ---------------\n",
    "# make data frame for reference\n",
    "df_ref = df3[['customer_id']].drop_duplicates(ignore_index=True)\n",
    "\n",
    "\n",
    "# Gross Revenue (Faturamento) | quantity * price\n",
    "df3_purchases['gross_revenue'] = df3_purchases['quantity'] * df3_purchases['unit_price']\n",
    "\n",
    "\n",
    "# Monetary - Total buys from each customer\n",
    "df_monetary = df3_purchases[['customer_id', 'gross_revenue']].groupby('customer_id').sum().reset_index()\n",
    "df_ref = pd.merge(df_ref, df_monetary, on='customer_id', how='left')\n",
    "\n",
    "df_ref.isna().sum()"
   ]
  },
  {
   "cell_type": "code",
   "execution_count": 25,
   "id": "1737e0aa",
   "metadata": {},
   "outputs": [
    {
     "data": {
      "text/plain": [
       "customer_id       0\n",
       "gross_revenue    67\n",
       "recency_days     67\n",
       "dtype: int64"
      ]
     },
     "execution_count": 25,
     "metadata": {},
     "output_type": "execute_result"
    }
   ],
   "source": [
    "# Recency - Last day purchase for each customer\n",
    "df_recency = df3_purchases[['customer_id', 'invoice_date']].groupby('customer_id').max().reset_index()\n",
    "df_recency['recency_days'] = (df3['invoice_date'].max() - df_recency['invoice_date']).dt.days\n",
    "df_recency.drop(columns=['invoice_date'], inplace=True)\n",
    "df_ref = pd.merge(df_ref, df_recency, on='customer_id', how='left')\n",
    "\n",
    "df_ref.isna().sum()"
   ]
  },
  {
   "cell_type": "code",
   "execution_count": 26,
   "id": "99a05555",
   "metadata": {},
   "outputs": [
    {
     "data": {
      "text/plain": [
       "customer_id       0\n",
       "gross_revenue    67\n",
       "recency_days     67\n",
       "qty_invoices     67\n",
       "dtype: int64"
      ]
     },
     "execution_count": 26,
     "metadata": {},
     "output_type": "execute_result"
    }
   ],
   "source": [
    "# Quantity of purchased\n",
    "df_qnt = (df3_purchases[['customer_id', 'invoice_no']].drop_duplicates().groupby('customer_id')\n",
    "                                             .count().reset_index()\n",
    "                                             .rename(columns={'invoice_no': 'qty_invoices'}))\n",
    "\n",
    "df_ref = pd.merge(df_ref, df_qnt, on='customer_id', how='left')\n",
    "\n",
    "df_ref.isna().sum()"
   ]
  },
  {
   "cell_type": "code",
   "execution_count": 27,
   "id": "a2c6ef31",
   "metadata": {},
   "outputs": [
    {
     "data": {
      "text/plain": [
       "customer_id       0\n",
       "gross_revenue    67\n",
       "recency_days     67\n",
       "qty_invoices     67\n",
       "qty_items        67\n",
       "dtype: int64"
      ]
     },
     "execution_count": 27,
     "metadata": {},
     "output_type": "execute_result"
    }
   ],
   "source": [
    "# Quantity of items purchased\n",
    "df_qnt_items = (df3_purchases[['customer_id', 'quantity']].groupby('customer_id')\n",
    "                                             .sum().reset_index()\n",
    "                                             .rename(columns={'quantity': 'qty_items'}))\n",
    "\n",
    "df_ref = pd.merge(df_ref, df_qnt_items, on='customer_id', how='left')\n",
    "\n",
    "df_ref.isna().sum()                                             "
   ]
  },
  {
   "cell_type": "code",
   "execution_count": 28,
   "id": "b1e15f37",
   "metadata": {},
   "outputs": [
    {
     "data": {
      "text/plain": [
       "customer_id       0\n",
       "gross_revenue    67\n",
       "recency_days     67\n",
       "qty_invoices     67\n",
       "qty_items        67\n",
       "qty_products     67\n",
       "dtype: int64"
      ]
     },
     "execution_count": 28,
     "metadata": {},
     "output_type": "execute_result"
    }
   ],
   "source": [
    "# Quantity of products purchased\n",
    "df_qnt_products = (df3_purchases[['customer_id', 'stock_code']].groupby('customer_id')\n",
    "                                             .count().reset_index()\n",
    "                                             .rename(columns={'stock_code': 'qty_products'}))\n",
    "\n",
    "df_ref = pd.merge(df_ref, df_qnt_products, on='customer_id', how='left')\n",
    "\n",
    "df_ref.isna().sum()   "
   ]
  },
  {
   "cell_type": "code",
   "execution_count": 29,
   "id": "a1d96d4a",
   "metadata": {},
   "outputs": [
    {
     "data": {
      "text/plain": [
       "customer_id       0\n",
       "gross_revenue    67\n",
       "recency_days     67\n",
       "qty_invoices     67\n",
       "qty_items        67\n",
       "qty_products     67\n",
       "avg_ticket       67\n",
       "dtype: int64"
      ]
     },
     "execution_count": 29,
     "metadata": {},
     "output_type": "execute_result"
    }
   ],
   "source": [
    "# Avg ticket - average purchases per customer\n",
    "df_avg_ticket = df3_purchases[['customer_id', 'gross_revenue']].groupby('customer_id').mean().reset_index()\n",
    "df_avg_ticket.columns = ['customer_id', 'avg_ticket']\n",
    "df_ref = pd.merge(df_ref, df_avg_ticket, how='left', on='customer_id')\n",
    "\n",
    "df_ref.isna().sum()"
   ]
  },
  {
   "cell_type": "code",
   "execution_count": 30,
   "id": "be6e8ce7",
   "metadata": {},
   "outputs": [
    {
     "data": {
      "text/plain": [
       "customer_id       0\n",
       "gross_revenue    67\n",
       "recency_days     67\n",
       "qty_invoices     67\n",
       "qty_items        67\n",
       "qty_products     67\n",
       "avg_ticket       67\n",
       "frequency        67\n",
       "dtype: int64"
      ]
     },
     "execution_count": 30,
     "metadata": {},
     "output_type": "execute_result"
    }
   ],
   "source": [
    "# Frequency - Frequency of purchases in aprox one year\n",
    "df_aux = (df3_purchases[['customer_id', 'invoice_no', 'invoice_date']].drop_duplicates().groupby('customer_id')\n",
    "                                                            .agg(buy_ = ('invoice_no', 'count') ).reset_index())\n",
    "\n",
    "days = (df3_purchases['invoice_date'].max() - df3_purchases['invoice_date'].min()).days\n",
    "\n",
    "df_aux['days_'] = days\n",
    "\n",
    "# Calculate frequency\n",
    "df_aux['frequency'] = df_aux[['buy_', 'days_']].apply(lambda x: x['buy_'] / x['days_'] if x['days_'] != 0 else 0, axis=1)\n",
    "\n",
    "# Merge\n",
    "df_ref = pd.merge(df_ref, df_aux[['customer_id', 'frequency']], how='left', on='customer_id')\n",
    "\n",
    "df_ref.isna().sum()"
   ]
  },
  {
   "cell_type": "code",
   "execution_count": 31,
   "id": "e1f5b42e",
   "metadata": {},
   "outputs": [
    {
     "data": {
      "text/plain": [
       "customer_id       0\n",
       "gross_revenue    67\n",
       "recency_days     67\n",
       "qty_invoices     67\n",
       "qty_items        67\n",
       "qty_products     67\n",
       "avg_ticket       67\n",
       "frequency        67\n",
       "qty_returns       0\n",
       "dtype: int64"
      ]
     },
     "execution_count": 31,
     "metadata": {},
     "output_type": "execute_result"
    }
   ],
   "source": [
    "# Number of returns\n",
    "df_returns = df3_returns[['customer_id', 'quantity']].groupby('customer_id').sum().reset_index().rename(columns={'quantity': 'qty_returns'})\n",
    "df_returns['qty_returns'] = df_returns['qty_returns'] * -1\n",
    "\n",
    "# Merge\n",
    "df_ref = pd.merge(df_ref, df_returns, how='left', on='customer_id')\n",
    "df_ref.loc[df_ref['qty_returns'].isna(), 'qty_returns'] = 0\n",
    "\n",
    "df_ref.isna().sum()"
   ]
  },
  {
   "cell_type": "code",
   "execution_count": 32,
   "id": "4be40d62",
   "metadata": {},
   "outputs": [
    {
     "data": {
      "text/plain": [
       "customer_id       0\n",
       "gross_revenue    67\n",
       "recency_days     67\n",
       "qty_invoices     67\n",
       "qty_items        67\n",
       "qty_products     67\n",
       "avg_ticket       67\n",
       "frequency        67\n",
       "qty_returns       0\n",
       "returns_ratio     0\n",
       "dtype: int64"
      ]
     },
     "execution_count": 32,
     "metadata": {},
     "output_type": "execute_result"
    }
   ],
   "source": [
    "# Ratio of number of returns\n",
    "df_aux = df_ref[['customer_id', 'qty_items', 'qty_returns']].groupby('customer_id').sum().reset_index()\n",
    "df_aux['returns_ratio'] = df_aux[['qty_items', 'qty_returns']].apply(lambda x: 0 if x['qty_returns'] <= 0 else 0 if x['qty_items'] <= 0 else x['qty_returns'] / x['qty_items'], axis=1)\n",
    "\n",
    "# Merge\n",
    "df_ref = pd.merge(df_ref, df_aux[['customer_id', 'returns_ratio']], how='left', on='customer_id')\n",
    "\n",
    "df_ref = df_ref[df_ref['returns_ratio'] < 1.0] # cleaning customers with ratio above 1.0\n",
    "\n",
    "df_ref.isna().sum()"
   ]
  },
  {
   "cell_type": "code",
   "execution_count": 33,
   "id": "e283c4d7",
   "metadata": {},
   "outputs": [
    {
     "data": {
      "text/plain": [
       "customer_id         0\n",
       "gross_revenue      67\n",
       "recency_days       67\n",
       "qty_invoices       67\n",
       "qty_items          67\n",
       "qty_products       67\n",
       "avg_ticket         67\n",
       "frequency          67\n",
       "qty_returns         0\n",
       "returns_ratio       0\n",
       "avg_basket_size    67\n",
       "dtype: int64"
      ]
     },
     "execution_count": 33,
     "metadata": {},
     "output_type": "execute_result"
    }
   ],
   "source": [
    "# Basket Size (Quantity)\n",
    "df_aux = (df3_purchases[['customer_id', 'invoice_no', 'quantity']].groupby('customer_id')\n",
    "                                                         .agg(n_purchase=('invoice_no', 'nunique'), \n",
    "                                                         n_products=('quantity', 'sum')).reset_index())\n",
    "\n",
    "# calculate basket size\n",
    "df_aux['avg_basket_size'] = df_aux['n_products'] / df_aux['n_purchase']\n",
    "\n",
    "# Merge\n",
    "df_ref = pd.merge(df_ref, df_aux[['customer_id', 'avg_basket_size']], how='left', on='customer_id')\n",
    "\n",
    "df_ref.isna().sum()"
   ]
  },
  {
   "cell_type": "code",
   "execution_count": 34,
   "id": "569c67cb",
   "metadata": {},
   "outputs": [
    {
     "data": {
      "text/plain": [
       "customer_id                0\n",
       "gross_revenue             67\n",
       "recency_days              67\n",
       "qty_invoices              67\n",
       "qty_items                 67\n",
       "qty_products              67\n",
       "avg_ticket                67\n",
       "frequency                 67\n",
       "qty_returns                0\n",
       "returns_ratio              0\n",
       "avg_basket_size           67\n",
       "avg_unique_basket_size    67\n",
       "dtype: int64"
      ]
     },
     "execution_count": 34,
     "metadata": {},
     "output_type": "execute_result"
    }
   ],
   "source": [
    "# Unique Basket Size\n",
    "df_aux = (df3_purchases[['customer_id', 'invoice_no', 'stock_code']].groupby('customer_id')\n",
    "                                                         .agg(n_purchase=('invoice_no', 'nunique'), \n",
    "                                                         n_products=('stock_code', 'nunique')).reset_index())\n",
    "\n",
    "# calculate basket size\n",
    "df_aux['avg_unique_basket_size'] = df_aux['n_products'] / df_aux['n_purchase']\n",
    "\n",
    "# Merge\n",
    "df_ref = pd.merge(df_ref, df_aux[['customer_id', 'avg_unique_basket_size']], how='left', on='customer_id')\n",
    "\n",
    "df_ref.isna().sum()"
   ]
  },
  {
   "cell_type": "code",
   "execution_count": 35,
   "id": "8cc71f74",
   "metadata": {},
   "outputs": [
    {
     "data": {
      "text/plain": [
       "customer_id                0\n",
       "gross_revenue             67\n",
       "recency_days              67\n",
       "qty_invoices              67\n",
       "qty_items                 67\n",
       "qty_products              67\n",
       "avg_ticket                67\n",
       "frequency                 67\n",
       "qty_returns                0\n",
       "returns_ratio              0\n",
       "avg_basket_size           67\n",
       "avg_unique_basket_size    67\n",
       "period_of_buy_day         67\n",
       "dtype: int64"
      ]
     },
     "execution_count": 35,
     "metadata": {},
     "output_type": "execute_result"
    }
   ],
   "source": [
    "# Period of buy in each day\n",
    "\n",
    "df_aux = df3_purchases[['customer_id', 'day', 'invoice_no']].drop_duplicates(subset='invoice_no')\n",
    "df_aux['period_of_buy_day'] = df_aux.apply(lambda x: 'before_11' if x['day'] <= 10 else 'between_11_20' if x['day'] <= 20 else 'after_20', axis=1)\n",
    "df_aux = df_aux[['customer_id', 'period_of_buy_day', 'day']].groupby(['customer_id', 'period_of_buy_day']).count().sort_values('day', ascending=False).reset_index().drop_duplicates(subset='customer_id')\n",
    "\n",
    "# Merge\n",
    "df_ref = pd.merge(df_ref, df_aux[['customer_id', 'period_of_buy_day']], how='left', on='customer_id')\n",
    "\n",
    "df_ref.isna().sum()"
   ]
  },
  {
   "cell_type": "code",
   "execution_count": 36,
   "id": "f64b3595",
   "metadata": {},
   "outputs": [
    {
     "data": {
      "text/plain": [
       "customer_id                0\n",
       "gross_revenue             67\n",
       "recency_days              67\n",
       "qty_invoices              67\n",
       "qty_items                 67\n",
       "qty_products              67\n",
       "avg_ticket                67\n",
       "frequency                 67\n",
       "qty_returns                0\n",
       "returns_ratio              0\n",
       "avg_basket_size           67\n",
       "avg_unique_basket_size    67\n",
       "period_of_buy_day         67\n",
       "period_of_buy_quarter     67\n",
       "dtype: int64"
      ]
     },
     "execution_count": 36,
     "metadata": {},
     "output_type": "execute_result"
    }
   ],
   "source": [
    "# Period of buy in each quarter\n",
    "\n",
    "df_aux = df3_purchases[['customer_id', 'month', 'invoice_no']].drop_duplicates(subset='invoice_no')\n",
    "df_aux['period_of_buy_quarter'] = df_aux.apply(lambda x: 1 if x['month'] <= 3 else 2 if x['month'] <= 6 else 3 if x['month'] <= 9 else 4, axis=1)\n",
    "df_aux = df_aux[['customer_id', 'period_of_buy_quarter', 'month']].groupby(['customer_id', 'period_of_buy_quarter']).count().sort_values('month', ascending=False).reset_index().drop_duplicates(subset='customer_id')\n",
    "\n",
    "# Merge\n",
    "df_ref = pd.merge(df_ref, df_aux[['customer_id', 'period_of_buy_quarter']], how='left', on='customer_id')\n",
    "\n",
    "df_ref.isna().sum()"
   ]
  },
  {
   "cell_type": "code",
   "execution_count": 37,
   "id": "11032fa0",
   "metadata": {},
   "outputs": [
    {
     "data": {
      "text/plain": [
       "customer_id                0\n",
       "gross_revenue             67\n",
       "recency_days              67\n",
       "qty_invoices              67\n",
       "qty_items                 67\n",
       "qty_products              67\n",
       "avg_ticket                67\n",
       "frequency                 67\n",
       "qty_returns                0\n",
       "returns_ratio              0\n",
       "avg_basket_size           67\n",
       "avg_unique_basket_size    67\n",
       "period_of_buy_day         67\n",
       "period_of_buy_quarter     67\n",
       "country                    0\n",
       "dtype: int64"
      ]
     },
     "execution_count": 37,
     "metadata": {},
     "output_type": "execute_result"
    }
   ],
   "source": [
    "# Country\n",
    "df_aux = df3[['customer_id', 'country']].drop_duplicates(subset='customer_id')\n",
    "\n",
    "# Merge\n",
    "df_ref = pd.merge(df_ref, df_aux, how='left', on='customer_id')\n",
    "\n",
    "df_ref.isna().sum()"
   ]
  },
  {
   "cell_type": "code",
   "execution_count": 38,
   "id": "c888042e",
   "metadata": {},
   "outputs": [
    {
     "data": {
      "text/plain": [
       "customer_id               0\n",
       "gross_revenue             0\n",
       "recency_days              0\n",
       "qty_invoices              0\n",
       "qty_items                 0\n",
       "qty_products              0\n",
       "avg_ticket                0\n",
       "frequency                 0\n",
       "qty_returns               0\n",
       "returns_ratio             0\n",
       "avg_basket_size           0\n",
       "avg_unique_basket_size    0\n",
       "period_of_buy_day         0\n",
       "period_of_buy_quarter     0\n",
       "country                   0\n",
       "dtype: int64"
      ]
     },
     "execution_count": 38,
     "metadata": {},
     "output_type": "execute_result"
    }
   ],
   "source": [
    "df_ref = df_ref.dropna()\n",
    "\n",
    "df_ref['period_of_buy_quarter'] = df_ref['period_of_buy_quarter'].astype('int64')\n",
    "\n",
    "df_ref.isna().sum()"
   ]
  },
  {
   "cell_type": "markdown",
   "id": "d66d7aaf",
   "metadata": {},
   "source": [
    "# 5.0 Preparação dos dados"
   ]
  },
  {
   "cell_type": "code",
   "execution_count": 44,
   "id": "7f996cf2",
   "metadata": {},
   "outputs": [],
   "source": [
    "df5 = df_ref.drop(columns=['customer_id'], axis=1).copy()"
   ]
  },
  {
   "cell_type": "code",
   "execution_count": 45,
   "id": "2d91112c",
   "metadata": {},
   "outputs": [],
   "source": [
    "# Make rescaling for data organization analysis\n",
    "mms = pp.MinMaxScaler()\n",
    "fs = s3fs.S3FileSystem( anon=False, key=AWS_ACCESS_KEY_ID , secret=AWS_SECRET_ACCESS_KEY )\n",
    "\n",
    "\n",
    "gross_revenue_scaler = pickle.load(fs.open( 's3://insiders-ds/gross_revenue_scaler.pkl', 'rb' ))\n",
    "df5['gross_revenue'] = gross_revenue_scaler.transform(df5[['gross_revenue']].values)\n",
    "\n",
    "\n",
    "recency_days_scaler = pickle.load(fs.open( 's3://insiders-ds/recency_days_scaler.pkl', 'rb' ))\n",
    "df5['recency_days'] = recency_days_scaler.transform(df5[['recency_days']].values)\n",
    "\n",
    "\n",
    "qty_invoices_scaler = pickle.load(fs.open( 's3://insiders-ds/qty_invoices_scaler.pkl', 'rb' ))\n",
    "df5['qty_invoices'] = qty_invoices_scaler.transform(df5[['qty_invoices']].values)\n",
    "\n",
    "\n",
    "qty_items_scaler = pickle.load(fs.open( 's3://insiders-ds/qty_items_scaler.pkl', 'rb' ))\n",
    "df5['qty_items'] = qty_items_scaler.transform(df5[['qty_items']].values)\n",
    "\n",
    "\n",
    "qty_products_scaler = pickle.load(fs.open( 's3://insiders-ds/qty_products_scaler.pkl', 'rb' ))\n",
    "df5['qty_products'] = qty_products_scaler.transform(df5[['qty_products']].values)\n",
    "\n",
    "\n",
    "avg_ticket_scaler = pickle.load(fs.open( 's3://insiders-ds/avg_ticket_scaler.pkl', 'rb' ))\n",
    "df5['avg_ticket'] = avg_ticket_scaler.transform(df5[['avg_ticket']].values)\n",
    "\n",
    "\n",
    "frequency_scaler = pickle.load(fs.open( 's3://insiders-ds/frequency_scaler.pkl', 'rb' ))\n",
    "df5['frequency'] = frequency_scaler.transform(df5[['frequency']].values)\n",
    "\n",
    "\n",
    "qty_returns_scaler = pickle.load(fs.open( 's3://insiders-ds/qty_returns_scaler.pkl', 'rb' ))\n",
    "df5['qty_returns'] = qty_returns_scaler.transform(df5[['qty_returns']].values)\n",
    "\n",
    "\n",
    "returns_ratio_scaler = pickle.load(fs.open( 's3://insiders-ds/returns_ratio_scaler.pkl', 'rb' ))\n",
    "df5['returns_ratio'] = returns_ratio_scaler.transform(df5[['returns_ratio']].values)\n",
    "\n",
    "\n",
    "avg_basket_size_scaler = pickle.load(fs.open( 's3://insiders-ds/avg_basket_size_scaler.pkl', 'rb' ))\n",
    "df5['avg_basket_size'] = avg_basket_size_scaler.transform(df5[['avg_basket_size']].values)\n",
    "\n",
    "\n",
    "avg_unique_basket_size_scaler = pickle.load(fs.open( 's3://insiders-ds/avg_unique_basket_size_scaler.pkl', 'rb' ))\n",
    "df5['avg_unique_basket_size'] = avg_unique_basket_size_scaler.transform(df5[['avg_unique_basket_size']].values)\n",
    "\n",
    "\n",
    "period_of_buy_quarter_scaler = pickle.load(fs.open( 's3://insiders-ds/period_of_buy_quarter_scaler.pkl', 'rb' ))\n",
    "df5['period_of_buy_quarter'] = period_of_buy_quarter_scaler.transform(df5[['period_of_buy_quarter']].values)\n",
    "\n",
    "# Frequency Encoder\n",
    "fe_period_of_buy_day = pickle.load(fs.open( 's3://insiders-ds/fe_period_of_buy_day_enc.pkl', 'rb' ))\n",
    "df5.loc[:, 'period_of_buy_day'] = df5['period_of_buy_day'].map(fe_period_of_buy_day)\n",
    "\n",
    "fe_country = pickle.load(fs.open( 's3://insiders-ds/fe_country_enc.pkl', 'rb' ))\n",
    "df5.loc[:, 'country'] = df5['country'].map(fe_country)"
   ]
  },
  {
   "cell_type": "markdown",
   "id": "d66d7aaf",
   "metadata": {},
   "source": [
    "# 6.0 Estudo do espaço"
   ]
  },
  {
   "cell_type": "code",
   "execution_count": 47,
   "id": "efafc277",
   "metadata": {},
   "outputs": [],
   "source": [
    "X = df5.copy()"
   ]
  },
  {
   "cell_type": "markdown",
   "id": "2c1a057d",
   "metadata": {},
   "source": [
    "## 6.4 Tree-based Embedding"
   ]
  },
  {
   "cell_type": "markdown",
   "id": "0f18bcfb",
   "metadata": {},
   "source": [
    "### 6.4.2 Tree Embedding"
   ]
  },
  {
   "cell_type": "code",
   "execution_count": 48,
   "id": "effc22a5",
   "metadata": {},
   "outputs": [],
   "source": [
    "# training dataset\n",
    "X = df5.drop(columns=['gross_revenue'], axis=1).copy()\n",
    "y = df_ref['gross_revenue']\n",
    "\n",
    "rf_model = pickle.load(fs.open( 's3://insiders-ds/rf_model.pkl', 'rb' ))\n",
    "\n",
    "# make dataframe for leaf\n",
    "df_leaf = pd.DataFrame(rf_model.apply(X))\n",
    "\n",
    "# reducer dimensionality\n",
    "reducer = pickle.load(fs.open( 's3://insiders-ds/umap_reducer.pkl', 'rb' ))\n",
    "\n",
    "embedding = reducer.transform(df_leaf)\n",
    "\n",
    "# Embedding\n",
    "df_tree = pd.DataFrame()\n",
    "df_tree['embedding_x'] = embedding[:,0]\n",
    "df_tree['embedding_y'] = embedding[:,1]"
   ]
  },
  {
   "cell_type": "markdown",
   "id": "6b4a5ec5",
   "metadata": {
    "heading_collapsed": true
   },
   "source": [
    "# 9.0 Machine Learning Modeling"
   ]
  },
  {
   "cell_type": "markdown",
   "id": "8c133d1a",
   "metadata": {},
   "source": [
    "## 9.1 HC"
   ]
  },
  {
   "cell_type": "code",
   "execution_count": null,
   "id": "5020f511",
   "metadata": {},
   "outputs": [],
   "source": [
    "X = df_tree.copy()"
   ]
  },
  {
   "cell_type": "code",
   "execution_count": null,
   "id": "1ed40f87",
   "metadata": {},
   "outputs": [],
   "source": [
    "# model definition and training\n",
    "hc_model = hc.linkage(X, 'ward')\n",
    "\n",
    "# Model predict\n",
    "labels = hc.fcluster(hc_model, 8, criterion='maxclust')\n",
    "\n",
    "# Metrics\n",
    "sil = m.silhouette_score(X, labels)"
   ]
  },
  {
   "cell_type": "markdown",
   "id": "cb72c978",
   "metadata": {
    "heading_collapsed": true
   },
   "source": [
    "# 10.0 Cluster Analysis"
   ]
  },
  {
   "cell_type": "code",
   "execution_count": null,
   "id": "2499d92a",
   "metadata": {},
   "outputs": [
    {
     "data": {
      "text/html": [
       "<div>\n",
       "<style scoped>\n",
       "    .dataframe tbody tr th:only-of-type {\n",
       "        vertical-align: middle;\n",
       "    }\n",
       "\n",
       "    .dataframe tbody tr th {\n",
       "        vertical-align: top;\n",
       "    }\n",
       "\n",
       "    .dataframe thead th {\n",
       "        text-align: right;\n",
       "    }\n",
       "</style>\n",
       "<table border=\"1\" class=\"dataframe\">\n",
       "  <thead>\n",
       "    <tr style=\"text-align: right;\">\n",
       "      <th></th>\n",
       "      <th>embedding_x</th>\n",
       "      <th>embedding_y</th>\n",
       "      <th>cluster</th>\n",
       "    </tr>\n",
       "  </thead>\n",
       "  <tbody>\n",
       "    <tr>\n",
       "      <th>0</th>\n",
       "      <td>-7.710938</td>\n",
       "      <td>7.817896</td>\n",
       "      <td>1</td>\n",
       "    </tr>\n",
       "    <tr>\n",
       "      <th>1</th>\n",
       "      <td>-7.098626</td>\n",
       "      <td>9.921972</td>\n",
       "      <td>1</td>\n",
       "    </tr>\n",
       "    <tr>\n",
       "      <th>2</th>\n",
       "      <td>0.227572</td>\n",
       "      <td>17.649805</td>\n",
       "      <td>5</td>\n",
       "    </tr>\n",
       "    <tr>\n",
       "      <th>3</th>\n",
       "      <td>2.463838</td>\n",
       "      <td>-6.946425</td>\n",
       "      <td>3</td>\n",
       "    </tr>\n",
       "    <tr>\n",
       "      <th>4</th>\n",
       "      <td>20.882982</td>\n",
       "      <td>7.314658</td>\n",
       "      <td>7</td>\n",
       "    </tr>\n",
       "  </tbody>\n",
       "</table>\n",
       "</div>"
      ],
      "text/plain": [
       "   embedding_x  embedding_y  cluster\n",
       "0    -7.710938     7.817896        1\n",
       "1    -7.098626     9.921972        1\n",
       "2     0.227572    17.649805        5\n",
       "3     2.463838    -6.946425        3\n",
       "4    20.882982     7.314658        7"
      ]
     },
     "execution_count": 50,
     "metadata": {},
     "output_type": "execute_result"
    }
   ],
   "source": [
    "df10 = X.copy()\n",
    "df10['cluster'] = labels\n",
    "df10.head()"
   ]
  },
  {
   "cell_type": "markdown",
   "id": "e5586cd1",
   "metadata": {},
   "source": [
    "## 10.4 Cluster Profile"
   ]
  },
  {
   "cell_type": "code",
   "execution_count": null,
   "id": "72584429",
   "metadata": {},
   "outputs": [
    {
     "data": {
      "text/html": [
       "<div>\n",
       "<style scoped>\n",
       "    .dataframe tbody tr th:only-of-type {\n",
       "        vertical-align: middle;\n",
       "    }\n",
       "\n",
       "    .dataframe tbody tr th {\n",
       "        vertical-align: top;\n",
       "    }\n",
       "\n",
       "    .dataframe thead th {\n",
       "        text-align: right;\n",
       "    }\n",
       "</style>\n",
       "<table border=\"1\" class=\"dataframe\">\n",
       "  <thead>\n",
       "    <tr style=\"text-align: right;\">\n",
       "      <th></th>\n",
       "      <th>cluster</th>\n",
       "      <th>cluster_name</th>\n",
       "      <th>customer_id</th>\n",
       "      <th>perc_customer</th>\n",
       "      <th>gross_revenue</th>\n",
       "      <th>recency_days</th>\n",
       "      <th>qty_products</th>\n",
       "      <th>frequency</th>\n",
       "      <th>returns_ratio</th>\n",
       "    </tr>\n",
       "  </thead>\n",
       "  <tbody>\n",
       "    <tr>\n",
       "      <th>0</th>\n",
       "      <td>1</td>\n",
       "      <td>Insiders</td>\n",
       "      <td>416</td>\n",
       "      <td>7.323944</td>\n",
       "      <td>8299.488822</td>\n",
       "      <td>38.004808</td>\n",
       "      <td>244.173077</td>\n",
       "      <td>0.027744</td>\n",
       "      <td>0.014972</td>\n",
       "    </tr>\n",
       "    <tr>\n",
       "      <th>4</th>\n",
       "      <td>5</td>\n",
       "      <td>Loyal Customers</td>\n",
       "      <td>480</td>\n",
       "      <td>8.450704</td>\n",
       "      <td>5976.284792</td>\n",
       "      <td>40.052083</td>\n",
       "      <td>276.172917</td>\n",
       "      <td>0.030870</td>\n",
       "      <td>0.014057</td>\n",
       "    </tr>\n",
       "    <tr>\n",
       "      <th>1</th>\n",
       "      <td>2</td>\n",
       "      <td>Potential Loyalists</td>\n",
       "      <td>1045</td>\n",
       "      <td>18.397887</td>\n",
       "      <td>1864.093828</td>\n",
       "      <td>87.016268</td>\n",
       "      <td>144.840191</td>\n",
       "      <td>0.009118</td>\n",
       "      <td>0.011055</td>\n",
       "    </tr>\n",
       "    <tr>\n",
       "      <th>3</th>\n",
       "      <td>4</td>\n",
       "      <td>Promissing</td>\n",
       "      <td>413</td>\n",
       "      <td>7.271127</td>\n",
       "      <td>1006.376731</td>\n",
       "      <td>106.910412</td>\n",
       "      <td>82.353511</td>\n",
       "      <td>0.006745</td>\n",
       "      <td>0.010866</td>\n",
       "    </tr>\n",
       "    <tr>\n",
       "      <th>2</th>\n",
       "      <td>3</td>\n",
       "      <td>Need Attention</td>\n",
       "      <td>647</td>\n",
       "      <td>11.390845</td>\n",
       "      <td>722.784590</td>\n",
       "      <td>97.290572</td>\n",
       "      <td>55.729521</td>\n",
       "      <td>0.006588</td>\n",
       "      <td>0.008663</td>\n",
       "    </tr>\n",
       "    <tr>\n",
       "      <th>7</th>\n",
       "      <td>8</td>\n",
       "      <td>Hibernating</td>\n",
       "      <td>1400</td>\n",
       "      <td>24.647887</td>\n",
       "      <td>467.971243</td>\n",
       "      <td>135.263571</td>\n",
       "      <td>38.179286</td>\n",
       "      <td>0.004370</td>\n",
       "      <td>0.011303</td>\n",
       "    </tr>\n",
       "    <tr>\n",
       "      <th>6</th>\n",
       "      <td>7</td>\n",
       "      <td>Price Sensitive</td>\n",
       "      <td>660</td>\n",
       "      <td>11.619718</td>\n",
       "      <td>232.572364</td>\n",
       "      <td>181.074242</td>\n",
       "      <td>21.440909</td>\n",
       "      <td>0.003246</td>\n",
       "      <td>0.008394</td>\n",
       "    </tr>\n",
       "    <tr>\n",
       "      <th>5</th>\n",
       "      <td>6</td>\n",
       "      <td>Churn</td>\n",
       "      <td>619</td>\n",
       "      <td>10.897887</td>\n",
       "      <td>57.489305</td>\n",
       "      <td>196.901454</td>\n",
       "      <td>6.521809</td>\n",
       "      <td>0.002789</td>\n",
       "      <td>0.002412</td>\n",
       "    </tr>\n",
       "  </tbody>\n",
       "</table>\n",
       "</div>"
      ],
      "text/plain": [
       "   cluster         cluster_name  customer_id  perc_customer  gross_revenue  \\\n",
       "0        1             Insiders          416       7.323944    8299.488822   \n",
       "4        5      Loyal Customers          480       8.450704    5976.284792   \n",
       "1        2  Potential Loyalists         1045      18.397887    1864.093828   \n",
       "3        4          Promissing           413       7.271127    1006.376731   \n",
       "2        3       Need Attention          647      11.390845     722.784590   \n",
       "7        8          Hibernating         1400      24.647887     467.971243   \n",
       "6        7      Price Sensitive          660      11.619718     232.572364   \n",
       "5        6                Churn          619      10.897887      57.489305   \n",
       "\n",
       "   recency_days  qty_products  frequency  returns_ratio  \n",
       "0     38.004808    244.173077   0.027744       0.014972  \n",
       "4     40.052083    276.172917   0.030870       0.014057  \n",
       "1     87.016268    144.840191   0.009118       0.011055  \n",
       "3    106.910412     82.353511   0.006745       0.010866  \n",
       "2     97.290572     55.729521   0.006588       0.008663  \n",
       "7    135.263571     38.179286   0.004370       0.011303  \n",
       "6    181.074242     21.440909   0.003246       0.008394  \n",
       "5    196.901454      6.521809   0.002789       0.002412  "
      ]
     },
     "execution_count": 51,
     "metadata": {},
     "output_type": "execute_result"
    }
   ],
   "source": [
    "df10 = df_ref.reset_index( drop=True).copy()\n",
    "df10['cluster'] = labels\n",
    "\n",
    "# Number of customers\n",
    "df_cluster = df10[['customer_id', 'cluster']].groupby('cluster').count().reset_index()\n",
    "df_cluster['perc_customer'] = 100 * (df_cluster['customer_id'] / df_cluster['customer_id'].sum())\n",
    "\n",
    "# Avg Gross revenue\n",
    "df_avg_gross_revenue = df10[['gross_revenue', 'cluster']].groupby('cluster').mean().reset_index()\n",
    "df_cluster = pd.merge(df_cluster, df_avg_gross_revenue, how='inner', on='cluster')\n",
    "\n",
    "# Avg recency days\n",
    "df_avg_recency_days = df10[['recency_days', 'cluster']].groupby('cluster').mean().reset_index()\n",
    "df_cluster = pd.merge(df_cluster, df_avg_recency_days, how='inner', on='cluster')\n",
    "\n",
    "# Avg qty products\n",
    "df_avg_recency_days = df10[['qty_products', 'cluster']].groupby('cluster').mean().reset_index()\n",
    "df_cluster = pd.merge(df_cluster, df_avg_recency_days, how='inner', on='cluster')\n",
    "\n",
    "# Frequency\n",
    "df_invoice_no = df10[['frequency', 'cluster']].groupby('cluster').mean().reset_index()\n",
    "df_cluster = pd.merge(df_cluster, df_invoice_no, how='inner', on='cluster')\n",
    "\n",
    "# Returns ratio\n",
    "df_ticket = df10[['returns_ratio', 'cluster']].groupby('cluster').mean().reset_index()\n",
    "df_cluster = pd.merge(df_cluster, df_ticket, how='inner', on='cluster')\n",
    "\n",
    "# Cluster names from RFM Model\n",
    "names = {1 : \"Insiders\",\n",
    "         5 : \"Loyal Customers\",\n",
    "         2 : \"Potential Loyalists\",\n",
    "         4 : \"Promissing \",\n",
    "         3 : \"Need Attention\",\n",
    "         8 : \"Hibernating\",\n",
    "         7 : \"Price Sensitive\",\n",
    "         6 : \"Churn\"}\n",
    "df_cluster['cluster_name'] = df_cluster['cluster'].map(names)\n",
    "\n",
    "df_cluster[['cluster', 'cluster_name', 'customer_id', 'perc_customer', 'gross_revenue', 'recency_days', 'qty_products',\t'frequency', 'returns_ratio']].sort_values('gross_revenue', ascending=False)"
   ]
  },
  {
   "cell_type": "markdown",
   "id": "15e0e6ae",
   "metadata": {},
   "source": [
    "# 12.0 Deploy model to production"
   ]
  },
  {
   "cell_type": "code",
   "execution_count": null,
   "id": "c3da8de7",
   "metadata": {},
   "outputs": [
    {
     "data": {
      "text/plain": [
       "customer_id                 int64\n",
       "gross_revenue             float64\n",
       "recency_days              float64\n",
       "qty_invoices              float64\n",
       "qty_items                 float64\n",
       "qty_products              float64\n",
       "avg_ticket                float64\n",
       "frequency                 float64\n",
       "qty_returns               float64\n",
       "returns_ratio             float64\n",
       "avg_basket_size           float64\n",
       "avg_unique_basket_size    float64\n",
       "period_of_buy_day          object\n",
       "period_of_buy_quarter       int64\n",
       "country                    object\n",
       "cluster                     int32\n",
       "dtype: object"
      ]
     },
     "execution_count": 52,
     "metadata": {},
     "output_type": "execute_result"
    }
   ],
   "source": [
    "df10.dtypes"
   ]
  },
  {
   "cell_type": "code",
   "execution_count": null,
   "id": "0729df21",
   "metadata": {},
   "outputs": [],
   "source": [
    "df10['recency_days'] = df10['recency_days'].astype('int64')\n",
    "df10['qty_invoices'] = df10['qty_invoices'].astype('int64')\n",
    "df10['qty_items'] = df10['qty_items'].astype('int64')\n",
    "df10['qty_products'] = df10['qty_products'].astype('int64')\n",
    "df10['qty_returns'] = df10['qty_returns'].astype('int64')\n",
    "df10['cluster'] = df10['cluster'].astype('int64')"
   ]
  },
  {
   "cell_type": "code",
   "execution_count": null,
   "id": "31c202dc",
   "metadata": {},
   "outputs": [
    {
     "data": {
      "text/plain": [
       "[('pg_toast',), ('pg_catalog',), ('information_schema',), ('public',)]"
      ]
     },
     "execution_count": 92,
     "metadata": {},
     "output_type": "execute_result"
    }
   ],
   "source": [
    "# Credentials\n",
    "db_acess =  open('/.aws/dbacess', 'r')\n",
    "host = db_acess.readlines()[0][:-1]\n",
    "\n",
    "db_acess =  open('/.aws/dbacess', 'r')\n",
    "port = db_acess.readlines()[1][:-1]\n",
    "\n",
    "db_acess =  open('/.aws/dbacess', 'r')\n",
    "database = db_acess.readlines()[2][:-1]\n",
    "\n",
    "db_acess =  open('/.aws/dbacess', 'r')\n",
    "username = db_acess.readlines()[3][:-1]\n",
    "\n",
    "db_acess =  open('/.aws/dbacess', 'r')\n",
    "password = db_acess.readlines()[4]\n",
    "\n",
    "\n",
    "# Acess database\n",
    "conn = pg.connect(user=username,\n",
    "                  password=password,\n",
    "                  host=host,\n",
    "                  port=port,\n",
    "                  database=database)\n",
    "\n",
    "# Make a cursor into database\n",
    "cursor = conn.cursor()\n",
    "\n",
    "# Verify all schemas\n",
    "query_schema = \"\"\"\n",
    "    SELECT nspname\n",
    "    FROM pg_catalog.pg_namespace\n",
    "    \"\"\"\n",
    "\n",
    "cursor.execute(query_schema)\n",
    "record = cursor.fetchall()\n",
    "record"
   ]
  },
  {
   "cell_type": "code",
   "execution_count": null,
   "id": "d71422d6",
   "metadata": {},
   "outputs": [
    {
     "data": {
      "text/plain": [
       "[('insiders',)]"
      ]
     },
     "execution_count": 79,
     "metadata": {},
     "output_type": "execute_result"
    }
   ],
   "source": [
    "# Verify tables from the schema\n",
    "query_tables = \"\"\"\n",
    "    SELECT tablename\n",
    "    FROM pg_tables\n",
    "    WHERE schemaname='public'\n",
    "    \"\"\"\n",
    "\n",
    "cursor.execute(query_tables)\n",
    "record = cursor.fetchall()\n",
    "record"
   ]
  },
  {
   "cell_type": "code",
   "execution_count": null,
   "id": "f7df5d45",
   "metadata": {},
   "outputs": [
    {
     "name": "stderr",
     "output_type": "stream",
     "text": [
      "f:\\SamuelOliveiraAlvesd\\Anaconda3\\envs\\clustering_insiders\\lib\\site-packages\\pandas\\io\\sql.py:761: UserWarning: pandas only support SQLAlchemy connectable(engine/connection) ordatabase string URI or sqlite3 DBAPI2 connectionother DBAPI2 objects are not tested, please consider using SQLAlchemy\n",
      "  warnings.warn(\n"
     ]
    },
    {
     "data": {
      "text/html": [
       "<div>\n",
       "<style scoped>\n",
       "    .dataframe tbody tr th:only-of-type {\n",
       "        vertical-align: middle;\n",
       "    }\n",
       "\n",
       "    .dataframe tbody tr th {\n",
       "        vertical-align: top;\n",
       "    }\n",
       "\n",
       "    .dataframe thead th {\n",
       "        text-align: right;\n",
       "    }\n",
       "</style>\n",
       "<table border=\"1\" class=\"dataframe\">\n",
       "  <thead>\n",
       "    <tr style=\"text-align: right;\">\n",
       "      <th></th>\n",
       "      <th>customer_id</th>\n",
       "      <th>gross_revenue</th>\n",
       "      <th>recency_days</th>\n",
       "      <th>qty_invoices</th>\n",
       "      <th>qty_items</th>\n",
       "      <th>qty_products</th>\n",
       "      <th>avg_ticket</th>\n",
       "      <th>frequency</th>\n",
       "      <th>qty_returns</th>\n",
       "      <th>returns_ratio</th>\n",
       "      <th>avg_basket_size</th>\n",
       "      <th>avg_unique_basket_size</th>\n",
       "      <th>period_of_buy_day</th>\n",
       "      <th>period_of_buy_quarter</th>\n",
       "      <th>country</th>\n",
       "      <th>cluster</th>\n",
       "    </tr>\n",
       "  </thead>\n",
       "  <tbody>\n",
       "    <tr>\n",
       "      <th>0</th>\n",
       "      <td>17850</td>\n",
       "      <td>5391.21</td>\n",
       "      <td>372</td>\n",
       "      <td>34</td>\n",
       "      <td>1733</td>\n",
       "      <td>297</td>\n",
       "      <td>18.152222</td>\n",
       "      <td>0.091153</td>\n",
       "      <td>40</td>\n",
       "      <td>0.023081</td>\n",
       "      <td>50.970590</td>\n",
       "      <td>0.617647</td>\n",
       "      <td>after_20</td>\n",
       "      <td>4</td>\n",
       "      <td>United Kingdom</td>\n",
       "      <td>1</td>\n",
       "    </tr>\n",
       "    <tr>\n",
       "      <th>1</th>\n",
       "      <td>13047</td>\n",
       "      <td>3232.59</td>\n",
       "      <td>56</td>\n",
       "      <td>9</td>\n",
       "      <td>1390</td>\n",
       "      <td>171</td>\n",
       "      <td>18.904036</td>\n",
       "      <td>0.024129</td>\n",
       "      <td>35</td>\n",
       "      <td>0.025180</td>\n",
       "      <td>154.444440</td>\n",
       "      <td>11.666667</td>\n",
       "      <td>after_20</td>\n",
       "      <td>4</td>\n",
       "      <td>United Kingdom</td>\n",
       "      <td>1</td>\n",
       "    </tr>\n",
       "    <tr>\n",
       "      <th>2</th>\n",
       "      <td>12583</td>\n",
       "      <td>6705.38</td>\n",
       "      <td>2</td>\n",
       "      <td>15</td>\n",
       "      <td>5028</td>\n",
       "      <td>232</td>\n",
       "      <td>28.902500</td>\n",
       "      <td>0.040214</td>\n",
       "      <td>50</td>\n",
       "      <td>0.009944</td>\n",
       "      <td>335.200000</td>\n",
       "      <td>7.600000</td>\n",
       "      <td>before_11</td>\n",
       "      <td>4</td>\n",
       "      <td>France</td>\n",
       "      <td>5</td>\n",
       "    </tr>\n",
       "    <tr>\n",
       "      <th>3</th>\n",
       "      <td>13748</td>\n",
       "      <td>948.25</td>\n",
       "      <td>95</td>\n",
       "      <td>5</td>\n",
       "      <td>439</td>\n",
       "      <td>28</td>\n",
       "      <td>33.866070</td>\n",
       "      <td>0.013405</td>\n",
       "      <td>0</td>\n",
       "      <td>0.000000</td>\n",
       "      <td>87.800000</td>\n",
       "      <td>4.800000</td>\n",
       "      <td>before_11</td>\n",
       "      <td>3</td>\n",
       "      <td>United Kingdom</td>\n",
       "      <td>3</td>\n",
       "    </tr>\n",
       "    <tr>\n",
       "      <th>4</th>\n",
       "      <td>15100</td>\n",
       "      <td>876.00</td>\n",
       "      <td>333</td>\n",
       "      <td>3</td>\n",
       "      <td>80</td>\n",
       "      <td>3</td>\n",
       "      <td>292.000000</td>\n",
       "      <td>0.008043</td>\n",
       "      <td>22</td>\n",
       "      <td>0.275000</td>\n",
       "      <td>26.666666</td>\n",
       "      <td>0.333333</td>\n",
       "      <td>before_11</td>\n",
       "      <td>4</td>\n",
       "      <td>United Kingdom</td>\n",
       "      <td>7</td>\n",
       "    </tr>\n",
       "  </tbody>\n",
       "</table>\n",
       "</div>"
      ],
      "text/plain": [
       "   customer_id  gross_revenue  recency_days  qty_invoices  qty_items  \\\n",
       "0        17850        5391.21           372            34       1733   \n",
       "1        13047        3232.59            56             9       1390   \n",
       "2        12583        6705.38             2            15       5028   \n",
       "3        13748         948.25            95             5        439   \n",
       "4        15100         876.00           333             3         80   \n",
       "\n",
       "   qty_products  avg_ticket  frequency  qty_returns  returns_ratio  \\\n",
       "0           297   18.152222   0.091153           40       0.023081   \n",
       "1           171   18.904036   0.024129           35       0.025180   \n",
       "2           232   28.902500   0.040214           50       0.009944   \n",
       "3            28   33.866070   0.013405            0       0.000000   \n",
       "4             3  292.000000   0.008043           22       0.275000   \n",
       "\n",
       "   avg_basket_size  avg_unique_basket_size period_of_buy_day  \\\n",
       "0        50.970590                0.617647          after_20   \n",
       "1       154.444440               11.666667          after_20   \n",
       "2       335.200000                7.600000         before_11   \n",
       "3        87.800000                4.800000         before_11   \n",
       "4        26.666666                0.333333         before_11   \n",
       "\n",
       "   period_of_buy_quarter         country  cluster  \n",
       "0                      4  United Kingdom        1  \n",
       "1                      4  United Kingdom        1  \n",
       "2                      4          France        5  \n",
       "3                      3  United Kingdom        3  \n",
       "4                      4  United Kingdom        7  "
      ]
     },
     "execution_count": 80,
     "metadata": {},
     "output_type": "execute_result"
    }
   ],
   "source": [
    "# Collect tables into datafram\n",
    "query_tables_insurance = \"\"\"\n",
    "    SELECT *\n",
    "    FROM insiders\n",
    "    \"\"\"\n",
    "\n",
    "df_test = pd.read_sql(query_tables_insurance, con=conn)\n",
    "\n",
    "# close connection into database\n",
    "cursor.close()\n",
    "conn.close()\n",
    "\n",
    "df_test.head()"
   ]
  },
  {
   "cell_type": "code",
   "execution_count": null,
   "id": "2ddd3abd",
   "metadata": {},
   "outputs": [
    {
     "data": {
      "text/plain": [
       "<sqlalchemy.engine.cursor.LegacyCursorResult at 0x23b6761a910>"
      ]
     },
     "execution_count": 65,
     "metadata": {},
     "output_type": "execute_result"
    }
   ],
   "source": [
    "#saving into db\n",
    "#df10.to_sql( 'insiders', con=conn, if_exists='append', index=False )"
   ]
  }
 ],
 "metadata": {
  "kernelspec": {
   "display_name": "Python 3.9.13 ('clustering_insiders')",
   "language": "python",
   "name": "python3"
  },
  "language_info": {
   "codemirror_mode": {
    "name": "ipython",
    "version": 3
   },
   "file_extension": ".py",
   "mimetype": "text/x-python",
   "name": "python",
   "nbconvert_exporter": "python",
   "pygments_lexer": "ipython3",
   "version": "3.9.13"
  },
  "vscode": {
   "interpreter": {
    "hash": "e08a737ba6124f6a5d6ff895849d863413ccabb69f6abd91b4f0ef8929a592df"
   }
  }
 },
 "nbformat": 4,
 "nbformat_minor": 5
}
