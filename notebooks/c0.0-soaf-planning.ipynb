{
 "cells": [
  {
   "cell_type": "markdown",
   "id": "931523ab",
   "metadata": {},
   "source": [
    "# High Value Customer Identification"
   ]
  },
  {
   "cell_type": "markdown",
   "id": "6387e5b2",
   "metadata": {},
   "source": [
    "# Planejamento da Solução"
   ]
  },
  {
   "cell_type": "markdown",
   "id": "9d86d61f",
   "metadata": {},
   "source": [
    "## Input - Entrada\n",
    "\n",
    "### Problema de Negócio\n",
    "\n",
    "1. Selecionar os mais valiosos clientes para formar o programa de fidelidade **\"INSIDERS\"**\n",
    "2. Conjunto de dados com as vendas de produtos durante 1 ano ( Nov 2015 to Dec 2017 )\n",
    "\n",
    "\n",
    "## Output - Saída\n",
    " \n",
    "1. A indicação de pessoas para fazer parte do programa de fidelidade **\"INSIDERS\"**.\n",
    "2. Relatório com as respostas para as seguintes perguntas:\n",
    "    - Quem são as pessoas elegíveis para participar do programa de Insiders ?\n",
    "    - Quantos clientes farão parte do grupo?Quais as principais características desses clientes ?\n",
    "    - Qual a porcentagem de contribuição do faturamento, vinda do Insiders ?\n",
    "    - Qual a expectativa de faturamento desse grupo para os próximos meses ?\n",
    "    - Quais as condições para uma pessoa ser elegível ao Insiders ?\n",
    "    - Quais as condições para uma pessoa ser removida do Insiders ?\n",
    "    - Qual a garantia que o programa Insiders é melhor que o restante da base ?\n",
    "    - Quais ações o time de marketing pode realizar para aumentar o faturamento?\n",
    "\n",
    "## Tasks - Processo\n",
    "\n",
    "1. Quem são as pessoas elegíveis para participar do programa de Insiders ?\n",
    "\n",
    "    - O que é ser elegível ? O que é um cliente \"valioso\" para a empresa ?\n",
    "        - Faturamento:\n",
    "            - Alto Ticket Médio\n",
    "            - Alto LTV\n",
    "            - Baixa Recência ou Alta Frequência ( tempo entre as compras ) \n",
    "            - Alto Basket Size ( quantidade média de produtos comprados )\n",
    "            - Baixa probabilidade de Churn\n",
    "            - Previsão alta de LTV\n",
    "            - Alta propensão de compra\n",
    "        #\n",
    "        - Custo:\n",
    "            - Baixo número de devoluções\n",
    "        #\n",
    "        - Experiência:  \n",
    "            - Média alta de avaliações\n",
    "\n",
    "#\n",
    "2. Quantos clientes farão parte do grupo?\n",
    "\n",
    "    - Número de clientes\n",
    "    - % em relação ao total de clientes\n",
    "\n",
    "#\n",
    "3. Quais as principais características desses clientes?\n",
    "    - Escrever os principais atributos dos clientes\n",
    "        - Idade\n",
    "        - País\n",
    "        - Salário\n",
    "    #\n",
    "    - Escrever os principais comportamentos de compra dos clientes ( métricas de negócio )\n",
    "        - Vide acima\n",
    "\n",
    "#\n",
    "4. Qual a porcentagem de contribuição do faturamento, vinda do Insiders ?\n",
    "\n",
    "    - Calcular o faturamento total da empresa durante o ano.\n",
    "    - Calcular o faturamento (%) apenas do cluster Insiders.\n",
    "\n",
    "#\n",
    "5. Qual a expectativa de faturamento desse grupo para os próximos meses ?\n",
    "\n",
    "    - Cálculo do LTV do grupo Insiders\n",
    "    - Séries Temporais ( ARMA, ARIMA, HoltWinter, etc )\n",
    "\n",
    "#\n",
    "6. Quais as condições para uma pessoa ser elegível ao Insiders ?\n",
    "\n",
    "    - Qual o período de avaliação ?\n",
    "    - O \"desempenho\" do cliente está próximo da média do cluster Insiders.\n",
    "\n",
    "#\n",
    "7. Quais as condições para uma pessoa ser removida do Insiders ?\n",
    "\n",
    "    - O \"desempenho\" do cliente não está mais próximo da média do cluster Insiders.\n",
    "\n",
    "#\n",
    "8. Qual a garantia que o programa Insiders é melhor que o restante da base ?\n",
    "\n",
    "    - Teste de Hipóteses\n",
    "    - Teste A/B\n",
    "\n",
    "#\n",
    "9. Quais ações o time de marketing pode realizar para aumentar o faturamento?\n",
    "\n",
    "    - Descontos\n",
    "    - Preferências de escolha\n",
    "    - Produtos exclusivos"
   ]
  },
  {
   "cell_type": "markdown",
   "id": "2d71cea6",
   "metadata": {
    "heading_collapsed": true
   },
   "source": [
    "# 0.0 Imports"
   ]
  },
  {
   "cell_type": "code",
   "execution_count": 5,
   "id": "30cd2ec5",
   "metadata": {
    "ExecuteTime": {
     "end_time": "2022-08-07T17:19:52.538335Z",
     "start_time": "2022-08-07T17:19:52.524353Z"
    },
    "hidden": true,
    "scrolled": true
   },
   "outputs": [],
   "source": [
    "import pickle\n",
    "import warnings\n",
    "import numpy as np\n",
    "import pandas as pd\n",
    "import seaborn as sns\n",
    "\n",
    "from matplotlib import pyplot as plt\n",
    "from IPython.display import Image\n",
    "from matplotlib.gridspec import GridSpec"
   ]
  },
  {
   "cell_type": "markdown",
   "id": "a2160e14",
   "metadata": {
    "hidden": true
   },
   "source": [
    "## 0.1 Helper Functions"
   ]
  },
  {
   "cell_type": "code",
   "execution_count": 6,
   "id": "0688375c",
   "metadata": {
    "ExecuteTime": {
     "end_time": "2022-08-07T17:19:54.917831Z",
     "start_time": "2022-08-07T17:19:54.907837Z"
    },
    "hidden": true
   },
   "outputs": [],
   "source": [
    "def notebook_settings():\n",
    "    '''Define configurations for notebook, matplotlib and Pandas.'''\n",
    "    %matplotlib inline\n",
    "    plt.style.use('bmh')\n",
    "    plt.rcParams['figure.figsize'] = [25,10]\n",
    "    plt.rcParams['font.size'] = 24\n",
    "    plt.rcParams['figure.dpi'] = 100\n",
    "    \n",
    "    pd.set_option('display.float_format', lambda x: '%.3f' % x)\n",
    "    \n",
    "    # ignore future warnings\n",
    "    warnings.filterwarnings('ignore')\n",
    "    \n",
    "    sns.set()"
   ]
  },
  {
   "cell_type": "code",
   "execution_count": 7,
   "id": "8f7a9082",
   "metadata": {
    "ExecuteTime": {
     "end_time": "2022-08-07T17:19:55.584457Z",
     "start_time": "2022-08-07T17:19:55.571950Z"
    },
    "hidden": true
   },
   "outputs": [
    {
     "data": {
      "text/html": [
       "<style>.container{width:100% !important; }</style>"
      ],
      "text/plain": [
       "<IPython.core.display.HTML object>"
      ]
     },
     "metadata": {},
     "output_type": "display_data"
    }
   ],
   "source": [
    "jupyter_settings()"
   ]
  },
  {
   "cell_type": "markdown",
   "id": "80ead6f6",
   "metadata": {
    "hidden": true
   },
   "source": [
    "## 0.2 Load Data"
   ]
  },
  {
   "cell_type": "markdown",
   "id": "981d6e99",
   "metadata": {},
   "source": [
    "# 1.0 Descrição dos dados"
   ]
  },
  {
   "cell_type": "markdown",
   "id": "448c31e3",
   "metadata": {},
   "source": [
    "## 1.1 Rename Columns"
   ]
  },
  {
   "cell_type": "markdown",
   "id": "e41af19b",
   "metadata": {},
   "source": [
    "## 1.2 Data Dimension"
   ]
  },
  {
   "cell_type": "markdown",
   "id": "dcf4658f",
   "metadata": {},
   "source": [
    "## 1.3 Data Types"
   ]
  },
  {
   "cell_type": "markdown",
   "id": "ade944bf",
   "metadata": {},
   "source": [
    "## 1.4 Check NA"
   ]
  },
  {
   "cell_type": "markdown",
   "id": "8c58285a",
   "metadata": {},
   "source": [
    "## 1.5 Fillout NA"
   ]
  },
  {
   "cell_type": "markdown",
   "id": "a9ab69b9",
   "metadata": {},
   "source": [
    "## 1.6 Change Types"
   ]
  },
  {
   "cell_type": "markdown",
   "id": "3e16a2f1",
   "metadata": {},
   "source": [
    "## 1.7 Descriptive Statistical"
   ]
  },
  {
   "cell_type": "markdown",
   "id": "b10f4885",
   "metadata": {},
   "source": [
    "### 1.7.1 Numerical Attributes"
   ]
  },
  {
   "cell_type": "markdown",
   "id": "bb84e62f",
   "metadata": {},
   "source": [
    "### 1.7.2 Categorical Attributes"
   ]
  },
  {
   "cell_type": "markdown",
   "id": "055dd8b4",
   "metadata": {
    "heading_collapsed": true
   },
   "source": [
    "# 2.0 Feature Engineering"
   ]
  },
  {
   "cell_type": "markdown",
   "id": "9633ceab",
   "metadata": {
    "hidden": true
   },
   "source": [
    "## 2.1 MindMap Hypothesis"
   ]
  },
  {
   "cell_type": "markdown",
   "id": "40e3538c",
   "metadata": {
    "hidden": true
   },
   "source": [
    "## 2.1.1 Hipóteses Loja"
   ]
  },
  {
   "cell_type": "markdown",
   "id": "2c544499",
   "metadata": {
    "hidden": true
   },
   "source": [
    "## 2.1.2 Hipóteses Produto"
   ]
  },
  {
   "cell_type": "markdown",
   "id": "12a328d9",
   "metadata": {
    "hidden": true
   },
   "source": [
    "## 2.1.3 Hipóteses Tempo"
   ]
  },
  {
   "cell_type": "markdown",
   "id": "85cd3a1e",
   "metadata": {
    "hidden": true
   },
   "source": [
    "## 2.2 Lista final de hipóteses"
   ]
  },
  {
   "cell_type": "markdown",
   "id": "cb69af25",
   "metadata": {
    "ExecuteTime": {
     "end_time": "2022-06-28T22:48:30.723509Z",
     "start_time": "2022-06-28T22:48:30.719497Z"
    },
    "hidden": true
   },
   "source": [
    "## 2.3 Feature Engineering"
   ]
  },
  {
   "cell_type": "markdown",
   "id": "ec78c4ac",
   "metadata": {
    "heading_collapsed": true
   },
   "source": [
    "# 3.0 Filtragem de variáveis"
   ]
  },
  {
   "cell_type": "markdown",
   "id": "0b53506a",
   "metadata": {
    "hidden": true
   },
   "source": [
    "## 3.1 Filtragem das linhas"
   ]
  },
  {
   "cell_type": "markdown",
   "id": "f9a11fe4",
   "metadata": {
    "hidden": true
   },
   "source": [
    "## 3.2 Seleção das colunas"
   ]
  },
  {
   "cell_type": "markdown",
   "id": "704534ab",
   "metadata": {
    "heading_collapsed": true
   },
   "source": [
    "# 4.0 Análise exploratória dos dados"
   ]
  },
  {
   "cell_type": "markdown",
   "id": "afa98844",
   "metadata": {
    "heading_collapsed": true,
    "hidden": true
   },
   "source": [
    "## 4.1 Análise Univariada"
   ]
  },
  {
   "cell_type": "markdown",
   "id": "064eb74a",
   "metadata": {
    "hidden": true,
    "hide_input": true
   },
   "source": [
    "### 4.1.1 Response Variable"
   ]
  },
  {
   "cell_type": "markdown",
   "id": "8316e110",
   "metadata": {
    "hidden": true
   },
   "source": [
    "### 4.1.2 Numerical Variable"
   ]
  },
  {
   "cell_type": "markdown",
   "id": "035308ac",
   "metadata": {
    "hidden": true
   },
   "source": [
    "### 4.1.3 Categorical Variable"
   ]
  },
  {
   "cell_type": "markdown",
   "id": "4e41990f",
   "metadata": {
    "heading_collapsed": true,
    "hidden": true
   },
   "source": [
    "## 4.2 Análise Bivariada"
   ]
  },
  {
   "cell_type": "markdown",
   "id": "b8c66771",
   "metadata": {
    "hidden": true,
    "hide_input": true
   },
   "source": [
    "### H1. Lojas com maior sortimento deveriam vender mais na media.\n",
    "\n",
    "**VERDADEIRA** Lojas com MAIOR SORTIMENTO vendem em média MAIS"
   ]
  },
  {
   "cell_type": "markdown",
   "id": "7bc430a6",
   "metadata": {
    "hidden": true
   },
   "source": [
    "### 4.2.1 Resumo das Hipóteses"
   ]
  },
  {
   "cell_type": "markdown",
   "id": "6db63bc8",
   "metadata": {
    "heading_collapsed": true,
    "hidden": true
   },
   "source": [
    "## 4.3 Análise Multivariada"
   ]
  },
  {
   "cell_type": "markdown",
   "id": "03a22244",
   "metadata": {
    "heading_collapsed": true,
    "hidden": true
   },
   "source": [
    "### 4.3.1 Atributos numéricos"
   ]
  },
  {
   "cell_type": "markdown",
   "id": "c4e28719",
   "metadata": {
    "heading_collapsed": true,
    "hidden": true,
    "hide_input": true
   },
   "source": [
    "### 4.3.2 Atributos categóricos"
   ]
  },
  {
   "cell_type": "markdown",
   "id": "6507ed05",
   "metadata": {
    "heading_collapsed": true
   },
   "source": [
    "# 5.0 Preparação dos dados"
   ]
  },
  {
   "cell_type": "markdown",
   "id": "6a30c4c0",
   "metadata": {
    "heading_collapsed": true,
    "hidden": true
   },
   "source": [
    "## 5.1 Normalização"
   ]
  },
  {
   "cell_type": "markdown",
   "id": "feeb6c7a",
   "metadata": {
    "hidden": true
   },
   "source": [
    "## 5.2 Rescaling"
   ]
  },
  {
   "cell_type": "markdown",
   "id": "0806fc19",
   "metadata": {
    "hidden": true
   },
   "source": [
    "## 5.3 Transformação"
   ]
  },
  {
   "cell_type": "markdown",
   "id": "1d7f68ec",
   "metadata": {
    "hidden": true
   },
   "source": [
    "### 5.3.1 Encoding"
   ]
  },
  {
   "cell_type": "markdown",
   "id": "536bed4b",
   "metadata": {
    "hidden": true
   },
   "source": [
    "### 5.3.2 Response Variable Transformation"
   ]
  },
  {
   "cell_type": "markdown",
   "id": "8c781c18",
   "metadata": {
    "hidden": true
   },
   "source": [
    "### 5.3.3 Nature Transformation"
   ]
  },
  {
   "cell_type": "markdown",
   "id": "d33ae462",
   "metadata": {
    "heading_collapsed": true
   },
   "source": [
    "# 6.0 Feature Selection"
   ]
  },
  {
   "cell_type": "markdown",
   "id": "7c158bd2",
   "metadata": {
    "hidden": true
   },
   "source": [
    "## 6.1 Split Dataframe into training and test dataset"
   ]
  },
  {
   "cell_type": "markdown",
   "id": "17f3e01b",
   "metadata": {
    "hidden": true
   },
   "source": [
    "## 6.2 Boruta as feature selector"
   ]
  },
  {
   "cell_type": "markdown",
   "id": "4ec35f11",
   "metadata": {
    "hidden": true
   },
   "source": [
    "## 6.3 Manual Feature Selection"
   ]
  },
  {
   "cell_type": "markdown",
   "id": "6b4a5ec5",
   "metadata": {
    "heading_collapsed": true
   },
   "source": [
    "# 7.0 Machine Learning Modeling"
   ]
  },
  {
   "cell_type": "markdown",
   "id": "87470d4d",
   "metadata": {
    "hidden": true
   },
   "source": [
    "## 7.1 Average model"
   ]
  },
  {
   "cell_type": "markdown",
   "id": "e573d0f9",
   "metadata": {
    "hidden": true
   },
   "source": [
    "## 7.2 Linear Regression Model"
   ]
  },
  {
   "cell_type": "markdown",
   "id": "4b9c69ef",
   "metadata": {
    "hidden": true
   },
   "source": [
    "## 7.3 Linear Regression Regularized Model"
   ]
  },
  {
   "cell_type": "markdown",
   "id": "7a22d37e",
   "metadata": {
    "hidden": true
   },
   "source": [
    "## 7.4 Random Forest Regressor"
   ]
  },
  {
   "cell_type": "markdown",
   "id": "30e5002d",
   "metadata": {
    "hidden": true
   },
   "source": [
    "## 7.5 XGBoost Regressor"
   ]
  },
  {
   "cell_type": "markdown",
   "id": "64313ae5",
   "metadata": {
    "hidden": true
   },
   "source": [
    "## 7.6 Compare Model's Performance"
   ]
  },
  {
   "cell_type": "markdown",
   "id": "35b760a3",
   "metadata": {
    "hidden": true
   },
   "source": [
    "### 7.6.2 Real Performance - Cross Validation"
   ]
  },
  {
   "cell_type": "markdown",
   "id": "e3b5a0c7",
   "metadata": {
    "heading_collapsed": true
   },
   "source": [
    "# 8.0 Hyper Parameter Fine Tunning"
   ]
  },
  {
   "cell_type": "markdown",
   "id": "6abc1a7d",
   "metadata": {
    "hidden": true
   },
   "source": [
    "## 8.1 Random Search"
   ]
  },
  {
   "cell_type": "markdown",
   "id": "2465dd02",
   "metadata": {
    "hidden": true
   },
   "source": [
    "## 8.2 Final Model"
   ]
  },
  {
   "cell_type": "markdown",
   "id": "cb72c978",
   "metadata": {
    "heading_collapsed": true
   },
   "source": [
    "# 9.0 Tradução e interpretação do erro"
   ]
  },
  {
   "cell_type": "markdown",
   "id": "00a0a910",
   "metadata": {
    "hidden": true
   },
   "source": [
    "## 9.1 Bussiness Performance"
   ]
  },
  {
   "cell_type": "markdown",
   "id": "e7d2d201",
   "metadata": {
    "hidden": true
   },
   "source": [
    "## 9.2 Total Performance"
   ]
  },
  {
   "cell_type": "markdown",
   "id": "8e6c634c",
   "metadata": {
    "hidden": true
   },
   "source": [
    "## 9.3 Machine Learning Performance"
   ]
  },
  {
   "cell_type": "markdown",
   "id": "15e0e6ae",
   "metadata": {},
   "source": [
    "# 10.0 Deploy model to production"
   ]
  }
 ],
 "metadata": {
  "kernelspec": {
   "display_name": "Python 3.9.12 ('Insiders_Clustering')",
   "language": "python",
   "name": "python3"
  },
  "language_info": {
   "codemirror_mode": {
    "name": "ipython",
    "version": 3
   },
   "file_extension": ".py",
   "mimetype": "text/x-python",
   "name": "python",
   "nbconvert_exporter": "python",
   "pygments_lexer": "ipython3",
   "version": "3.9.12"
  },
  "vscode": {
   "interpreter": {
    "hash": "adfaad6e470a701daf950a22ac1f76ab1a3a6678259863d4662e6715880f0af2"
   }
  }
 },
 "nbformat": 4,
 "nbformat_minor": 5
}
